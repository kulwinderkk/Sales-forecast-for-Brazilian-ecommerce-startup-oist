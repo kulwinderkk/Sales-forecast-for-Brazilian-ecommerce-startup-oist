{
 "cells": [
  {
   "cell_type": "markdown",
   "id": "21e34ee4",
   "metadata": {},
   "source": [
    "# Brazilian Ecommerce Olist data collection and pre-processing"
   ]
  },
  {
   "cell_type": "markdown",
   "id": "84de6e2a",
   "metadata": {},
   "source": [
    "The data is collected from [Kaggle](https://www.kaggle.com/datasets/olistbr/brazilian-ecommerce). This dataset consists of real transaction data of 100k orders from 2016 to 2018 made at multiple marketplaces in Brazil. \n",
    "\n",
    "We have a total of nine CSV files and below is the data diagram:\n",
    "<figure>\n",
    "<img src=\"kaggel olist data.png\" style=\"width:100%\">\n",
    "<figcaption align = \"center\"> Source of the image:https://www.kaggle.com/datasets/olistbr/brazilian-ecommerce </figcaption>\n",
    "</figure>\n",
    "\n",
    "**Our aim in this notbook is:**\n",
    "- To get a high level picture of dataset we have.\n",
    "- Check for null and duplicates.\n",
    "- Preserve as much data and information as we can using imputation so that we can do time series forecasting, do broad level analysis and later apply other machine learning modelling as this data has lots of vital information for the business.\n",
    "- Create a final data wireframe after merging all the individual dataset."
   ]
  },
  {
   "cell_type": "markdown",
   "id": "d1bd1652",
   "metadata": {},
   "source": [
    "# Index\n",
    "\n",
    "[1. Importing Libraries](#Importing_libraries) </br>\n",
    "[2. Importing Data](#Importing_Data)</br>\n",
    "[3. Reading each dataframe separately](#reading) </br>\n",
    "$\\;\\;\\;\\;$    [3.1 Customer Dataset](#customer_dataset)</br>\n",
    "$\\;\\;\\;\\;$    [3.2 Geoloc Dataset](#geoloc_dataset) </br>\n",
    "$\\;\\;\\;\\;$    [3.3 Seller Dataset](#seller_dataset) </br>\n",
    "$\\;\\;\\;\\;$    [3.4 Payments Dataset](#payment_dataset) </br>\n",
    "$\\;\\;\\;\\;$    [3.5 Order item Dataset](#order_item_dataset) </br>\n",
    "$\\;\\;\\;\\;$    [3.6 Order Dataset](#order_dataset) </br>\n",
    "$\\;\\;\\;\\;$    [3.7 Product Dataset](#product_dataset) </br>\n",
    "$\\;\\;\\;\\;$    [3.8 Review Dataset](#review_dataset) </br>\n",
    "$\\;\\;\\;\\;$    [3.9 Product_eng Dataset](#eng_dataset) </br>\n",
    "[4. Joining all the tables](#joining_tables)</br>\n",
    "[5. Scraping holiday data](#scraping) </br>"
   ]
  },
  {
   "cell_type": "markdown",
   "id": "a6ab239c",
   "metadata": {},
   "source": [
    "## 1. Importing Libraries\n",
    "\n",
    "<a id = 'Importing_libraries' ></a>"
   ]
  },
  {
   "cell_type": "code",
   "execution_count": 1,
   "id": "3e7b6d96",
   "metadata": {},
   "outputs": [],
   "source": [
    "#importing libraries\n",
    "import numpy as np\n",
    "import pandas as pd\n",
    "import matplotlib.pyplot as plt\n",
    "import seaborn as sns\n",
    "sns.set_theme(style= 'darkgrid')"
   ]
  },
  {
   "cell_type": "markdown",
   "id": "cb8e3206",
   "metadata": {},
   "source": [
    "We will start with loading all the individual dataset and try to do following tasks:\n",
    "\n",
    "   - Understand data dictionary to get an overview of numerical and categorical columns.\n",
    "   - Correct the data format.\n",
    "   - Clean the data by deleting redundant columns, imputing the null values and deleting the duplicate rows and columns."
   ]
  },
  {
   "cell_type": "markdown",
   "id": "c8b068e5",
   "metadata": {},
   "source": [
    "## 2. Importing Data\n",
    "\n",
    "<a id = 'Importing_Data' ></a>"
   ]
  },
  {
   "cell_type": "code",
   "execution_count": 2,
   "id": "c776ccbb",
   "metadata": {},
   "outputs": [],
   "source": [
    "#loading all the datasets\n",
    "customers=pd.read_csv('data/olist_customers_dataset.csv')\n",
    "geoloc=pd.read_csv('data/olist_geolocation_dataset.csv')\n",
    "order_items=pd.read_csv('data/olist_order_items_dataset.csv')\n",
    "payments=pd.read_csv('data/olist_order_payments_dataset.csv')\n",
    "reviews=pd.read_csv('data/olist_order_reviews_dataset.csv')\n",
    "orders=pd.read_csv('data/olist_orders_dataset.csv')\n",
    "products=pd.read_csv('data/olist_products_dataset.csv')\n",
    "sellers=pd.read_csv('data/olist_sellers_dataset.csv')\n",
    "product_eng=pd.read_csv('data/product_category_name_translation.csv')"
   ]
  },
  {
   "cell_type": "markdown",
   "id": "f96937b3",
   "metadata": {},
   "source": [
    "Let us quickly check the shape of each table."
   ]
  },
  {
   "cell_type": "code",
   "execution_count": 3,
   "id": "e9d64e46",
   "metadata": {
    "scrolled": true
   },
   "outputs": [
    {
     "name": "stdout",
     "output_type": "stream",
     "text": [
      "The customers data set has 99441 rows and 5 columns.\n",
      "The geoloc data set has 1000163 rows and 5 columns.\n",
      "The sellers data set has 3095 rows and 4 columns.\n",
      "The payments data set has 103886 rows and 5 columns.\n",
      "The order_items data set has 112650 rows and 7 columns.\n",
      "The orders data set has 99441 rows and 8 columns.\n",
      "The products data set has 32951 rows and 9 columns.\n",
      "The reviews data set has 99224 rows and 7 columns.\n",
      "The product_eng data set has 71 rows and 2 columns.\n"
     ]
    }
   ],
   "source": [
    "#shape of the each dataframe\n",
    "print(f\"The customers data set has {customers.shape[0]} rows and {customers.shape[1]} columns.\")\n",
    "print(f\"The geoloc data set has {geoloc.shape[0]} rows and {geoloc.shape[1]} columns.\")\n",
    "print(f\"The sellers data set has {sellers.shape[0]} rows and {sellers.shape[1]} columns.\")\n",
    "print(f\"The payments data set has {payments.shape[0]} rows and {payments.shape[1]} columns.\")\n",
    "print(f\"The order_items data set has {order_items.shape[0]} rows and {order_items.shape[1]} columns.\")\n",
    "print(f\"The orders data set has {orders.shape[0]} rows and {orders.shape[1]} columns.\")\n",
    "print(f\"The products data set has {products.shape[0]} rows and {products.shape[1]} columns.\")\n",
    "print(f\"The reviews data set has {reviews.shape[0]} rows and {reviews.shape[1]} columns.\")\n",
    "print(f\"The product_eng data set has {product_eng.shape[0]} rows and {product_eng.shape[1]} columns.\")"
   ]
  },
  {
   "cell_type": "markdown",
   "id": "ec51fe4c",
   "metadata": {},
   "source": [
    "## 3. Reading each dataframe separately\n",
    "\n",
    "<a id = 'reading' ></a>"
   ]
  },
  {
   "cell_type": "markdown",
   "id": "72bf561d",
   "metadata": {},
   "source": [
    "Let us start with reading the customer dataset."
   ]
  },
  {
   "cell_type": "markdown",
   "id": "f55f47b0",
   "metadata": {},
   "source": [
    "## 3.1 Customers dataset\n",
    "\n",
    "<a id = 'customer_dataset' ></a>"
   ]
  },
  {
   "cell_type": "code",
   "execution_count": 4,
   "id": "07be6aee",
   "metadata": {
    "scrolled": true
   },
   "outputs": [
    {
     "data": {
      "text/html": [
       "<div>\n",
       "<style scoped>\n",
       "    .dataframe tbody tr th:only-of-type {\n",
       "        vertical-align: middle;\n",
       "    }\n",
       "\n",
       "    .dataframe tbody tr th {\n",
       "        vertical-align: top;\n",
       "    }\n",
       "\n",
       "    .dataframe thead th {\n",
       "        text-align: right;\n",
       "    }\n",
       "</style>\n",
       "<table border=\"1\" class=\"dataframe\">\n",
       "  <thead>\n",
       "    <tr style=\"text-align: right;\">\n",
       "      <th></th>\n",
       "      <th>customer_id</th>\n",
       "      <th>customer_unique_id</th>\n",
       "      <th>customer_zip_code_prefix</th>\n",
       "      <th>customer_city</th>\n",
       "      <th>customer_state</th>\n",
       "    </tr>\n",
       "  </thead>\n",
       "  <tbody>\n",
       "    <tr>\n",
       "      <th>0</th>\n",
       "      <td>06b8999e2fba1a1fbc88172c00ba8bc7</td>\n",
       "      <td>861eff4711a542e4b93843c6dd7febb0</td>\n",
       "      <td>14409</td>\n",
       "      <td>franca</td>\n",
       "      <td>SP</td>\n",
       "    </tr>\n",
       "    <tr>\n",
       "      <th>1</th>\n",
       "      <td>18955e83d337fd6b2def6b18a428ac77</td>\n",
       "      <td>290c77bc529b7ac935b93aa66c333dc3</td>\n",
       "      <td>9790</td>\n",
       "      <td>sao bernardo do campo</td>\n",
       "      <td>SP</td>\n",
       "    </tr>\n",
       "    <tr>\n",
       "      <th>2</th>\n",
       "      <td>4e7b3e00288586ebd08712fdd0374a03</td>\n",
       "      <td>060e732b5b29e8181a18229c7b0b2b5e</td>\n",
       "      <td>1151</td>\n",
       "      <td>sao paulo</td>\n",
       "      <td>SP</td>\n",
       "    </tr>\n",
       "    <tr>\n",
       "      <th>3</th>\n",
       "      <td>b2b6027bc5c5109e529d4dc6358b12c3</td>\n",
       "      <td>259dac757896d24d7702b9acbbff3f3c</td>\n",
       "      <td>8775</td>\n",
       "      <td>mogi das cruzes</td>\n",
       "      <td>SP</td>\n",
       "    </tr>\n",
       "    <tr>\n",
       "      <th>4</th>\n",
       "      <td>4f2d8ab171c80ec8364f7c12e35b23ad</td>\n",
       "      <td>345ecd01c38d18a9036ed96c73b8d066</td>\n",
       "      <td>13056</td>\n",
       "      <td>campinas</td>\n",
       "      <td>SP</td>\n",
       "    </tr>\n",
       "  </tbody>\n",
       "</table>\n",
       "</div>"
      ],
      "text/plain": [
       "                        customer_id                customer_unique_id  \\\n",
       "0  06b8999e2fba1a1fbc88172c00ba8bc7  861eff4711a542e4b93843c6dd7febb0   \n",
       "1  18955e83d337fd6b2def6b18a428ac77  290c77bc529b7ac935b93aa66c333dc3   \n",
       "2  4e7b3e00288586ebd08712fdd0374a03  060e732b5b29e8181a18229c7b0b2b5e   \n",
       "3  b2b6027bc5c5109e529d4dc6358b12c3  259dac757896d24d7702b9acbbff3f3c   \n",
       "4  4f2d8ab171c80ec8364f7c12e35b23ad  345ecd01c38d18a9036ed96c73b8d066   \n",
       "\n",
       "   customer_zip_code_prefix          customer_city customer_state  \n",
       "0                     14409                 franca             SP  \n",
       "1                      9790  sao bernardo do campo             SP  \n",
       "2                      1151              sao paulo             SP  \n",
       "3                      8775        mogi das cruzes             SP  \n",
       "4                     13056               campinas             SP  "
      ]
     },
     "execution_count": 4,
     "metadata": {},
     "output_type": "execute_result"
    }
   ],
   "source": [
    "#reading head and tail of the customer dataframe\n",
    "customers.head()"
   ]
  },
  {
   "cell_type": "code",
   "execution_count": 5,
   "id": "69fc0c67",
   "metadata": {
    "scrolled": false
   },
   "outputs": [
    {
     "data": {
      "text/html": [
       "<div>\n",
       "<style scoped>\n",
       "    .dataframe tbody tr th:only-of-type {\n",
       "        vertical-align: middle;\n",
       "    }\n",
       "\n",
       "    .dataframe tbody tr th {\n",
       "        vertical-align: top;\n",
       "    }\n",
       "\n",
       "    .dataframe thead th {\n",
       "        text-align: right;\n",
       "    }\n",
       "</style>\n",
       "<table border=\"1\" class=\"dataframe\">\n",
       "  <thead>\n",
       "    <tr style=\"text-align: right;\">\n",
       "      <th></th>\n",
       "      <th>customer_id</th>\n",
       "      <th>customer_unique_id</th>\n",
       "      <th>customer_zip_code_prefix</th>\n",
       "      <th>customer_city</th>\n",
       "      <th>customer_state</th>\n",
       "    </tr>\n",
       "  </thead>\n",
       "  <tbody>\n",
       "    <tr>\n",
       "      <th>99436</th>\n",
       "      <td>17ddf5dd5d51696bb3d7c6291687be6f</td>\n",
       "      <td>1a29b476fee25c95fbafc67c5ac95cf8</td>\n",
       "      <td>3937</td>\n",
       "      <td>sao paulo</td>\n",
       "      <td>SP</td>\n",
       "    </tr>\n",
       "    <tr>\n",
       "      <th>99437</th>\n",
       "      <td>e7b71a9017aa05c9a7fd292d714858e8</td>\n",
       "      <td>d52a67c98be1cf6a5c84435bd38d095d</td>\n",
       "      <td>6764</td>\n",
       "      <td>taboao da serra</td>\n",
       "      <td>SP</td>\n",
       "    </tr>\n",
       "    <tr>\n",
       "      <th>99438</th>\n",
       "      <td>5e28dfe12db7fb50a4b2f691faecea5e</td>\n",
       "      <td>e9f50caf99f032f0bf3c55141f019d99</td>\n",
       "      <td>60115</td>\n",
       "      <td>fortaleza</td>\n",
       "      <td>CE</td>\n",
       "    </tr>\n",
       "    <tr>\n",
       "      <th>99439</th>\n",
       "      <td>56b18e2166679b8a959d72dd06da27f9</td>\n",
       "      <td>73c2643a0a458b49f58cea58833b192e</td>\n",
       "      <td>92120</td>\n",
       "      <td>canoas</td>\n",
       "      <td>RS</td>\n",
       "    </tr>\n",
       "    <tr>\n",
       "      <th>99440</th>\n",
       "      <td>274fa6071e5e17fe303b9748641082c8</td>\n",
       "      <td>84732c5050c01db9b23e19ba39899398</td>\n",
       "      <td>6703</td>\n",
       "      <td>cotia</td>\n",
       "      <td>SP</td>\n",
       "    </tr>\n",
       "  </tbody>\n",
       "</table>\n",
       "</div>"
      ],
      "text/plain": [
       "                            customer_id                customer_unique_id  \\\n",
       "99436  17ddf5dd5d51696bb3d7c6291687be6f  1a29b476fee25c95fbafc67c5ac95cf8   \n",
       "99437  e7b71a9017aa05c9a7fd292d714858e8  d52a67c98be1cf6a5c84435bd38d095d   \n",
       "99438  5e28dfe12db7fb50a4b2f691faecea5e  e9f50caf99f032f0bf3c55141f019d99   \n",
       "99439  56b18e2166679b8a959d72dd06da27f9  73c2643a0a458b49f58cea58833b192e   \n",
       "99440  274fa6071e5e17fe303b9748641082c8  84732c5050c01db9b23e19ba39899398   \n",
       "\n",
       "       customer_zip_code_prefix    customer_city customer_state  \n",
       "99436                      3937        sao paulo             SP  \n",
       "99437                      6764  taboao da serra             SP  \n",
       "99438                     60115        fortaleza             CE  \n",
       "99439                     92120           canoas             RS  \n",
       "99440                      6703            cotia             SP  "
      ]
     },
     "execution_count": 5,
     "metadata": {},
     "output_type": "execute_result"
    }
   ],
   "source": [
    "#reading the tail\n",
    "customers.tail()"
   ]
  },
  {
   "cell_type": "code",
   "execution_count": 6,
   "id": "5f8179a3",
   "metadata": {
    "scrolled": true
   },
   "outputs": [
    {
     "name": "stdout",
     "output_type": "stream",
     "text": [
      "<class 'pandas.core.frame.DataFrame'>\n",
      "RangeIndex: 99441 entries, 0 to 99440\n",
      "Data columns (total 5 columns):\n",
      " #   Column                    Non-Null Count  Dtype \n",
      "---  ------                    --------------  ----- \n",
      " 0   customer_id               99441 non-null  object\n",
      " 1   customer_unique_id        99441 non-null  object\n",
      " 2   customer_zip_code_prefix  99441 non-null  int64 \n",
      " 3   customer_city             99441 non-null  object\n",
      " 4   customer_state            99441 non-null  object\n",
      "dtypes: int64(1), object(4)\n",
      "memory usage: 3.8+ MB\n"
     ]
    }
   ],
   "source": [
    "#getting overview of datasets that we have.\n",
    "customers.info()"
   ]
  },
  {
   "cell_type": "code",
   "execution_count": 7,
   "id": "57d4025e",
   "metadata": {
    "scrolled": true
   },
   "outputs": [
    {
     "data": {
      "text/plain": [
       "customer_id                 0\n",
       "customer_unique_id          0\n",
       "customer_zip_code_prefix    0\n",
       "customer_city               0\n",
       "customer_state              0\n",
       "dtype: int64"
      ]
     },
     "execution_count": 7,
     "metadata": {},
     "output_type": "execute_result"
    }
   ],
   "source": [
    "#checking the null values\n",
    "customers.isnull().sum()"
   ]
  },
  {
   "cell_type": "code",
   "execution_count": 8,
   "id": "aef2f9c9",
   "metadata": {
    "scrolled": true
   },
   "outputs": [
    {
     "data": {
      "text/plain": [
       "0"
      ]
     },
     "execution_count": 8,
     "metadata": {},
     "output_type": "execute_result"
    }
   ],
   "source": [
    "#checking duplicates across rows\n",
    "customers.duplicated().sum()"
   ]
  },
  {
   "cell_type": "code",
   "execution_count": 9,
   "id": "50fc6400",
   "metadata": {
    "scrolled": true
   },
   "outputs": [
    {
     "data": {
      "text/plain": [
       "0"
      ]
     },
     "execution_count": 9,
     "metadata": {},
     "output_type": "execute_result"
    }
   ],
   "source": [
    "#checking duplicates across columns\n",
    "customers.T.duplicated().sum()"
   ]
  },
  {
   "cell_type": "code",
   "execution_count": 10,
   "id": "6211a25a",
   "metadata": {
    "scrolled": true
   },
   "outputs": [
    {
     "data": {
      "text/plain": [
       "99441"
      ]
     },
     "execution_count": 10,
     "metadata": {},
     "output_type": "execute_result"
    }
   ],
   "source": [
    "#checking the unique values in column customer unique id and customer id\n",
    "customers['customer_id'].nunique()"
   ]
  },
  {
   "cell_type": "code",
   "execution_count": 11,
   "id": "4ac4c3b2",
   "metadata": {
    "scrolled": true
   },
   "outputs": [
    {
     "data": {
      "text/plain": [
       "96096"
      ]
     },
     "execution_count": 11,
     "metadata": {},
     "output_type": "execute_result"
    }
   ],
   "source": [
    "#checking the number of unique customers\n",
    "customers['customer_unique_id'].nunique()"
   ]
  },
  {
   "cell_type": "code",
   "execution_count": 12,
   "id": "0d50f1ac",
   "metadata": {},
   "outputs": [
    {
     "data": {
      "text/plain": [
       "3345"
      ]
     },
     "execution_count": 12,
     "metadata": {},
     "output_type": "execute_result"
    }
   ],
   "source": [
    "#Repeat customers\n",
    "99441-96096"
   ]
  },
  {
   "cell_type": "code",
   "execution_count": 13,
   "id": "67abf67f",
   "metadata": {},
   "outputs": [
    {
     "data": {
      "text/plain": [
       "0.9663619633752677"
      ]
     },
     "execution_count": 13,
     "metadata": {},
     "output_type": "execute_result"
    }
   ],
   "source": [
    "#percentage of repeat customers\n",
    "96096/99441"
   ]
  },
  {
   "cell_type": "markdown",
   "id": "31b016db",
   "metadata": {},
   "source": [
    "#### Quick findings:\n",
    "\n",
    "- Customers dataset has information about geolocation of customers.\n",
    "- We have a total of 99441 customer ids which is the primary key for this table. These customers ids are created when a user makes a purchase. They are actually transaction ids.\n",
    "- We have a total of 96096 unique customer ids. It shows that we have around 96.6 % of new customers. Only 3.4% of the customers have made repeat purchase from the olist platform. It is because olist was founded in 2015 and they started selling online in 2016. The data we downloaded from Kaggel is from 2016 to 2018, when it was fairly new thus we only have new customers.\n",
    "- This dataset has **four** columns of object datatype and **one** column with numeric datatype.\n",
    "- There are no duplicates across rows or columns.\n",
    "- There is no null value."
   ]
  },
  {
   "cell_type": "markdown",
   "id": "34338b68",
   "metadata": {},
   "source": [
    "## 3.2 Geoloc dataset\n",
    "<a id = 'geoloc_dataset' ></a>\n",
    "We can look at the Geoloc dataset and see what important columns we can utilize later."
   ]
  },
  {
   "cell_type": "code",
   "execution_count": 14,
   "id": "9fed81dc",
   "metadata": {},
   "outputs": [
    {
     "data": {
      "text/html": [
       "<div>\n",
       "<style scoped>\n",
       "    .dataframe tbody tr th:only-of-type {\n",
       "        vertical-align: middle;\n",
       "    }\n",
       "\n",
       "    .dataframe tbody tr th {\n",
       "        vertical-align: top;\n",
       "    }\n",
       "\n",
       "    .dataframe thead th {\n",
       "        text-align: right;\n",
       "    }\n",
       "</style>\n",
       "<table border=\"1\" class=\"dataframe\">\n",
       "  <thead>\n",
       "    <tr style=\"text-align: right;\">\n",
       "      <th></th>\n",
       "      <th>geolocation_zip_code_prefix</th>\n",
       "      <th>geolocation_lat</th>\n",
       "      <th>geolocation_lng</th>\n",
       "      <th>geolocation_city</th>\n",
       "      <th>geolocation_state</th>\n",
       "    </tr>\n",
       "  </thead>\n",
       "  <tbody>\n",
       "    <tr>\n",
       "      <th>0</th>\n",
       "      <td>1037</td>\n",
       "      <td>-23.545621</td>\n",
       "      <td>-46.639292</td>\n",
       "      <td>sao paulo</td>\n",
       "      <td>SP</td>\n",
       "    </tr>\n",
       "    <tr>\n",
       "      <th>1</th>\n",
       "      <td>1046</td>\n",
       "      <td>-23.546081</td>\n",
       "      <td>-46.644820</td>\n",
       "      <td>sao paulo</td>\n",
       "      <td>SP</td>\n",
       "    </tr>\n",
       "    <tr>\n",
       "      <th>2</th>\n",
       "      <td>1046</td>\n",
       "      <td>-23.546129</td>\n",
       "      <td>-46.642951</td>\n",
       "      <td>sao paulo</td>\n",
       "      <td>SP</td>\n",
       "    </tr>\n",
       "    <tr>\n",
       "      <th>3</th>\n",
       "      <td>1041</td>\n",
       "      <td>-23.544392</td>\n",
       "      <td>-46.639499</td>\n",
       "      <td>sao paulo</td>\n",
       "      <td>SP</td>\n",
       "    </tr>\n",
       "    <tr>\n",
       "      <th>4</th>\n",
       "      <td>1035</td>\n",
       "      <td>-23.541578</td>\n",
       "      <td>-46.641607</td>\n",
       "      <td>sao paulo</td>\n",
       "      <td>SP</td>\n",
       "    </tr>\n",
       "  </tbody>\n",
       "</table>\n",
       "</div>"
      ],
      "text/plain": [
       "   geolocation_zip_code_prefix  geolocation_lat  geolocation_lng  \\\n",
       "0                         1037       -23.545621       -46.639292   \n",
       "1                         1046       -23.546081       -46.644820   \n",
       "2                         1046       -23.546129       -46.642951   \n",
       "3                         1041       -23.544392       -46.639499   \n",
       "4                         1035       -23.541578       -46.641607   \n",
       "\n",
       "  geolocation_city geolocation_state  \n",
       "0        sao paulo                SP  \n",
       "1        sao paulo                SP  \n",
       "2        sao paulo                SP  \n",
       "3        sao paulo                SP  \n",
       "4        sao paulo                SP  "
      ]
     },
     "execution_count": 14,
     "metadata": {},
     "output_type": "execute_result"
    }
   ],
   "source": [
    "#reading head and tail of the geoloc dataframe\n",
    "geoloc.head()"
   ]
  },
  {
   "cell_type": "code",
   "execution_count": 15,
   "id": "1a970e0c",
   "metadata": {},
   "outputs": [
    {
     "data": {
      "text/html": [
       "<div>\n",
       "<style scoped>\n",
       "    .dataframe tbody tr th:only-of-type {\n",
       "        vertical-align: middle;\n",
       "    }\n",
       "\n",
       "    .dataframe tbody tr th {\n",
       "        vertical-align: top;\n",
       "    }\n",
       "\n",
       "    .dataframe thead th {\n",
       "        text-align: right;\n",
       "    }\n",
       "</style>\n",
       "<table border=\"1\" class=\"dataframe\">\n",
       "  <thead>\n",
       "    <tr style=\"text-align: right;\">\n",
       "      <th></th>\n",
       "      <th>geolocation_zip_code_prefix</th>\n",
       "      <th>geolocation_lat</th>\n",
       "      <th>geolocation_lng</th>\n",
       "      <th>geolocation_city</th>\n",
       "      <th>geolocation_state</th>\n",
       "    </tr>\n",
       "  </thead>\n",
       "  <tbody>\n",
       "    <tr>\n",
       "      <th>1000158</th>\n",
       "      <td>99950</td>\n",
       "      <td>-28.068639</td>\n",
       "      <td>-52.010705</td>\n",
       "      <td>tapejara</td>\n",
       "      <td>RS</td>\n",
       "    </tr>\n",
       "    <tr>\n",
       "      <th>1000159</th>\n",
       "      <td>99900</td>\n",
       "      <td>-27.877125</td>\n",
       "      <td>-52.224882</td>\n",
       "      <td>getulio vargas</td>\n",
       "      <td>RS</td>\n",
       "    </tr>\n",
       "    <tr>\n",
       "      <th>1000160</th>\n",
       "      <td>99950</td>\n",
       "      <td>-28.071855</td>\n",
       "      <td>-52.014716</td>\n",
       "      <td>tapejara</td>\n",
       "      <td>RS</td>\n",
       "    </tr>\n",
       "    <tr>\n",
       "      <th>1000161</th>\n",
       "      <td>99980</td>\n",
       "      <td>-28.388932</td>\n",
       "      <td>-51.846871</td>\n",
       "      <td>david canabarro</td>\n",
       "      <td>RS</td>\n",
       "    </tr>\n",
       "    <tr>\n",
       "      <th>1000162</th>\n",
       "      <td>99950</td>\n",
       "      <td>-28.070104</td>\n",
       "      <td>-52.018658</td>\n",
       "      <td>tapejara</td>\n",
       "      <td>RS</td>\n",
       "    </tr>\n",
       "  </tbody>\n",
       "</table>\n",
       "</div>"
      ],
      "text/plain": [
       "         geolocation_zip_code_prefix  geolocation_lat  geolocation_lng  \\\n",
       "1000158                        99950       -28.068639       -52.010705   \n",
       "1000159                        99900       -27.877125       -52.224882   \n",
       "1000160                        99950       -28.071855       -52.014716   \n",
       "1000161                        99980       -28.388932       -51.846871   \n",
       "1000162                        99950       -28.070104       -52.018658   \n",
       "\n",
       "        geolocation_city geolocation_state  \n",
       "1000158         tapejara                RS  \n",
       "1000159   getulio vargas                RS  \n",
       "1000160         tapejara                RS  \n",
       "1000161  david canabarro                RS  \n",
       "1000162         tapejara                RS  "
      ]
     },
     "execution_count": 15,
     "metadata": {},
     "output_type": "execute_result"
    }
   ],
   "source": [
    "#reading the tail\n",
    "geoloc.tail()"
   ]
  },
  {
   "cell_type": "code",
   "execution_count": 16,
   "id": "386053b6",
   "metadata": {},
   "outputs": [
    {
     "name": "stdout",
     "output_type": "stream",
     "text": [
      "<class 'pandas.core.frame.DataFrame'>\n",
      "RangeIndex: 1000163 entries, 0 to 1000162\n",
      "Data columns (total 5 columns):\n",
      " #   Column                       Non-Null Count    Dtype  \n",
      "---  ------                       --------------    -----  \n",
      " 0   geolocation_zip_code_prefix  1000163 non-null  int64  \n",
      " 1   geolocation_lat              1000163 non-null  float64\n",
      " 2   geolocation_lng              1000163 non-null  float64\n",
      " 3   geolocation_city             1000163 non-null  object \n",
      " 4   geolocation_state            1000163 non-null  object \n",
      "dtypes: float64(2), int64(1), object(2)\n",
      "memory usage: 38.2+ MB\n"
     ]
    }
   ],
   "source": [
    "#getting overview of datasets that we have.\n",
    "geoloc.info()"
   ]
  },
  {
   "cell_type": "code",
   "execution_count": 17,
   "id": "db7f3572",
   "metadata": {},
   "outputs": [
    {
     "data": {
      "text/plain": [
       "geolocation_zip_code_prefix    0\n",
       "geolocation_lat                0\n",
       "geolocation_lng                0\n",
       "geolocation_city               0\n",
       "geolocation_state              0\n",
       "dtype: int64"
      ]
     },
     "execution_count": 17,
     "metadata": {},
     "output_type": "execute_result"
    }
   ],
   "source": [
    "#checking the null values\n",
    "geoloc.isnull().sum()"
   ]
  },
  {
   "cell_type": "code",
   "execution_count": 18,
   "id": "1cd6c95e",
   "metadata": {
    "scrolled": false
   },
   "outputs": [
    {
     "data": {
      "text/plain": [
       "261831"
      ]
     },
     "execution_count": 18,
     "metadata": {},
     "output_type": "execute_result"
    }
   ],
   "source": [
    "#checking duplicates across rows\n",
    "geoloc.duplicated().sum()"
   ]
  },
  {
   "cell_type": "markdown",
   "id": "7fbed0f6",
   "metadata": {},
   "source": [
    "We have a huge number of duplicates here. We can drop the duplicates only keeping the first of the matching row."
   ]
  },
  {
   "cell_type": "code",
   "execution_count": 19,
   "id": "1c7b8a22",
   "metadata": {},
   "outputs": [],
   "source": [
    "#checking duplicates across rows by keeping only the frist value and dropping the next matching value in place\n",
    "geoloc.drop_duplicates(keep='first', inplace=True)"
   ]
  },
  {
   "cell_type": "code",
   "execution_count": 20,
   "id": "15302876",
   "metadata": {},
   "outputs": [
    {
     "data": {
      "text/plain": [
       "0"
      ]
     },
     "execution_count": 20,
     "metadata": {},
     "output_type": "execute_result"
    }
   ],
   "source": [
    "#checking duplicates across rows\n",
    "geoloc.duplicated().sum()"
   ]
  },
  {
   "cell_type": "code",
   "execution_count": 21,
   "id": "275d569e",
   "metadata": {},
   "outputs": [],
   "source": [
    "#checking duplicates across columns \n",
    "#it has been commented as it took a lot of time to get the result\n",
    "#during first check we found no duplicates across columns\n",
    "# geoloc.T.duplicated().sum()"
   ]
  },
  {
   "cell_type": "code",
   "execution_count": 22,
   "id": "059a31a9",
   "metadata": {},
   "outputs": [
    {
     "name": "stdout",
     "output_type": "stream",
     "text": [
      "<class 'pandas.core.frame.DataFrame'>\n",
      "Int64Index: 738332 entries, 0 to 1000161\n",
      "Data columns (total 5 columns):\n",
      " #   Column                       Non-Null Count   Dtype  \n",
      "---  ------                       --------------   -----  \n",
      " 0   geolocation_zip_code_prefix  738332 non-null  int64  \n",
      " 1   geolocation_lat              738332 non-null  float64\n",
      " 2   geolocation_lng              738332 non-null  float64\n",
      " 3   geolocation_city             738332 non-null  object \n",
      " 4   geolocation_state            738332 non-null  object \n",
      "dtypes: float64(2), int64(1), object(2)\n",
      "memory usage: 33.8+ MB\n"
     ]
    }
   ],
   "source": [
    "geoloc.info()"
   ]
  },
  {
   "cell_type": "code",
   "execution_count": 23,
   "id": "f3f067c7",
   "metadata": {
    "scrolled": false
   },
   "outputs": [
    {
     "data": {
      "text/plain": [
       "19015"
      ]
     },
     "execution_count": 23,
     "metadata": {},
     "output_type": "execute_result"
    }
   ],
   "source": [
    "#checking the unique values in geolocation_zip_code_prefix\n",
    "geoloc['geolocation_zip_code_prefix'].nunique()"
   ]
  },
  {
   "cell_type": "markdown",
   "id": "447618df",
   "metadata": {},
   "source": [
    "Out of 738332 rows only 19015 are the unique zip code prefix. A zip code postfix can define a complete zip code but we don't have any. For sanity check we can check how many different latitude and longitude values do we have for a particular zip code prefix."
   ]
  },
  {
   "cell_type": "code",
   "execution_count": 24,
   "id": "d335dad9",
   "metadata": {
    "scrolled": true
   },
   "outputs": [
    {
     "data": {
      "text/plain": [
       "38400    779\n",
       "35500    751\n",
       "11680    727\n",
       "11740    678\n",
       "36400    627\n",
       "        ... \n",
       "90038      1\n",
       "90002      1\n",
       "29174      1\n",
       "72230      1\n",
       "45824      1\n",
       "Name: geolocation_zip_code_prefix, Length: 19015, dtype: int64"
      ]
     },
     "execution_count": 24,
     "metadata": {},
     "output_type": "execute_result"
    }
   ],
   "source": [
    "#checking no of rows with same zip code.\n",
    "geoloc['geolocation_zip_code_prefix'].value_counts()"
   ]
  },
  {
   "cell_type": "code",
   "execution_count": 25,
   "id": "9c5c7290",
   "metadata": {},
   "outputs": [
    {
     "data": {
      "text/html": [
       "<div>\n",
       "<style scoped>\n",
       "    .dataframe tbody tr th:only-of-type {\n",
       "        vertical-align: middle;\n",
       "    }\n",
       "\n",
       "    .dataframe tbody tr th {\n",
       "        vertical-align: top;\n",
       "    }\n",
       "\n",
       "    .dataframe thead th {\n",
       "        text-align: right;\n",
       "    }\n",
       "</style>\n",
       "<table border=\"1\" class=\"dataframe\">\n",
       "  <thead>\n",
       "    <tr style=\"text-align: right;\">\n",
       "      <th></th>\n",
       "      <th>geolocation_zip_code_prefix</th>\n",
       "      <th>geolocation_lat</th>\n",
       "      <th>geolocation_lng</th>\n",
       "      <th>geolocation_city</th>\n",
       "      <th>geolocation_state</th>\n",
       "    </tr>\n",
       "  </thead>\n",
       "  <tbody>\n",
       "    <tr>\n",
       "      <th>645450</th>\n",
       "      <td>38400</td>\n",
       "      <td>-18.915960</td>\n",
       "      <td>-48.278974</td>\n",
       "      <td>uberlandia</td>\n",
       "      <td>MG</td>\n",
       "    </tr>\n",
       "    <tr>\n",
       "      <th>645456</th>\n",
       "      <td>38400</td>\n",
       "      <td>-18.900442</td>\n",
       "      <td>-48.260759</td>\n",
       "      <td>uberlandia</td>\n",
       "      <td>MG</td>\n",
       "    </tr>\n",
       "    <tr>\n",
       "      <th>645460</th>\n",
       "      <td>38400</td>\n",
       "      <td>-18.913015</td>\n",
       "      <td>-48.262132</td>\n",
       "      <td>uberlandia</td>\n",
       "      <td>MG</td>\n",
       "    </tr>\n",
       "    <tr>\n",
       "      <th>645461</th>\n",
       "      <td>38400</td>\n",
       "      <td>-18.922381</td>\n",
       "      <td>-48.282111</td>\n",
       "      <td>uberlandia</td>\n",
       "      <td>MG</td>\n",
       "    </tr>\n",
       "    <tr>\n",
       "      <th>645471</th>\n",
       "      <td>38400</td>\n",
       "      <td>-18.922160</td>\n",
       "      <td>-48.271125</td>\n",
       "      <td>uberlandia</td>\n",
       "      <td>MG</td>\n",
       "    </tr>\n",
       "    <tr>\n",
       "      <th>...</th>\n",
       "      <td>...</td>\n",
       "      <td>...</td>\n",
       "      <td>...</td>\n",
       "      <td>...</td>\n",
       "      <td>...</td>\n",
       "    </tr>\n",
       "    <tr>\n",
       "      <th>650433</th>\n",
       "      <td>38400</td>\n",
       "      <td>-18.913148</td>\n",
       "      <td>-48.288200</td>\n",
       "      <td>uberlândia</td>\n",
       "      <td>MG</td>\n",
       "    </tr>\n",
       "    <tr>\n",
       "      <th>650434</th>\n",
       "      <td>38400</td>\n",
       "      <td>-18.915238</td>\n",
       "      <td>-48.297562</td>\n",
       "      <td>uberlandia</td>\n",
       "      <td>MG</td>\n",
       "    </tr>\n",
       "    <tr>\n",
       "      <th>650439</th>\n",
       "      <td>38400</td>\n",
       "      <td>-18.898682</td>\n",
       "      <td>-48.260058</td>\n",
       "      <td>uberlândia</td>\n",
       "      <td>MG</td>\n",
       "    </tr>\n",
       "    <tr>\n",
       "      <th>650440</th>\n",
       "      <td>38400</td>\n",
       "      <td>-18.887050</td>\n",
       "      <td>-48.265336</td>\n",
       "      <td>uberlandia</td>\n",
       "      <td>MG</td>\n",
       "    </tr>\n",
       "    <tr>\n",
       "      <th>650446</th>\n",
       "      <td>38400</td>\n",
       "      <td>-18.920965</td>\n",
       "      <td>-48.297735</td>\n",
       "      <td>uberlândia</td>\n",
       "      <td>MG</td>\n",
       "    </tr>\n",
       "  </tbody>\n",
       "</table>\n",
       "<p>779 rows × 5 columns</p>\n",
       "</div>"
      ],
      "text/plain": [
       "        geolocation_zip_code_prefix  geolocation_lat  geolocation_lng  \\\n",
       "645450                        38400       -18.915960       -48.278974   \n",
       "645456                        38400       -18.900442       -48.260759   \n",
       "645460                        38400       -18.913015       -48.262132   \n",
       "645461                        38400       -18.922381       -48.282111   \n",
       "645471                        38400       -18.922160       -48.271125   \n",
       "...                             ...              ...              ...   \n",
       "650433                        38400       -18.913148       -48.288200   \n",
       "650434                        38400       -18.915238       -48.297562   \n",
       "650439                        38400       -18.898682       -48.260058   \n",
       "650440                        38400       -18.887050       -48.265336   \n",
       "650446                        38400       -18.920965       -48.297735   \n",
       "\n",
       "       geolocation_city geolocation_state  \n",
       "645450       uberlandia                MG  \n",
       "645456       uberlandia                MG  \n",
       "645460       uberlandia                MG  \n",
       "645461       uberlandia                MG  \n",
       "645471       uberlandia                MG  \n",
       "...                 ...               ...  \n",
       "650433       uberlândia                MG  \n",
       "650434       uberlandia                MG  \n",
       "650439       uberlândia                MG  \n",
       "650440       uberlandia                MG  \n",
       "650446       uberlândia                MG  \n",
       "\n",
       "[779 rows x 5 columns]"
      ]
     },
     "execution_count": 25,
     "metadata": {},
     "output_type": "execute_result"
    }
   ],
   "source": [
    "#quickly checking latitude and logitude values for a zipcode 38400\n",
    "geoloc[geoloc['geolocation_zip_code_prefix']==38400]"
   ]
  },
  {
   "cell_type": "code",
   "execution_count": 26,
   "id": "cd9159fe",
   "metadata": {
    "scrolled": false
   },
   "outputs": [
    {
     "data": {
      "image/png": "[encoded data removed]",
      "text/plain": [
       "<Figure size 640x480 with 1 Axes>"
      ]
     },
     "metadata": {},
     "output_type": "display_data"
    }
   ],
   "source": [
    "plt.title('Latitude and Longitude of zip code prefix = 38400')\n",
    "sns.scatterplot(data= geoloc[geoloc['geolocation_zip_code_prefix']==38400], y='geolocation_lat', x='geolocation_lng' )\n",
    "plt.show()"
   ]
  },
  {
   "cell_type": "markdown",
   "id": "c47bd960",
   "metadata": {},
   "source": [
    "#### Quick findings:\n",
    "\n",
    "- Geoloc dataset has information about latitudes and longitudes of various cities and states of Brazil.\n",
    "- We have a total of 19015 unique zip code prefix and there could be multiple latitude and longitude associated with that code that differentiate different locations within that zip code.\n",
    "    - For example for zip code prefix 38400 we have **779 rows with same city and state value but slightly different latitutde and longitude values.**\n",
    "- We found some duplicate values and deleted them.\n",
    "- This dataset has **two** columns of object datatype and **three** column with numeric datatype.\n",
    "- There is no null value."
   ]
  },
  {
   "cell_type": "markdown",
   "id": "d9a7e313",
   "metadata": {},
   "source": [
    "**Since we don't have the complete zip code in both geoloc and customer dataset, we can take mean of the latitude and longitude coordinates for each zip code prefix and save it in separate dataframe.**"
   ]
  },
  {
   "cell_type": "code",
   "execution_count": 27,
   "id": "e6fdba9b",
   "metadata": {},
   "outputs": [],
   "source": [
    "#creating another dataframe which has zip code prefix and mean values for latitude and longitude\n",
    "coordinates= geoloc.groupby('geolocation_zip_code_prefix')[['geolocation_lat', 'geolocation_lng']].mean().reset_index()"
   ]
  },
  {
   "cell_type": "code",
   "execution_count": 28,
   "id": "e45b3ef1",
   "metadata": {
    "scrolled": true
   },
   "outputs": [
    {
     "name": "stdout",
     "output_type": "stream",
     "text": [
      "<class 'pandas.core.frame.DataFrame'>\n",
      "RangeIndex: 19015 entries, 0 to 19014\n",
      "Data columns (total 3 columns):\n",
      " #   Column                       Non-Null Count  Dtype  \n",
      "---  ------                       --------------  -----  \n",
      " 0   geolocation_zip_code_prefix  19015 non-null  int64  \n",
      " 1   geolocation_lat              19015 non-null  float64\n",
      " 2   geolocation_lng              19015 non-null  float64\n",
      "dtypes: float64(2), int64(1)\n",
      "memory usage: 445.8 KB\n"
     ]
    }
   ],
   "source": [
    "coordinates.info()"
   ]
  },
  {
   "cell_type": "markdown",
   "id": "53c377e3",
   "metadata": {},
   "source": [
    "### Merging the coordinates dataframe with the customer dataframe"
   ]
  },
  {
   "cell_type": "code",
   "execution_count": 29,
   "id": "d9698fdd",
   "metadata": {},
   "outputs": [],
   "source": [
    "#merging coordinates and customer\n",
    "customer_loc=pd.merge(left=customers, right=coordinates, left_on='customer_zip_code_prefix', \n",
    "                      right_on='geolocation_zip_code_prefix', how='left')"
   ]
  },
  {
   "cell_type": "code",
   "execution_count": 30,
   "id": "419ce824",
   "metadata": {
    "scrolled": true
   },
   "outputs": [
    {
     "name": "stdout",
     "output_type": "stream",
     "text": [
      "<class 'pandas.core.frame.DataFrame'>\n",
      "Int64Index: 99441 entries, 0 to 99440\n",
      "Data columns (total 8 columns):\n",
      " #   Column                       Non-Null Count  Dtype  \n",
      "---  ------                       --------------  -----  \n",
      " 0   customer_id                  99441 non-null  object \n",
      " 1   customer_unique_id           99441 non-null  object \n",
      " 2   customer_zip_code_prefix     99441 non-null  int64  \n",
      " 3   customer_city                99441 non-null  object \n",
      " 4   customer_state               99441 non-null  object \n",
      " 5   geolocation_zip_code_prefix  99163 non-null  float64\n",
      " 6   geolocation_lat              99163 non-null  float64\n",
      " 7   geolocation_lng              99163 non-null  float64\n",
      "dtypes: float64(3), int64(1), object(4)\n",
      "memory usage: 6.8+ MB\n"
     ]
    }
   ],
   "source": [
    "#checking info\n",
    "customer_loc.info()"
   ]
  },
  {
   "cell_type": "code",
   "execution_count": 31,
   "id": "becf3576",
   "metadata": {},
   "outputs": [],
   "source": [
    "#drop unnecesary column\n",
    "customer_loc.drop(columns=['geolocation_zip_code_prefix'], inplace=True)"
   ]
  },
  {
   "cell_type": "code",
   "execution_count": 32,
   "id": "773b5e04",
   "metadata": {
    "scrolled": false
   },
   "outputs": [
    {
     "data": {
      "text/html": [
       "<div>\n",
       "<style scoped>\n",
       "    .dataframe tbody tr th:only-of-type {\n",
       "        vertical-align: middle;\n",
       "    }\n",
       "\n",
       "    .dataframe tbody tr th {\n",
       "        vertical-align: top;\n",
       "    }\n",
       "\n",
       "    .dataframe thead th {\n",
       "        text-align: right;\n",
       "    }\n",
       "</style>\n",
       "<table border=\"1\" class=\"dataframe\">\n",
       "  <thead>\n",
       "    <tr style=\"text-align: right;\">\n",
       "      <th></th>\n",
       "      <th>customer_id</th>\n",
       "      <th>customer_unique_id</th>\n",
       "      <th>customer_zip_code_prefix</th>\n",
       "      <th>customer_city</th>\n",
       "      <th>customer_state</th>\n",
       "      <th>geolocation_lat</th>\n",
       "      <th>geolocation_lng</th>\n",
       "    </tr>\n",
       "  </thead>\n",
       "  <tbody>\n",
       "    <tr>\n",
       "      <th>0</th>\n",
       "      <td>06b8999e2fba1a1fbc88172c00ba8bc7</td>\n",
       "      <td>861eff4711a542e4b93843c6dd7febb0</td>\n",
       "      <td>14409</td>\n",
       "      <td>franca</td>\n",
       "      <td>SP</td>\n",
       "      <td>-20.499273</td>\n",
       "      <td>-47.396658</td>\n",
       "    </tr>\n",
       "    <tr>\n",
       "      <th>1</th>\n",
       "      <td>18955e83d337fd6b2def6b18a428ac77</td>\n",
       "      <td>290c77bc529b7ac935b93aa66c333dc3</td>\n",
       "      <td>9790</td>\n",
       "      <td>sao bernardo do campo</td>\n",
       "      <td>SP</td>\n",
       "      <td>-23.728396</td>\n",
       "      <td>-46.542250</td>\n",
       "    </tr>\n",
       "    <tr>\n",
       "      <th>2</th>\n",
       "      <td>4e7b3e00288586ebd08712fdd0374a03</td>\n",
       "      <td>060e732b5b29e8181a18229c7b0b2b5e</td>\n",
       "      <td>1151</td>\n",
       "      <td>sao paulo</td>\n",
       "      <td>SP</td>\n",
       "      <td>-23.531309</td>\n",
       "      <td>-46.656690</td>\n",
       "    </tr>\n",
       "    <tr>\n",
       "      <th>3</th>\n",
       "      <td>b2b6027bc5c5109e529d4dc6358b12c3</td>\n",
       "      <td>259dac757896d24d7702b9acbbff3f3c</td>\n",
       "      <td>8775</td>\n",
       "      <td>mogi das cruzes</td>\n",
       "      <td>SP</td>\n",
       "      <td>-23.500670</td>\n",
       "      <td>-46.186348</td>\n",
       "    </tr>\n",
       "    <tr>\n",
       "      <th>4</th>\n",
       "      <td>4f2d8ab171c80ec8364f7c12e35b23ad</td>\n",
       "      <td>345ecd01c38d18a9036ed96c73b8d066</td>\n",
       "      <td>13056</td>\n",
       "      <td>campinas</td>\n",
       "      <td>SP</td>\n",
       "      <td>-22.975708</td>\n",
       "      <td>-47.143140</td>\n",
       "    </tr>\n",
       "  </tbody>\n",
       "</table>\n",
       "</div>"
      ],
      "text/plain": [
       "                        customer_id                customer_unique_id  \\\n",
       "0  06b8999e2fba1a1fbc88172c00ba8bc7  861eff4711a542e4b93843c6dd7febb0   \n",
       "1  18955e83d337fd6b2def6b18a428ac77  290c77bc529b7ac935b93aa66c333dc3   \n",
       "2  4e7b3e00288586ebd08712fdd0374a03  060e732b5b29e8181a18229c7b0b2b5e   \n",
       "3  b2b6027bc5c5109e529d4dc6358b12c3  259dac757896d24d7702b9acbbff3f3c   \n",
       "4  4f2d8ab171c80ec8364f7c12e35b23ad  345ecd01c38d18a9036ed96c73b8d066   \n",
       "\n",
       "   customer_zip_code_prefix          customer_city customer_state  \\\n",
       "0                     14409                 franca             SP   \n",
       "1                      9790  sao bernardo do campo             SP   \n",
       "2                      1151              sao paulo             SP   \n",
       "3                      8775        mogi das cruzes             SP   \n",
       "4                     13056               campinas             SP   \n",
       "\n",
       "   geolocation_lat  geolocation_lng  \n",
       "0       -20.499273       -47.396658  \n",
       "1       -23.728396       -46.542250  \n",
       "2       -23.531309       -46.656690  \n",
       "3       -23.500670       -46.186348  \n",
       "4       -22.975708       -47.143140  "
      ]
     },
     "execution_count": 32,
     "metadata": {},
     "output_type": "execute_result"
    }
   ],
   "source": [
    "#reading the head\n",
    "customer_loc.head()"
   ]
  },
  {
   "cell_type": "code",
   "execution_count": 33,
   "id": "7ca37695",
   "metadata": {},
   "outputs": [],
   "source": [
    "#renaming the coluumn name\n",
    "customer_loc.rename(columns = {'geolocation_lat':'customer_lat', 'geolocation_lng': 'customer_lng' }, inplace = True)"
   ]
  },
  {
   "cell_type": "code",
   "execution_count": 34,
   "id": "8c89ca3d",
   "metadata": {
    "scrolled": true
   },
   "outputs": [
    {
     "data": {
      "text/plain": [
       "customer_id                   0\n",
       "customer_unique_id            0\n",
       "customer_zip_code_prefix      0\n",
       "customer_city                 0\n",
       "customer_state                0\n",
       "customer_lat                278\n",
       "customer_lng                278\n",
       "dtype: int64"
      ]
     },
     "execution_count": 34,
     "metadata": {},
     "output_type": "execute_result"
    }
   ],
   "source": [
    "#checking the null values\n",
    "customer_loc.isnull().sum()"
   ]
  },
  {
   "cell_type": "code",
   "execution_count": 35,
   "id": "0d1f20c1",
   "metadata": {
    "scrolled": false
   },
   "outputs": [],
   "source": [
    "#plotting customer citu and state to see city and state with null values\n",
    "# customer_loc[customer_loc['customer_lat'].isnull()][['customer_city', 'customer_state']].value_counts().plot(kind='bar', figsize=(20,10))"
   ]
  },
  {
   "cell_type": "code",
   "execution_count": 36,
   "id": "66911b19",
   "metadata": {},
   "outputs": [
    {
     "data": {
      "image/png": "[encoded data removed]",
      "text/plain": [
       "<Figure size 640x480 with 1 Axes>"
      ]
     },
     "metadata": {},
     "output_type": "display_data"
    }
   ],
   "source": [
    "sns.scatterplot(data=customer_loc, y='customer_lat', x='customer_lng')\n",
    "plt.title('Scatter plot:Latitude and Longitudes for customer location')\n",
    "plt.show()"
   ]
  },
  {
   "cell_type": "code",
   "execution_count": 37,
   "id": "877bd0b9",
   "metadata": {
    "scrolled": true
   },
   "outputs": [],
   "source": [
    "#separating the coordinates which have NAN\n",
    "nan_coord=customer_loc[customer_loc['customer_lat'].isnull()]"
   ]
  },
  {
   "cell_type": "markdown",
   "id": "8d5a56d4",
   "metadata": {},
   "source": [
    "The approach we are using to fill NANs:\n",
    "\n",
    "- We will aggreagate the columns on the basis of customer city and state and we will calculate the mean of the available latitude and longitude for that city state combination.\n",
    "- Using these calaculated latitude and longitudes we will fill the missing latitude and longitude where the city and state is matching. "
   ]
  },
  {
   "cell_type": "code",
   "execution_count": 38,
   "id": "f954420d",
   "metadata": {},
   "outputs": [],
   "source": [
    "#a dataframe to save the mean of latitude and longitude for city-state combination\n",
    "d_tally= customer_loc.groupby(['customer_city', 'customer_state'])[['customer_lat', 'customer_lng'] ].mean().reset_index()"
   ]
  },
  {
   "cell_type": "code",
   "execution_count": 39,
   "id": "dd5c42d4",
   "metadata": {
    "scrolled": false
   },
   "outputs": [
    {
     "data": {
      "text/plain": [
       "customer_city      0\n",
       "customer_state     0\n",
       "customer_lat      51\n",
       "customer_lng      51\n",
       "dtype: int64"
      ]
     },
     "execution_count": 39,
     "metadata": {},
     "output_type": "execute_result"
    }
   ],
   "source": [
    "#checking for null\n",
    "d_tally.isnull().sum()"
   ]
  },
  {
   "cell_type": "markdown",
   "id": "49139717",
   "metadata": {},
   "source": [
    "We thought that we will not have any nulls here, but we have 51 null values. We can fill these values using the mean of latitude and longitude for group i.e customer state."
   ]
  },
  {
   "cell_type": "code",
   "execution_count": 40,
   "id": "cec53902",
   "metadata": {
    "scrolled": true
   },
   "outputs": [
    {
     "data": {
      "text/html": [
       "<div>\n",
       "<style scoped>\n",
       "    .dataframe tbody tr th:only-of-type {\n",
       "        vertical-align: middle;\n",
       "    }\n",
       "\n",
       "    .dataframe tbody tr th {\n",
       "        vertical-align: top;\n",
       "    }\n",
       "\n",
       "    .dataframe thead th {\n",
       "        text-align: right;\n",
       "    }\n",
       "</style>\n",
       "<table border=\"1\" class=\"dataframe\">\n",
       "  <thead>\n",
       "    <tr style=\"text-align: right;\">\n",
       "      <th></th>\n",
       "      <th>customer_city</th>\n",
       "      <th>customer_state</th>\n",
       "      <th>customer_lat</th>\n",
       "      <th>customer_lng</th>\n",
       "    </tr>\n",
       "  </thead>\n",
       "  <tbody>\n",
       "    <tr>\n",
       "      <th>0</th>\n",
       "      <td>abadia dos dourados</td>\n",
       "      <td>MG</td>\n",
       "      <td>-18.477752</td>\n",
       "      <td>-47.406319</td>\n",
       "    </tr>\n",
       "    <tr>\n",
       "      <th>1</th>\n",
       "      <td>abadiania</td>\n",
       "      <td>GO</td>\n",
       "      <td>-16.193718</td>\n",
       "      <td>-48.709452</td>\n",
       "    </tr>\n",
       "    <tr>\n",
       "      <th>2</th>\n",
       "      <td>abaete</td>\n",
       "      <td>MG</td>\n",
       "      <td>-19.158364</td>\n",
       "      <td>-45.446897</td>\n",
       "    </tr>\n",
       "    <tr>\n",
       "      <th>3</th>\n",
       "      <td>abaetetuba</td>\n",
       "      <td>PA</td>\n",
       "      <td>-1.723644</td>\n",
       "      <td>-48.881349</td>\n",
       "    </tr>\n",
       "    <tr>\n",
       "      <th>4</th>\n",
       "      <td>abaiara</td>\n",
       "      <td>CE</td>\n",
       "      <td>-7.355970</td>\n",
       "      <td>-39.043267</td>\n",
       "    </tr>\n",
       "  </tbody>\n",
       "</table>\n",
       "</div>"
      ],
      "text/plain": [
       "         customer_city customer_state  customer_lat  customer_lng\n",
       "0  abadia dos dourados             MG    -18.477752    -47.406319\n",
       "1            abadiania             GO    -16.193718    -48.709452\n",
       "2               abaete             MG    -19.158364    -45.446897\n",
       "3           abaetetuba             PA     -1.723644    -48.881349\n",
       "4              abaiara             CE     -7.355970    -39.043267"
      ]
     },
     "execution_count": 40,
     "metadata": {},
     "output_type": "execute_result"
    }
   ],
   "source": [
    "#d_tally head\n",
    "d_tally.head()"
   ]
  },
  {
   "cell_type": "code",
   "execution_count": 41,
   "id": "68f6be50",
   "metadata": {},
   "outputs": [],
   "source": [
    "# grouping by customer state and imputing the misisng latitude by mean of that group or customer state\n",
    "d_tally['customer_lat']=d_tally.groupby('customer_state', sort=False)['customer_lat'].transform(lambda x: x.fillna(x.mean()))"
   ]
  },
  {
   "cell_type": "code",
   "execution_count": 42,
   "id": "51d81e00",
   "metadata": {},
   "outputs": [],
   "source": [
    "# grouping by customer state and imputing the misisng longitude by mean of that group or customer state\n",
    "d_tally['customer_lng']=d_tally.groupby('customer_state', sort=False)['customer_lng'].transform(lambda x: x.fillna(x.mean()))"
   ]
  },
  {
   "cell_type": "code",
   "execution_count": 43,
   "id": "45644475",
   "metadata": {
    "scrolled": false
   },
   "outputs": [
    {
     "data": {
      "text/plain": [
       "customer_city     0\n",
       "customer_state    0\n",
       "customer_lat      0\n",
       "customer_lng      0\n",
       "dtype: int64"
      ]
     },
     "execution_count": 43,
     "metadata": {},
     "output_type": "execute_result"
    }
   ],
   "source": [
    "#checking for missing values\n",
    "d_tally.isnull().sum()"
   ]
  },
  {
   "cell_type": "markdown",
   "id": "d3ce6520",
   "metadata": {},
   "source": [
    "Now, we can fill the missing latitude and longitudes using the latitude and longitude value available in our d_tally table where the city matches with the city of customer table. I am proceeding with this step on the assumption that none of the cities from different states have same name."
   ]
  },
  {
   "cell_type": "code",
   "execution_count": 44,
   "id": "6c953c6d",
   "metadata": {},
   "outputs": [],
   "source": [
    "for i in nan_coord.index:\n",
    "    customer_loc.loc[i, 'customer_lat']=d_tally[d_tally['customer_city']==customer_loc.loc[i, 'customer_city']]['customer_lat'].values[0]\n",
    "    customer_loc.loc[i, 'customer_lng']=d_tally[d_tally['customer_city']==customer_loc.loc[i, 'customer_city']]['customer_lng'].values[0]"
   ]
  },
  {
   "cell_type": "code",
   "execution_count": 45,
   "id": "8126256b",
   "metadata": {
    "scrolled": true
   },
   "outputs": [
    {
     "data": {
      "text/plain": [
       "customer_id                 0\n",
       "customer_unique_id          0\n",
       "customer_zip_code_prefix    0\n",
       "customer_city               0\n",
       "customer_state              0\n",
       "customer_lat                0\n",
       "customer_lng                0\n",
       "dtype: int64"
      ]
     },
     "execution_count": 45,
     "metadata": {},
     "output_type": "execute_result"
    }
   ],
   "source": [
    "#checking if we still have any null value\n",
    "customer_loc.isnull().sum()"
   ]
  },
  {
   "cell_type": "code",
   "execution_count": 46,
   "id": "ba7adfae",
   "metadata": {},
   "outputs": [
    {
     "data": {
      "image/png": "[encoded data removed]",
      "text/plain": [
       "<Figure size 640x480 with 1 Axes>"
      ]
     },
     "metadata": {},
     "output_type": "display_data"
    }
   ],
   "source": [
    "sns.scatterplot(data=customer_loc, y='customer_lat', x='customer_lng')\n",
    "plt.title('Scatter plot:Latitude and Longitudes for customer location after imputation of null values')\n",
    "plt.show()"
   ]
  },
  {
   "cell_type": "code",
   "execution_count": 47,
   "id": "dc98d4ce",
   "metadata": {},
   "outputs": [],
   "source": [
    "#let us save it into a file\n",
    "customer_loc.to_csv('data_cleaned/customer_loc_cleaned_dataset.csv', index=False)"
   ]
  },
  {
   "cell_type": "markdown",
   "id": "bd27eb46",
   "metadata": {},
   "source": [
    "## 3.3 Sellers dataset\n",
    "\n",
    "<a id = 'seller_dataset' ></a>"
   ]
  },
  {
   "cell_type": "code",
   "execution_count": 48,
   "id": "06a98b34",
   "metadata": {},
   "outputs": [
    {
     "data": {
      "text/html": [
       "<div>\n",
       "<style scoped>\n",
       "    .dataframe tbody tr th:only-of-type {\n",
       "        vertical-align: middle;\n",
       "    }\n",
       "\n",
       "    .dataframe tbody tr th {\n",
       "        vertical-align: top;\n",
       "    }\n",
       "\n",
       "    .dataframe thead th {\n",
       "        text-align: right;\n",
       "    }\n",
       "</style>\n",
       "<table border=\"1\" class=\"dataframe\">\n",
       "  <thead>\n",
       "    <tr style=\"text-align: right;\">\n",
       "      <th></th>\n",
       "      <th>seller_id</th>\n",
       "      <th>seller_zip_code_prefix</th>\n",
       "      <th>seller_city</th>\n",
       "      <th>seller_state</th>\n",
       "    </tr>\n",
       "  </thead>\n",
       "  <tbody>\n",
       "    <tr>\n",
       "      <th>0</th>\n",
       "      <td>3442f8959a84dea7ee197c632cb2df15</td>\n",
       "      <td>13023</td>\n",
       "      <td>campinas</td>\n",
       "      <td>SP</td>\n",
       "    </tr>\n",
       "    <tr>\n",
       "      <th>1</th>\n",
       "      <td>d1b65fc7debc3361ea86b5f14c68d2e2</td>\n",
       "      <td>13844</td>\n",
       "      <td>mogi guacu</td>\n",
       "      <td>SP</td>\n",
       "    </tr>\n",
       "    <tr>\n",
       "      <th>2</th>\n",
       "      <td>ce3ad9de960102d0677a81f5d0bb7b2d</td>\n",
       "      <td>20031</td>\n",
       "      <td>rio de janeiro</td>\n",
       "      <td>RJ</td>\n",
       "    </tr>\n",
       "    <tr>\n",
       "      <th>3</th>\n",
       "      <td>c0f3eea2e14555b6faeea3dd58c1b1c3</td>\n",
       "      <td>4195</td>\n",
       "      <td>sao paulo</td>\n",
       "      <td>SP</td>\n",
       "    </tr>\n",
       "    <tr>\n",
       "      <th>4</th>\n",
       "      <td>51a04a8a6bdcb23deccc82b0b80742cf</td>\n",
       "      <td>12914</td>\n",
       "      <td>braganca paulista</td>\n",
       "      <td>SP</td>\n",
       "    </tr>\n",
       "  </tbody>\n",
       "</table>\n",
       "</div>"
      ],
      "text/plain": [
       "                          seller_id  seller_zip_code_prefix  \\\n",
       "0  3442f8959a84dea7ee197c632cb2df15                   13023   \n",
       "1  d1b65fc7debc3361ea86b5f14c68d2e2                   13844   \n",
       "2  ce3ad9de960102d0677a81f5d0bb7b2d                   20031   \n",
       "3  c0f3eea2e14555b6faeea3dd58c1b1c3                    4195   \n",
       "4  51a04a8a6bdcb23deccc82b0b80742cf                   12914   \n",
       "\n",
       "         seller_city seller_state  \n",
       "0           campinas           SP  \n",
       "1         mogi guacu           SP  \n",
       "2     rio de janeiro           RJ  \n",
       "3          sao paulo           SP  \n",
       "4  braganca paulista           SP  "
      ]
     },
     "execution_count": 48,
     "metadata": {},
     "output_type": "execute_result"
    }
   ],
   "source": [
    "#reading head and tail of the sellers dataframe\n",
    "sellers.head()"
   ]
  },
  {
   "cell_type": "code",
   "execution_count": 49,
   "id": "5e66ce60",
   "metadata": {},
   "outputs": [
    {
     "data": {
      "text/html": [
       "<div>\n",
       "<style scoped>\n",
       "    .dataframe tbody tr th:only-of-type {\n",
       "        vertical-align: middle;\n",
       "    }\n",
       "\n",
       "    .dataframe tbody tr th {\n",
       "        vertical-align: top;\n",
       "    }\n",
       "\n",
       "    .dataframe thead th {\n",
       "        text-align: right;\n",
       "    }\n",
       "</style>\n",
       "<table border=\"1\" class=\"dataframe\">\n",
       "  <thead>\n",
       "    <tr style=\"text-align: right;\">\n",
       "      <th></th>\n",
       "      <th>seller_id</th>\n",
       "      <th>seller_zip_code_prefix</th>\n",
       "      <th>seller_city</th>\n",
       "      <th>seller_state</th>\n",
       "    </tr>\n",
       "  </thead>\n",
       "  <tbody>\n",
       "    <tr>\n",
       "      <th>3090</th>\n",
       "      <td>98dddbc4601dd4443ca174359b237166</td>\n",
       "      <td>87111</td>\n",
       "      <td>sarandi</td>\n",
       "      <td>PR</td>\n",
       "    </tr>\n",
       "    <tr>\n",
       "      <th>3091</th>\n",
       "      <td>f8201cab383e484733266d1906e2fdfa</td>\n",
       "      <td>88137</td>\n",
       "      <td>palhoca</td>\n",
       "      <td>SC</td>\n",
       "    </tr>\n",
       "    <tr>\n",
       "      <th>3092</th>\n",
       "      <td>74871d19219c7d518d0090283e03c137</td>\n",
       "      <td>4650</td>\n",
       "      <td>sao paulo</td>\n",
       "      <td>SP</td>\n",
       "    </tr>\n",
       "    <tr>\n",
       "      <th>3093</th>\n",
       "      <td>e603cf3fec55f8697c9059638d6c8eb5</td>\n",
       "      <td>96080</td>\n",
       "      <td>pelotas</td>\n",
       "      <td>RS</td>\n",
       "    </tr>\n",
       "    <tr>\n",
       "      <th>3094</th>\n",
       "      <td>9e25199f6ef7e7c347120ff175652c3b</td>\n",
       "      <td>12051</td>\n",
       "      <td>taubate</td>\n",
       "      <td>SP</td>\n",
       "    </tr>\n",
       "  </tbody>\n",
       "</table>\n",
       "</div>"
      ],
      "text/plain": [
       "                             seller_id  seller_zip_code_prefix seller_city  \\\n",
       "3090  98dddbc4601dd4443ca174359b237166                   87111     sarandi   \n",
       "3091  f8201cab383e484733266d1906e2fdfa                   88137     palhoca   \n",
       "3092  74871d19219c7d518d0090283e03c137                    4650   sao paulo   \n",
       "3093  e603cf3fec55f8697c9059638d6c8eb5                   96080     pelotas   \n",
       "3094  9e25199f6ef7e7c347120ff175652c3b                   12051     taubate   \n",
       "\n",
       "     seller_state  \n",
       "3090           PR  \n",
       "3091           SC  \n",
       "3092           SP  \n",
       "3093           RS  \n",
       "3094           SP  "
      ]
     },
     "execution_count": 49,
     "metadata": {},
     "output_type": "execute_result"
    }
   ],
   "source": [
    "sellers.tail()"
   ]
  },
  {
   "cell_type": "code",
   "execution_count": 50,
   "id": "4f931942",
   "metadata": {},
   "outputs": [
    {
     "name": "stdout",
     "output_type": "stream",
     "text": [
      "<class 'pandas.core.frame.DataFrame'>\n",
      "RangeIndex: 3095 entries, 0 to 3094\n",
      "Data columns (total 4 columns):\n",
      " #   Column                  Non-Null Count  Dtype \n",
      "---  ------                  --------------  ----- \n",
      " 0   seller_id               3095 non-null   object\n",
      " 1   seller_zip_code_prefix  3095 non-null   int64 \n",
      " 2   seller_city             3095 non-null   object\n",
      " 3   seller_state            3095 non-null   object\n",
      "dtypes: int64(1), object(3)\n",
      "memory usage: 96.8+ KB\n"
     ]
    }
   ],
   "source": [
    "#getting overview of datasets that we have.\n",
    "sellers.info()"
   ]
  },
  {
   "cell_type": "code",
   "execution_count": 51,
   "id": "09e4c246",
   "metadata": {},
   "outputs": [
    {
     "data": {
      "text/plain": [
       "seller_id                 0\n",
       "seller_zip_code_prefix    0\n",
       "seller_city               0\n",
       "seller_state              0\n",
       "dtype: int64"
      ]
     },
     "execution_count": 51,
     "metadata": {},
     "output_type": "execute_result"
    }
   ],
   "source": [
    "#checking the null values\n",
    "sellers.isnull().sum()"
   ]
  },
  {
   "cell_type": "code",
   "execution_count": 52,
   "id": "f55e6094",
   "metadata": {},
   "outputs": [
    {
     "data": {
      "text/plain": [
       "0"
      ]
     },
     "execution_count": 52,
     "metadata": {},
     "output_type": "execute_result"
    }
   ],
   "source": [
    "#checking duplicates across rows\n",
    "sellers.duplicated().sum()"
   ]
  },
  {
   "cell_type": "code",
   "execution_count": 53,
   "id": "1f7ecb8a",
   "metadata": {},
   "outputs": [
    {
     "data": {
      "text/plain": [
       "0"
      ]
     },
     "execution_count": 53,
     "metadata": {},
     "output_type": "execute_result"
    }
   ],
   "source": [
    "#checking duplicates across columns\n",
    "sellers.T.duplicated().sum()"
   ]
  },
  {
   "cell_type": "code",
   "execution_count": 54,
   "id": "e1050f1d",
   "metadata": {
    "scrolled": true
   },
   "outputs": [
    {
     "data": {
      "text/plain": [
       "3095"
      ]
     },
     "execution_count": 54,
     "metadata": {},
     "output_type": "execute_result"
    }
   ],
   "source": [
    "#checking the unique values in column unique id and customer id\n",
    "sellers['seller_id'].nunique()"
   ]
  },
  {
   "cell_type": "markdown",
   "id": "c2676e2f",
   "metadata": {},
   "source": [
    "#### Quick findings:\n",
    "\n",
    "- Sellers dataset has information about seller location.\n",
    "- We have a total of 3095 unique seller ids which is the primary key for this dataset \n",
    "- This dataset has **three** columns of object datatype and **one** column with numeric datatype.\n",
    "- There are no duplicates across rows or columns.\n",
    "- There is no null value."
   ]
  },
  {
   "cell_type": "markdown",
   "id": "9fa41c4a",
   "metadata": {},
   "source": [
    "### Merging the coordinates dataframe with the seller dataframe"
   ]
  },
  {
   "cell_type": "code",
   "execution_count": 55,
   "id": "895e5864",
   "metadata": {},
   "outputs": [],
   "source": [
    "#merging the dataframes\n",
    "seller_loc=pd.merge(left=sellers, right=coordinates, left_on='seller_zip_code_prefix', right_on='geolocation_zip_code_prefix', how='left')"
   ]
  },
  {
   "cell_type": "code",
   "execution_count": 56,
   "id": "a343fa23",
   "metadata": {},
   "outputs": [],
   "source": [
    "#dropping unnecessary column\n",
    "seller_loc.drop(columns=['geolocation_zip_code_prefix'], inplace=True)"
   ]
  },
  {
   "cell_type": "code",
   "execution_count": 57,
   "id": "c25191a8",
   "metadata": {},
   "outputs": [
    {
     "name": "stdout",
     "output_type": "stream",
     "text": [
      "<class 'pandas.core.frame.DataFrame'>\n",
      "Int64Index: 3095 entries, 0 to 3094\n",
      "Data columns (total 6 columns):\n",
      " #   Column                  Non-Null Count  Dtype  \n",
      "---  ------                  --------------  -----  \n",
      " 0   seller_id               3095 non-null   object \n",
      " 1   seller_zip_code_prefix  3095 non-null   int64  \n",
      " 2   seller_city             3095 non-null   object \n",
      " 3   seller_state            3095 non-null   object \n",
      " 4   geolocation_lat         3088 non-null   float64\n",
      " 5   geolocation_lng         3088 non-null   float64\n",
      "dtypes: float64(2), int64(1), object(3)\n",
      "memory usage: 169.3+ KB\n"
     ]
    }
   ],
   "source": [
    "seller_loc.info()"
   ]
  },
  {
   "cell_type": "code",
   "execution_count": 58,
   "id": "932c2df4",
   "metadata": {},
   "outputs": [],
   "source": [
    "#renaming column name\n",
    "seller_loc.rename(columns = {'geolocation_lat':'seller_lat', 'geolocation_lng': 'seller_lng' }, inplace = True)"
   ]
  },
  {
   "cell_type": "code",
   "execution_count": 59,
   "id": "31aaac73",
   "metadata": {
    "scrolled": true
   },
   "outputs": [
    {
     "data": {
      "text/plain": [
       "seller_id                 0\n",
       "seller_zip_code_prefix    0\n",
       "seller_city               0\n",
       "seller_state              0\n",
       "seller_lat                7\n",
       "seller_lng                7\n",
       "dtype: int64"
      ]
     },
     "execution_count": 59,
     "metadata": {},
     "output_type": "execute_result"
    }
   ],
   "source": [
    "#checking null values\n",
    "seller_loc.isnull().sum()"
   ]
  },
  {
   "cell_type": "markdown",
   "id": "b160fc88",
   "metadata": {},
   "source": [
    "We only have 7 rows with null values. Since this is a small number we can find out the cities which are missing these values."
   ]
  },
  {
   "cell_type": "code",
   "execution_count": 60,
   "id": "0a6122e2",
   "metadata": {
    "scrolled": true
   },
   "outputs": [
    {
     "data": {
      "text/html": [
       "<div>\n",
       "<style scoped>\n",
       "    .dataframe tbody tr th:only-of-type {\n",
       "        vertical-align: middle;\n",
       "    }\n",
       "\n",
       "    .dataframe tbody tr th {\n",
       "        vertical-align: top;\n",
       "    }\n",
       "\n",
       "    .dataframe thead th {\n",
       "        text-align: right;\n",
       "    }\n",
       "</style>\n",
       "<table border=\"1\" class=\"dataframe\">\n",
       "  <thead>\n",
       "    <tr style=\"text-align: right;\">\n",
       "      <th></th>\n",
       "      <th>seller_id</th>\n",
       "      <th>seller_zip_code_prefix</th>\n",
       "      <th>seller_city</th>\n",
       "      <th>seller_state</th>\n",
       "      <th>seller_lat</th>\n",
       "      <th>seller_lng</th>\n",
       "    </tr>\n",
       "  </thead>\n",
       "  <tbody>\n",
       "    <tr>\n",
       "      <th>473</th>\n",
       "      <td>5962468f885ea01a1b6a97a218797b0a</td>\n",
       "      <td>82040</td>\n",
       "      <td>curitiba</td>\n",
       "      <td>PR</td>\n",
       "      <td>NaN</td>\n",
       "      <td>NaN</td>\n",
       "    </tr>\n",
       "    <tr>\n",
       "      <th>791</th>\n",
       "      <td>2aafae69bf4c41fbd94053d9413e87ee</td>\n",
       "      <td>91901</td>\n",
       "      <td>porto alegre</td>\n",
       "      <td>RS</td>\n",
       "      <td>NaN</td>\n",
       "      <td>NaN</td>\n",
       "    </tr>\n",
       "    <tr>\n",
       "      <th>1672</th>\n",
       "      <td>2a50b7ee5aebecc6fd0ff9784a4747d6</td>\n",
       "      <td>72580</td>\n",
       "      <td>brasilia</td>\n",
       "      <td>DF</td>\n",
       "      <td>NaN</td>\n",
       "      <td>NaN</td>\n",
       "    </tr>\n",
       "    <tr>\n",
       "      <th>1931</th>\n",
       "      <td>2e90cb1677d35cfe24eef47d441b7c87</td>\n",
       "      <td>2285</td>\n",
       "      <td>sao paulo</td>\n",
       "      <td>SP</td>\n",
       "      <td>NaN</td>\n",
       "      <td>NaN</td>\n",
       "    </tr>\n",
       "    <tr>\n",
       "      <th>2182</th>\n",
       "      <td>0b3f27369a4d8df98f7eb91077e438ac</td>\n",
       "      <td>7412</td>\n",
       "      <td>aruja</td>\n",
       "      <td>SP</td>\n",
       "      <td>NaN</td>\n",
       "      <td>NaN</td>\n",
       "    </tr>\n",
       "    <tr>\n",
       "      <th>2986</th>\n",
       "      <td>42bde9fef835393bb8a8849cb6b7f245</td>\n",
       "      <td>71551</td>\n",
       "      <td>brasilia</td>\n",
       "      <td>DF</td>\n",
       "      <td>NaN</td>\n",
       "      <td>NaN</td>\n",
       "    </tr>\n",
       "    <tr>\n",
       "      <th>3028</th>\n",
       "      <td>870d0118f7a9d85960f29ad89d5d989a</td>\n",
       "      <td>37708</td>\n",
       "      <td>pocos de caldas</td>\n",
       "      <td>MG</td>\n",
       "      <td>NaN</td>\n",
       "      <td>NaN</td>\n",
       "    </tr>\n",
       "  </tbody>\n",
       "</table>\n",
       "</div>"
      ],
      "text/plain": [
       "                             seller_id  seller_zip_code_prefix  \\\n",
       "473   5962468f885ea01a1b6a97a218797b0a                   82040   \n",
       "791   2aafae69bf4c41fbd94053d9413e87ee                   91901   \n",
       "1672  2a50b7ee5aebecc6fd0ff9784a4747d6                   72580   \n",
       "1931  2e90cb1677d35cfe24eef47d441b7c87                    2285   \n",
       "2182  0b3f27369a4d8df98f7eb91077e438ac                    7412   \n",
       "2986  42bde9fef835393bb8a8849cb6b7f245                   71551   \n",
       "3028  870d0118f7a9d85960f29ad89d5d989a                   37708   \n",
       "\n",
       "          seller_city seller_state  seller_lat  seller_lng  \n",
       "473          curitiba           PR         NaN         NaN  \n",
       "791      porto alegre           RS         NaN         NaN  \n",
       "1672         brasilia           DF         NaN         NaN  \n",
       "1931        sao paulo           SP         NaN         NaN  \n",
       "2182            aruja           SP         NaN         NaN  \n",
       "2986         brasilia           DF         NaN         NaN  \n",
       "3028  pocos de caldas           MG         NaN         NaN  "
      ]
     },
     "execution_count": 60,
     "metadata": {},
     "output_type": "execute_result"
    }
   ],
   "source": [
    "#cities which are missing coordinates.\n",
    "seller_loc.loc[seller_loc['seller_lat'].isnull()]"
   ]
  },
  {
   "cell_type": "markdown",
   "id": "35272209",
   "metadata": {},
   "source": [
    "There are seven cities which are missing the values: Curitiba, Porto Alegre, Brasilia, Sao Paulo, Aruja, Pocos de caldas.\n",
    "We will calaculate the mean latitude and longitude values for these cities and fill the missing values.  I am proceeding with this step on the assumption that none of the cities from different states have same name."
   ]
  },
  {
   "cell_type": "code",
   "execution_count": 61,
   "id": "1f214652",
   "metadata": {
    "scrolled": true
   },
   "outputs": [
    {
     "data": {
      "text/plain": [
       "sao paulo              694\n",
       "curitiba               127\n",
       "rio de janeiro          96\n",
       "belo horizonte          68\n",
       "ribeirao preto          52\n",
       "                      ... \n",
       "taruma                   1\n",
       "s jose do rio preto      1\n",
       "domingos martins         1\n",
       "messias targino          1\n",
       "leme                     1\n",
       "Name: seller_city, Length: 611, dtype: int64"
      ]
     },
     "execution_count": 61,
     "metadata": {},
     "output_type": "execute_result"
    }
   ],
   "source": [
    "seller_loc['seller_city'].value_counts()"
   ]
  },
  {
   "cell_type": "code",
   "execution_count": 62,
   "id": "44062b51",
   "metadata": {
    "scrolled": false
   },
   "outputs": [
    {
     "data": {
      "text/html": [
       "<div>\n",
       "<style scoped>\n",
       "    .dataframe tbody tr th:only-of-type {\n",
       "        vertical-align: middle;\n",
       "    }\n",
       "\n",
       "    .dataframe tbody tr th {\n",
       "        vertical-align: top;\n",
       "    }\n",
       "\n",
       "    .dataframe thead th {\n",
       "        text-align: right;\n",
       "    }\n",
       "</style>\n",
       "<table border=\"1\" class=\"dataframe\">\n",
       "  <thead>\n",
       "    <tr style=\"text-align: right;\">\n",
       "      <th></th>\n",
       "      <th>seller_zip_code_prefix</th>\n",
       "      <th>seller_lat</th>\n",
       "      <th>seller_lng</th>\n",
       "    </tr>\n",
       "    <tr>\n",
       "      <th>seller_city</th>\n",
       "      <th></th>\n",
       "      <th></th>\n",
       "      <th></th>\n",
       "    </tr>\n",
       "  </thead>\n",
       "  <tbody>\n",
       "    <tr>\n",
       "      <th>aruja</th>\n",
       "      <td>7404.666667</td>\n",
       "      <td>-23.396249</td>\n",
       "      <td>-46.319178</td>\n",
       "    </tr>\n",
       "    <tr>\n",
       "      <th>brasilia</th>\n",
       "      <td>71520.928571</td>\n",
       "      <td>-15.805680</td>\n",
       "      <td>-47.962067</td>\n",
       "    </tr>\n",
       "    <tr>\n",
       "      <th>curitiba</th>\n",
       "      <td>81194.370079</td>\n",
       "      <td>-25.452713</td>\n",
       "      <td>-49.277135</td>\n",
       "    </tr>\n",
       "    <tr>\n",
       "      <th>pocos de caldas</th>\n",
       "      <td>37705.600000</td>\n",
       "      <td>-21.811821</td>\n",
       "      <td>-46.557979</td>\n",
       "    </tr>\n",
       "    <tr>\n",
       "      <th>porto alegre</th>\n",
       "      <td>90875.392857</td>\n",
       "      <td>-30.036305</td>\n",
       "      <td>-51.190150</td>\n",
       "    </tr>\n",
       "    <tr>\n",
       "      <th>sao paulo</th>\n",
       "      <td>3951.201729</td>\n",
       "      <td>-23.548343</td>\n",
       "      <td>-46.629935</td>\n",
       "    </tr>\n",
       "  </tbody>\n",
       "</table>\n",
       "</div>"
      ],
      "text/plain": [
       "                 seller_zip_code_prefix  seller_lat  seller_lng\n",
       "seller_city                                                    \n",
       "aruja                       7404.666667  -23.396249  -46.319178\n",
       "brasilia                   71520.928571  -15.805680  -47.962067\n",
       "curitiba                   81194.370079  -25.452713  -49.277135\n",
       "pocos de caldas            37705.600000  -21.811821  -46.557979\n",
       "porto alegre               90875.392857  -30.036305  -51.190150\n",
       "sao paulo                   3951.201729  -23.548343  -46.629935"
      ]
     },
     "execution_count": 62,
     "metadata": {},
     "output_type": "execute_result"
    }
   ],
   "source": [
    "#checking if we have mean latitude and longitude values for these cities\n",
    "seller_loc[(seller_loc['seller_city']== 'sao paulo') | (seller_loc['seller_city']== 'curitiba') |\n",
    "(seller_loc['seller_city']== 'porto alegre') | (seller_loc['seller_city']== 'brasilia') |\n",
    "(seller_loc['seller_city']== 'aruja') | (seller_loc['seller_city']== 'pocos de caldas')]. \\\n",
    "groupby('seller_city')[['seller_zip_code_prefix', 'seller_lat', 'seller_lng']].mean()"
   ]
  },
  {
   "cell_type": "code",
   "execution_count": 63,
   "id": "67f8dd7b",
   "metadata": {},
   "outputs": [],
   "source": [
    "#saving the calaculation from above in separate dataframe\n",
    "sdb=seller_loc.groupby('seller_city')[['seller_zip_code_prefix', 'seller_lat', 'seller_lng']].mean().reset_index()"
   ]
  },
  {
   "cell_type": "markdown",
   "id": "d2895528",
   "metadata": {},
   "source": [
    "We can impute the missing latitude and longitude values with the mean latitude and longitude values at these cities."
   ]
  },
  {
   "cell_type": "code",
   "execution_count": 64,
   "id": "ec9f6989",
   "metadata": {},
   "outputs": [],
   "source": [
    "for i in seller_loc[seller_loc['seller_lat'].isnull()].index:\n",
    "    seller_loc.loc[i, 'seller_lat']=sdb[sdb['seller_city']==seller_loc.loc[i, 'seller_city']]['seller_lat'].values[0]\n",
    "    seller_loc.loc[i, 'seller_lng']=sdb[sdb['seller_city']==seller_loc.loc[i, 'seller_city']]['seller_lng'].values[0]"
   ]
  },
  {
   "cell_type": "code",
   "execution_count": 65,
   "id": "c5c561b5",
   "metadata": {
    "scrolled": true
   },
   "outputs": [
    {
     "data": {
      "text/plain": [
       "seller_id                 0\n",
       "seller_zip_code_prefix    0\n",
       "seller_city               0\n",
       "seller_state              0\n",
       "seller_lat                0\n",
       "seller_lng                0\n",
       "dtype: int64"
      ]
     },
     "execution_count": 65,
     "metadata": {},
     "output_type": "execute_result"
    }
   ],
   "source": [
    "#checking for null\n",
    "seller_loc.isnull().sum()"
   ]
  },
  {
   "cell_type": "markdown",
   "id": "bbfb50dd",
   "metadata": {},
   "source": [
    "Save the cleaned seller location data in seller_loc_cleaned csv file and similary save the cleaned customer location data."
   ]
  },
  {
   "cell_type": "code",
   "execution_count": 66,
   "id": "1f2aa2e9",
   "metadata": {},
   "outputs": [],
   "source": [
    "# save the cleaned data to file\n",
    "seller_loc.to_csv('data_cleaned/seller_loc_cleaned_dataset.csv', index=False)"
   ]
  },
  {
   "cell_type": "markdown",
   "id": "a1001f54",
   "metadata": {},
   "source": [
    "## 3.4 Payments dataset\n",
    "\n",
    "<a id = 'payment_dataset' ></a>"
   ]
  },
  {
   "cell_type": "code",
   "execution_count": 67,
   "id": "45146a45",
   "metadata": {},
   "outputs": [
    {
     "data": {
      "text/html": [
       "<div>\n",
       "<style scoped>\n",
       "    .dataframe tbody tr th:only-of-type {\n",
       "        vertical-align: middle;\n",
       "    }\n",
       "\n",
       "    .dataframe tbody tr th {\n",
       "        vertical-align: top;\n",
       "    }\n",
       "\n",
       "    .dataframe thead th {\n",
       "        text-align: right;\n",
       "    }\n",
       "</style>\n",
       "<table border=\"1\" class=\"dataframe\">\n",
       "  <thead>\n",
       "    <tr style=\"text-align: right;\">\n",
       "      <th></th>\n",
       "      <th>order_id</th>\n",
       "      <th>payment_sequential</th>\n",
       "      <th>payment_type</th>\n",
       "      <th>payment_installments</th>\n",
       "      <th>payment_value</th>\n",
       "    </tr>\n",
       "  </thead>\n",
       "  <tbody>\n",
       "    <tr>\n",
       "      <th>0</th>\n",
       "      <td>b81ef226f3fe1789b1e8b2acac839d17</td>\n",
       "      <td>1</td>\n",
       "      <td>credit_card</td>\n",
       "      <td>8</td>\n",
       "      <td>99.33</td>\n",
       "    </tr>\n",
       "    <tr>\n",
       "      <th>1</th>\n",
       "      <td>a9810da82917af2d9aefd1278f1dcfa0</td>\n",
       "      <td>1</td>\n",
       "      <td>credit_card</td>\n",
       "      <td>1</td>\n",
       "      <td>24.39</td>\n",
       "    </tr>\n",
       "    <tr>\n",
       "      <th>2</th>\n",
       "      <td>25e8ea4e93396b6fa0d3dd708e76c1bd</td>\n",
       "      <td>1</td>\n",
       "      <td>credit_card</td>\n",
       "      <td>1</td>\n",
       "      <td>65.71</td>\n",
       "    </tr>\n",
       "    <tr>\n",
       "      <th>3</th>\n",
       "      <td>ba78997921bbcdc1373bb41e913ab953</td>\n",
       "      <td>1</td>\n",
       "      <td>credit_card</td>\n",
       "      <td>8</td>\n",
       "      <td>107.78</td>\n",
       "    </tr>\n",
       "    <tr>\n",
       "      <th>4</th>\n",
       "      <td>42fdf880ba16b47b59251dd489d4441a</td>\n",
       "      <td>1</td>\n",
       "      <td>credit_card</td>\n",
       "      <td>2</td>\n",
       "      <td>128.45</td>\n",
       "    </tr>\n",
       "  </tbody>\n",
       "</table>\n",
       "</div>"
      ],
      "text/plain": [
       "                           order_id  payment_sequential payment_type  \\\n",
       "0  b81ef226f3fe1789b1e8b2acac839d17                   1  credit_card   \n",
       "1  a9810da82917af2d9aefd1278f1dcfa0                   1  credit_card   \n",
       "2  25e8ea4e93396b6fa0d3dd708e76c1bd                   1  credit_card   \n",
       "3  ba78997921bbcdc1373bb41e913ab953                   1  credit_card   \n",
       "4  42fdf880ba16b47b59251dd489d4441a                   1  credit_card   \n",
       "\n",
       "   payment_installments  payment_value  \n",
       "0                     8          99.33  \n",
       "1                     1          24.39  \n",
       "2                     1          65.71  \n",
       "3                     8         107.78  \n",
       "4                     2         128.45  "
      ]
     },
     "execution_count": 67,
     "metadata": {},
     "output_type": "execute_result"
    }
   ],
   "source": [
    "#reading head and tail of the payments dataframe\n",
    "payments.head()"
   ]
  },
  {
   "cell_type": "code",
   "execution_count": 68,
   "id": "772c3d8f",
   "metadata": {},
   "outputs": [
    {
     "data": {
      "text/html": [
       "<div>\n",
       "<style scoped>\n",
       "    .dataframe tbody tr th:only-of-type {\n",
       "        vertical-align: middle;\n",
       "    }\n",
       "\n",
       "    .dataframe tbody tr th {\n",
       "        vertical-align: top;\n",
       "    }\n",
       "\n",
       "    .dataframe thead th {\n",
       "        text-align: right;\n",
       "    }\n",
       "</style>\n",
       "<table border=\"1\" class=\"dataframe\">\n",
       "  <thead>\n",
       "    <tr style=\"text-align: right;\">\n",
       "      <th></th>\n",
       "      <th>order_id</th>\n",
       "      <th>payment_sequential</th>\n",
       "      <th>payment_type</th>\n",
       "      <th>payment_installments</th>\n",
       "      <th>payment_value</th>\n",
       "    </tr>\n",
       "  </thead>\n",
       "  <tbody>\n",
       "    <tr>\n",
       "      <th>103881</th>\n",
       "      <td>0406037ad97740d563a178ecc7a2075c</td>\n",
       "      <td>1</td>\n",
       "      <td>boleto</td>\n",
       "      <td>1</td>\n",
       "      <td>363.31</td>\n",
       "    </tr>\n",
       "    <tr>\n",
       "      <th>103882</th>\n",
       "      <td>7b905861d7c825891d6347454ea7863f</td>\n",
       "      <td>1</td>\n",
       "      <td>credit_card</td>\n",
       "      <td>2</td>\n",
       "      <td>96.80</td>\n",
       "    </tr>\n",
       "    <tr>\n",
       "      <th>103883</th>\n",
       "      <td>32609bbb3dd69b3c066a6860554a77bf</td>\n",
       "      <td>1</td>\n",
       "      <td>credit_card</td>\n",
       "      <td>1</td>\n",
       "      <td>47.77</td>\n",
       "    </tr>\n",
       "    <tr>\n",
       "      <th>103884</th>\n",
       "      <td>b8b61059626efa996a60be9bb9320e10</td>\n",
       "      <td>1</td>\n",
       "      <td>credit_card</td>\n",
       "      <td>5</td>\n",
       "      <td>369.54</td>\n",
       "    </tr>\n",
       "    <tr>\n",
       "      <th>103885</th>\n",
       "      <td>28bbae6599b09d39ca406b747b6632b1</td>\n",
       "      <td>1</td>\n",
       "      <td>boleto</td>\n",
       "      <td>1</td>\n",
       "      <td>191.58</td>\n",
       "    </tr>\n",
       "  </tbody>\n",
       "</table>\n",
       "</div>"
      ],
      "text/plain": [
       "                                order_id  payment_sequential payment_type  \\\n",
       "103881  0406037ad97740d563a178ecc7a2075c                   1       boleto   \n",
       "103882  7b905861d7c825891d6347454ea7863f                   1  credit_card   \n",
       "103883  32609bbb3dd69b3c066a6860554a77bf                   1  credit_card   \n",
       "103884  b8b61059626efa996a60be9bb9320e10                   1  credit_card   \n",
       "103885  28bbae6599b09d39ca406b747b6632b1                   1       boleto   \n",
       "\n",
       "        payment_installments  payment_value  \n",
       "103881                     1         363.31  \n",
       "103882                     2          96.80  \n",
       "103883                     1          47.77  \n",
       "103884                     5         369.54  \n",
       "103885                     1         191.58  "
      ]
     },
     "execution_count": 68,
     "metadata": {},
     "output_type": "execute_result"
    }
   ],
   "source": [
    "payments.tail()"
   ]
  },
  {
   "cell_type": "code",
   "execution_count": 69,
   "id": "904f50e7",
   "metadata": {},
   "outputs": [
    {
     "name": "stdout",
     "output_type": "stream",
     "text": [
      "<class 'pandas.core.frame.DataFrame'>\n",
      "RangeIndex: 103886 entries, 0 to 103885\n",
      "Data columns (total 5 columns):\n",
      " #   Column                Non-Null Count   Dtype  \n",
      "---  ------                --------------   -----  \n",
      " 0   order_id              103886 non-null  object \n",
      " 1   payment_sequential    103886 non-null  int64  \n",
      " 2   payment_type          103886 non-null  object \n",
      " 3   payment_installments  103886 non-null  int64  \n",
      " 4   payment_value         103886 non-null  float64\n",
      "dtypes: float64(1), int64(2), object(2)\n",
      "memory usage: 4.0+ MB\n"
     ]
    }
   ],
   "source": [
    "#getting overview of datasets that we have.\n",
    "payments.info()"
   ]
  },
  {
   "cell_type": "code",
   "execution_count": 70,
   "id": "b94bdcba",
   "metadata": {},
   "outputs": [
    {
     "data": {
      "text/plain": [
       "order_id                0\n",
       "payment_sequential      0\n",
       "payment_type            0\n",
       "payment_installments    0\n",
       "payment_value           0\n",
       "dtype: int64"
      ]
     },
     "execution_count": 70,
     "metadata": {},
     "output_type": "execute_result"
    }
   ],
   "source": [
    "#checking the null values\n",
    "payments.isnull().sum()"
   ]
  },
  {
   "cell_type": "code",
   "execution_count": 71,
   "id": "50b72710",
   "metadata": {},
   "outputs": [
    {
     "data": {
      "text/plain": [
       "0"
      ]
     },
     "execution_count": 71,
     "metadata": {},
     "output_type": "execute_result"
    }
   ],
   "source": [
    "#checking duplicates across rows\n",
    "payments.duplicated().sum()"
   ]
  },
  {
   "cell_type": "code",
   "execution_count": 72,
   "id": "fd3a69d3",
   "metadata": {
    "scrolled": true
   },
   "outputs": [
    {
     "data": {
      "text/plain": [
       "0"
      ]
     },
     "execution_count": 72,
     "metadata": {},
     "output_type": "execute_result"
    }
   ],
   "source": [
    "#checking duplicates across columns\n",
    "payments.T.duplicated().sum()"
   ]
  },
  {
   "cell_type": "code",
   "execution_count": 73,
   "id": "adc8dbad",
   "metadata": {
    "scrolled": true
   },
   "outputs": [
    {
     "data": {
      "text/plain": [
       "99440"
      ]
     },
     "execution_count": 73,
     "metadata": {},
     "output_type": "execute_result"
    }
   ],
   "source": [
    "#checking if we have payment details for all 99441 customers and their orders.\n",
    "payments['order_id'].nunique()"
   ]
  },
  {
   "cell_type": "code",
   "execution_count": 93,
   "id": "18696d0b",
   "metadata": {},
   "outputs": [
    {
     "data": {
      "text/plain": [
       "['credit_card', 'boleto', 'voucher', 'debit_card', 'not_defined']"
      ]
     },
     "execution_count": 93,
     "metadata": {},
     "output_type": "execute_result"
    }
   ],
   "source": [
    "payments['payment_type'].value_counts(normalize=True).index.tolist()"
   ]
  },
  {
   "cell_type": "code",
   "execution_count": 98,
   "id": "1a12145b",
   "metadata": {},
   "outputs": [
    {
     "data": {
      "image/png": "[encoded data removed]",
      "text/plain": [
       "<Figure size 640x480 with 1 Axes>"
      ]
     },
     "metadata": {},
     "output_type": "display_data"
    }
   ],
   "source": [
    "(payments['payment_type'].value_counts(normalize=True)*100).plot(kind='barh')\n",
    "plt.title('Different payment methods used')\n",
    "plt.show()"
   ]
  },
  {
   "cell_type": "markdown",
   "id": "61ce477a",
   "metadata": {},
   "source": [
    "#### Quick findings:\n",
    "\n",
    "- Payments dataset has information about the way customer made payment for each order.\n",
    "- We have a total of 99441 customer id which is equal to the total order ids but we have payment information for 99440 orders.\n",
    "- This dataset has **three** columns of object datatype and **two** column with numeric datatype.\n",
    "- There are no duplicates across rows or columns.\n",
    "- There is no null value.\n",
    "- order_id is the foreign key in this table.\n",
    "\n",
    "We will keep this table aside beacuse we are not interested in this table for our present scope of work."
   ]
  },
  {
   "cell_type": "markdown",
   "id": "0b33bc2e",
   "metadata": {},
   "source": [
    "## 3.5 Order item dataset\n",
    "\n",
    "<a id = 'order_item_dataset' ></a>"
   ]
  },
  {
   "cell_type": "code",
   "execution_count": 74,
   "id": "73fbe39f",
   "metadata": {},
   "outputs": [
    {
     "data": {
      "text/html": [
       "<div>\n",
       "<style scoped>\n",
       "    .dataframe tbody tr th:only-of-type {\n",
       "        vertical-align: middle;\n",
       "    }\n",
       "\n",
       "    .dataframe tbody tr th {\n",
       "        vertical-align: top;\n",
       "    }\n",
       "\n",
       "    .dataframe thead th {\n",
       "        text-align: right;\n",
       "    }\n",
       "</style>\n",
       "<table border=\"1\" class=\"dataframe\">\n",
       "  <thead>\n",
       "    <tr style=\"text-align: right;\">\n",
       "      <th></th>\n",
       "      <th>order_id</th>\n",
       "      <th>order_item_id</th>\n",
       "      <th>product_id</th>\n",
       "      <th>seller_id</th>\n",
       "      <th>shipping_limit_date</th>\n",
       "      <th>price</th>\n",
       "      <th>freight_value</th>\n",
       "    </tr>\n",
       "  </thead>\n",
       "  <tbody>\n",
       "    <tr>\n",
       "      <th>0</th>\n",
       "      <td>00010242fe8c5a6d1ba2dd792cb16214</td>\n",
       "      <td>1</td>\n",
       "      <td>4244733e06e7ecb4970a6e2683c13e61</td>\n",
       "      <td>48436dade18ac8b2bce089ec2a041202</td>\n",
       "      <td>2017-09-19 09:45:35</td>\n",
       "      <td>58.90</td>\n",
       "      <td>13.29</td>\n",
       "    </tr>\n",
       "    <tr>\n",
       "      <th>1</th>\n",
       "      <td>00018f77f2f0320c557190d7a144bdd3</td>\n",
       "      <td>1</td>\n",
       "      <td>e5f2d52b802189ee658865ca93d83a8f</td>\n",
       "      <td>dd7ddc04e1b6c2c614352b383efe2d36</td>\n",
       "      <td>2017-05-03 11:05:13</td>\n",
       "      <td>239.90</td>\n",
       "      <td>19.93</td>\n",
       "    </tr>\n",
       "    <tr>\n",
       "      <th>2</th>\n",
       "      <td>000229ec398224ef6ca0657da4fc703e</td>\n",
       "      <td>1</td>\n",
       "      <td>c777355d18b72b67abbeef9df44fd0fd</td>\n",
       "      <td>5b51032eddd242adc84c38acab88f23d</td>\n",
       "      <td>2018-01-18 14:48:30</td>\n",
       "      <td>199.00</td>\n",
       "      <td>17.87</td>\n",
       "    </tr>\n",
       "    <tr>\n",
       "      <th>3</th>\n",
       "      <td>00024acbcdf0a6daa1e931b038114c75</td>\n",
       "      <td>1</td>\n",
       "      <td>7634da152a4610f1595efa32f14722fc</td>\n",
       "      <td>9d7a1d34a5052409006425275ba1c2b4</td>\n",
       "      <td>2018-08-15 10:10:18</td>\n",
       "      <td>12.99</td>\n",
       "      <td>12.79</td>\n",
       "    </tr>\n",
       "    <tr>\n",
       "      <th>4</th>\n",
       "      <td>00042b26cf59d7ce69dfabb4e55b4fd9</td>\n",
       "      <td>1</td>\n",
       "      <td>ac6c3623068f30de03045865e4e10089</td>\n",
       "      <td>df560393f3a51e74553ab94004ba5c87</td>\n",
       "      <td>2017-02-13 13:57:51</td>\n",
       "      <td>199.90</td>\n",
       "      <td>18.14</td>\n",
       "    </tr>\n",
       "  </tbody>\n",
       "</table>\n",
       "</div>"
      ],
      "text/plain": [
       "                           order_id  order_item_id  \\\n",
       "0  00010242fe8c5a6d1ba2dd792cb16214              1   \n",
       "1  00018f77f2f0320c557190d7a144bdd3              1   \n",
       "2  000229ec398224ef6ca0657da4fc703e              1   \n",
       "3  00024acbcdf0a6daa1e931b038114c75              1   \n",
       "4  00042b26cf59d7ce69dfabb4e55b4fd9              1   \n",
       "\n",
       "                         product_id                         seller_id  \\\n",
       "0  4244733e06e7ecb4970a6e2683c13e61  48436dade18ac8b2bce089ec2a041202   \n",
       "1  e5f2d52b802189ee658865ca93d83a8f  dd7ddc04e1b6c2c614352b383efe2d36   \n",
       "2  c777355d18b72b67abbeef9df44fd0fd  5b51032eddd242adc84c38acab88f23d   \n",
       "3  7634da152a4610f1595efa32f14722fc  9d7a1d34a5052409006425275ba1c2b4   \n",
       "4  ac6c3623068f30de03045865e4e10089  df560393f3a51e74553ab94004ba5c87   \n",
       "\n",
       "   shipping_limit_date   price  freight_value  \n",
       "0  2017-09-19 09:45:35   58.90          13.29  \n",
       "1  2017-05-03 11:05:13  239.90          19.93  \n",
       "2  2018-01-18 14:48:30  199.00          17.87  \n",
       "3  2018-08-15 10:10:18   12.99          12.79  \n",
       "4  2017-02-13 13:57:51  199.90          18.14  "
      ]
     },
     "execution_count": 74,
     "metadata": {},
     "output_type": "execute_result"
    }
   ],
   "source": [
    "#reading head and tail of the order item dataframe\n",
    "order_items.head()"
   ]
  },
  {
   "cell_type": "code",
   "execution_count": 75,
   "id": "7f305ce6",
   "metadata": {},
   "outputs": [
    {
     "data": {
      "text/html": [
       "<div>\n",
       "<style scoped>\n",
       "    .dataframe tbody tr th:only-of-type {\n",
       "        vertical-align: middle;\n",
       "    }\n",
       "\n",
       "    .dataframe tbody tr th {\n",
       "        vertical-align: top;\n",
       "    }\n",
       "\n",
       "    .dataframe thead th {\n",
       "        text-align: right;\n",
       "    }\n",
       "</style>\n",
       "<table border=\"1\" class=\"dataframe\">\n",
       "  <thead>\n",
       "    <tr style=\"text-align: right;\">\n",
       "      <th></th>\n",
       "      <th>order_id</th>\n",
       "      <th>order_item_id</th>\n",
       "      <th>product_id</th>\n",
       "      <th>seller_id</th>\n",
       "      <th>shipping_limit_date</th>\n",
       "      <th>price</th>\n",
       "      <th>freight_value</th>\n",
       "    </tr>\n",
       "  </thead>\n",
       "  <tbody>\n",
       "    <tr>\n",
       "      <th>112645</th>\n",
       "      <td>fffc94f6ce00a00581880bf54a75a037</td>\n",
       "      <td>1</td>\n",
       "      <td>4aa6014eceb682077f9dc4bffebc05b0</td>\n",
       "      <td>b8bc237ba3788b23da09c0f1f3a3288c</td>\n",
       "      <td>2018-05-02 04:11:01</td>\n",
       "      <td>299.99</td>\n",
       "      <td>43.41</td>\n",
       "    </tr>\n",
       "    <tr>\n",
       "      <th>112646</th>\n",
       "      <td>fffcd46ef2263f404302a634eb57f7eb</td>\n",
       "      <td>1</td>\n",
       "      <td>32e07fd915822b0765e448c4dd74c828</td>\n",
       "      <td>f3c38ab652836d21de61fb8314b69182</td>\n",
       "      <td>2018-07-20 04:31:48</td>\n",
       "      <td>350.00</td>\n",
       "      <td>36.53</td>\n",
       "    </tr>\n",
       "    <tr>\n",
       "      <th>112647</th>\n",
       "      <td>fffce4705a9662cd70adb13d4a31832d</td>\n",
       "      <td>1</td>\n",
       "      <td>72a30483855e2eafc67aee5dc2560482</td>\n",
       "      <td>c3cfdc648177fdbbbb35635a37472c53</td>\n",
       "      <td>2017-10-30 17:14:25</td>\n",
       "      <td>99.90</td>\n",
       "      <td>16.95</td>\n",
       "    </tr>\n",
       "    <tr>\n",
       "      <th>112648</th>\n",
       "      <td>fffe18544ffabc95dfada21779c9644f</td>\n",
       "      <td>1</td>\n",
       "      <td>9c422a519119dcad7575db5af1ba540e</td>\n",
       "      <td>2b3e4a2a3ea8e01938cabda2a3e5cc79</td>\n",
       "      <td>2017-08-21 00:04:32</td>\n",
       "      <td>55.99</td>\n",
       "      <td>8.72</td>\n",
       "    </tr>\n",
       "    <tr>\n",
       "      <th>112649</th>\n",
       "      <td>fffe41c64501cc87c801fd61db3f6244</td>\n",
       "      <td>1</td>\n",
       "      <td>350688d9dc1e75ff97be326363655e01</td>\n",
       "      <td>f7ccf836d21b2fb1de37564105216cc1</td>\n",
       "      <td>2018-06-12 17:10:13</td>\n",
       "      <td>43.00</td>\n",
       "      <td>12.79</td>\n",
       "    </tr>\n",
       "  </tbody>\n",
       "</table>\n",
       "</div>"
      ],
      "text/plain": [
       "                                order_id  order_item_id  \\\n",
       "112645  fffc94f6ce00a00581880bf54a75a037              1   \n",
       "112646  fffcd46ef2263f404302a634eb57f7eb              1   \n",
       "112647  fffce4705a9662cd70adb13d4a31832d              1   \n",
       "112648  fffe18544ffabc95dfada21779c9644f              1   \n",
       "112649  fffe41c64501cc87c801fd61db3f6244              1   \n",
       "\n",
       "                              product_id                         seller_id  \\\n",
       "112645  4aa6014eceb682077f9dc4bffebc05b0  b8bc237ba3788b23da09c0f1f3a3288c   \n",
       "112646  32e07fd915822b0765e448c4dd74c828  f3c38ab652836d21de61fb8314b69182   \n",
       "112647  72a30483855e2eafc67aee5dc2560482  c3cfdc648177fdbbbb35635a37472c53   \n",
       "112648  9c422a519119dcad7575db5af1ba540e  2b3e4a2a3ea8e01938cabda2a3e5cc79   \n",
       "112649  350688d9dc1e75ff97be326363655e01  f7ccf836d21b2fb1de37564105216cc1   \n",
       "\n",
       "        shipping_limit_date   price  freight_value  \n",
       "112645  2018-05-02 04:11:01  299.99          43.41  \n",
       "112646  2018-07-20 04:31:48  350.00          36.53  \n",
       "112647  2017-10-30 17:14:25   99.90          16.95  \n",
       "112648  2017-08-21 00:04:32   55.99           8.72  \n",
       "112649  2018-06-12 17:10:13   43.00          12.79  "
      ]
     },
     "execution_count": 75,
     "metadata": {},
     "output_type": "execute_result"
    }
   ],
   "source": [
    "order_items.tail()"
   ]
  },
  {
   "cell_type": "code",
   "execution_count": 76,
   "id": "ee4874e1",
   "metadata": {},
   "outputs": [
    {
     "name": "stdout",
     "output_type": "stream",
     "text": [
      "<class 'pandas.core.frame.DataFrame'>\n",
      "RangeIndex: 112650 entries, 0 to 112649\n",
      "Data columns (total 7 columns):\n",
      " #   Column               Non-Null Count   Dtype  \n",
      "---  ------               --------------   -----  \n",
      " 0   order_id             112650 non-null  object \n",
      " 1   order_item_id        112650 non-null  int64  \n",
      " 2   product_id           112650 non-null  object \n",
      " 3   seller_id            112650 non-null  object \n",
      " 4   shipping_limit_date  112650 non-null  object \n",
      " 5   price                112650 non-null  float64\n",
      " 6   freight_value        112650 non-null  float64\n",
      "dtypes: float64(2), int64(1), object(4)\n",
      "memory usage: 6.0+ MB\n"
     ]
    }
   ],
   "source": [
    "#getting overview of datasets that we have.\n",
    "order_items.info()"
   ]
  },
  {
   "cell_type": "code",
   "execution_count": 77,
   "id": "c3ef01f9",
   "metadata": {},
   "outputs": [
    {
     "data": {
      "text/plain": [
       "order_id               0\n",
       "order_item_id          0\n",
       "product_id             0\n",
       "seller_id              0\n",
       "shipping_limit_date    0\n",
       "price                  0\n",
       "freight_value          0\n",
       "dtype: int64"
      ]
     },
     "execution_count": 77,
     "metadata": {},
     "output_type": "execute_result"
    }
   ],
   "source": [
    "#checking the null values\n",
    "order_items.isnull().sum()"
   ]
  },
  {
   "cell_type": "code",
   "execution_count": 78,
   "id": "8b28b796",
   "metadata": {},
   "outputs": [
    {
     "data": {
      "text/plain": [
       "0"
      ]
     },
     "execution_count": 78,
     "metadata": {},
     "output_type": "execute_result"
    }
   ],
   "source": [
    "#checking duplicates across rows\n",
    "order_items.duplicated().sum()"
   ]
  },
  {
   "cell_type": "code",
   "execution_count": 79,
   "id": "76a2a6ea",
   "metadata": {},
   "outputs": [
    {
     "data": {
      "text/plain": [
       "0"
      ]
     },
     "execution_count": 79,
     "metadata": {},
     "output_type": "execute_result"
    }
   ],
   "source": [
    "#checking duplicates across columns\n",
    "order_items.T.duplicated().sum()"
   ]
  },
  {
   "cell_type": "code",
   "execution_count": 80,
   "id": "1c008302",
   "metadata": {
    "scrolled": true
   },
   "outputs": [
    {
     "data": {
      "text/plain": [
       "98666"
      ]
     },
     "execution_count": 80,
     "metadata": {},
     "output_type": "execute_result"
    }
   ],
   "source": [
    "#checking the unique values in column order_id and order_item_id\n",
    "order_items['order_id'].nunique()"
   ]
  },
  {
   "cell_type": "code",
   "execution_count": 81,
   "id": "e84ff01a",
   "metadata": {},
   "outputs": [
    {
     "data": {
      "text/plain": [
       "775"
      ]
     },
     "execution_count": 81,
     "metadata": {},
     "output_type": "execute_result"
    }
   ],
   "source": [
    "#difference in order number as compared to total orders\n",
    "99441-98666"
   ]
  },
  {
   "cell_type": "code",
   "execution_count": 82,
   "id": "4077ebf7",
   "metadata": {},
   "outputs": [
    {
     "data": {
      "text/plain": [
       "21"
      ]
     },
     "execution_count": 82,
     "metadata": {},
     "output_type": "execute_result"
    }
   ],
   "source": [
    "order_items['order_item_id'].nunique()"
   ]
  },
  {
   "cell_type": "markdown",
   "id": "18580f44",
   "metadata": {},
   "source": [
    "#### Quick findings:\n",
    "\n",
    "- Order item dataset has information about order item. It tells us about number of items in each order, shipping limit and fright value\n",
    "- We have a total of 98666 order ids which is less than 99441. \n",
    "- This dataset has **four** columns of object datatype and **three** column with numeric datatype.\n",
    "- The column shipping limit date is of date time format so we need to convert it into correct format.\n",
    "- There are no duplicates across rows or columns.\n",
    "- There is no null values."
   ]
  },
  {
   "cell_type": "markdown",
   "id": "84d72ca6",
   "metadata": {},
   "source": [
    "## 3.6 Order dataset\n",
    "<a id = 'order_dataset' ></a>"
   ]
  },
  {
   "cell_type": "code",
   "execution_count": 83,
   "id": "216b4dc0",
   "metadata": {},
   "outputs": [
    {
     "data": {
      "text/html": [
       "<div>\n",
       "<style scoped>\n",
       "    .dataframe tbody tr th:only-of-type {\n",
       "        vertical-align: middle;\n",
       "    }\n",
       "\n",
       "    .dataframe tbody tr th {\n",
       "        vertical-align: top;\n",
       "    }\n",
       "\n",
       "    .dataframe thead th {\n",
       "        text-align: right;\n",
       "    }\n",
       "</style>\n",
       "<table border=\"1\" class=\"dataframe\">\n",
       "  <thead>\n",
       "    <tr style=\"text-align: right;\">\n",
       "      <th></th>\n",
       "      <th>order_id</th>\n",
       "      <th>customer_id</th>\n",
       "      <th>order_status</th>\n",
       "      <th>order_purchase_timestamp</th>\n",
       "      <th>order_approved_at</th>\n",
       "      <th>order_delivered_carrier_date</th>\n",
       "      <th>order_delivered_customer_date</th>\n",
       "      <th>order_estimated_delivery_date</th>\n",
       "    </tr>\n",
       "  </thead>\n",
       "  <tbody>\n",
       "    <tr>\n",
       "      <th>0</th>\n",
       "      <td>e481f51cbdc54678b7cc49136f2d6af7</td>\n",
       "      <td>9ef432eb6251297304e76186b10a928d</td>\n",
       "      <td>delivered</td>\n",
       "      <td>2017-10-02 10:56:33</td>\n",
       "      <td>2017-10-02 11:07:15</td>\n",
       "      <td>2017-10-04 19:55:00</td>\n",
       "      <td>2017-10-10 21:25:13</td>\n",
       "      <td>2017-10-18 00:00:00</td>\n",
       "    </tr>\n",
       "    <tr>\n",
       "      <th>1</th>\n",
       "      <td>53cdb2fc8bc7dce0b6741e2150273451</td>\n",
       "      <td>b0830fb4747a6c6d20dea0b8c802d7ef</td>\n",
       "      <td>delivered</td>\n",
       "      <td>2018-07-24 20:41:37</td>\n",
       "      <td>2018-07-26 03:24:27</td>\n",
       "      <td>2018-07-26 14:31:00</td>\n",
       "      <td>2018-08-07 15:27:45</td>\n",
       "      <td>2018-08-13 00:00:00</td>\n",
       "    </tr>\n",
       "    <tr>\n",
       "      <th>2</th>\n",
       "      <td>47770eb9100c2d0c44946d9cf07ec65d</td>\n",
       "      <td>41ce2a54c0b03bf3443c3d931a367089</td>\n",
       "      <td>delivered</td>\n",
       "      <td>2018-08-08 08:38:49</td>\n",
       "      <td>2018-08-08 08:55:23</td>\n",
       "      <td>2018-08-08 13:50:00</td>\n",
       "      <td>2018-08-17 18:06:29</td>\n",
       "      <td>2018-09-04 00:00:00</td>\n",
       "    </tr>\n",
       "    <tr>\n",
       "      <th>3</th>\n",
       "      <td>949d5b44dbf5de918fe9c16f97b45f8a</td>\n",
       "      <td>f88197465ea7920adcdbec7375364d82</td>\n",
       "      <td>delivered</td>\n",
       "      <td>2017-11-18 19:28:06</td>\n",
       "      <td>2017-11-18 19:45:59</td>\n",
       "      <td>2017-11-22 13:39:59</td>\n",
       "      <td>2017-12-02 00:28:42</td>\n",
       "      <td>2017-12-15 00:00:00</td>\n",
       "    </tr>\n",
       "    <tr>\n",
       "      <th>4</th>\n",
       "      <td>ad21c59c0840e6cb83a9ceb5573f8159</td>\n",
       "      <td>8ab97904e6daea8866dbdbc4fb7aad2c</td>\n",
       "      <td>delivered</td>\n",
       "      <td>2018-02-13 21:18:39</td>\n",
       "      <td>2018-02-13 22:20:29</td>\n",
       "      <td>2018-02-14 19:46:34</td>\n",
       "      <td>2018-02-16 18:17:02</td>\n",
       "      <td>2018-02-26 00:00:00</td>\n",
       "    </tr>\n",
       "  </tbody>\n",
       "</table>\n",
       "</div>"
      ],
      "text/plain": [
       "                           order_id                       customer_id  \\\n",
       "0  e481f51cbdc54678b7cc49136f2d6af7  9ef432eb6251297304e76186b10a928d   \n",
       "1  53cdb2fc8bc7dce0b6741e2150273451  b0830fb4747a6c6d20dea0b8c802d7ef   \n",
       "2  47770eb9100c2d0c44946d9cf07ec65d  41ce2a54c0b03bf3443c3d931a367089   \n",
       "3  949d5b44dbf5de918fe9c16f97b45f8a  f88197465ea7920adcdbec7375364d82   \n",
       "4  ad21c59c0840e6cb83a9ceb5573f8159  8ab97904e6daea8866dbdbc4fb7aad2c   \n",
       "\n",
       "  order_status order_purchase_timestamp    order_approved_at  \\\n",
       "0    delivered      2017-10-02 10:56:33  2017-10-02 11:07:15   \n",
       "1    delivered      2018-07-24 20:41:37  2018-07-26 03:24:27   \n",
       "2    delivered      2018-08-08 08:38:49  2018-08-08 08:55:23   \n",
       "3    delivered      2017-11-18 19:28:06  2017-11-18 19:45:59   \n",
       "4    delivered      2018-02-13 21:18:39  2018-02-13 22:20:29   \n",
       "\n",
       "  order_delivered_carrier_date order_delivered_customer_date  \\\n",
       "0          2017-10-04 19:55:00           2017-10-10 21:25:13   \n",
       "1          2018-07-26 14:31:00           2018-08-07 15:27:45   \n",
       "2          2018-08-08 13:50:00           2018-08-17 18:06:29   \n",
       "3          2017-11-22 13:39:59           2017-12-02 00:28:42   \n",
       "4          2018-02-14 19:46:34           2018-02-16 18:17:02   \n",
       "\n",
       "  order_estimated_delivery_date  \n",
       "0           2017-10-18 00:00:00  \n",
       "1           2018-08-13 00:00:00  \n",
       "2           2018-09-04 00:00:00  \n",
       "3           2017-12-15 00:00:00  \n",
       "4           2018-02-26 00:00:00  "
      ]
     },
     "execution_count": 83,
     "metadata": {},
     "output_type": "execute_result"
    }
   ],
   "source": [
    "#reading head and tail of the order dataframe\n",
    "orders.head()"
   ]
  },
  {
   "cell_type": "code",
   "execution_count": 84,
   "id": "408b72dc",
   "metadata": {},
   "outputs": [
    {
     "data": {
      "text/html": [
       "<div>\n",
       "<style scoped>\n",
       "    .dataframe tbody tr th:only-of-type {\n",
       "        vertical-align: middle;\n",
       "    }\n",
       "\n",
       "    .dataframe tbody tr th {\n",
       "        vertical-align: top;\n",
       "    }\n",
       "\n",
       "    .dataframe thead th {\n",
       "        text-align: right;\n",
       "    }\n",
       "</style>\n",
       "<table border=\"1\" class=\"dataframe\">\n",
       "  <thead>\n",
       "    <tr style=\"text-align: right;\">\n",
       "      <th></th>\n",
       "      <th>order_id</th>\n",
       "      <th>customer_id</th>\n",
       "      <th>order_status</th>\n",
       "      <th>order_purchase_timestamp</th>\n",
       "      <th>order_approved_at</th>\n",
       "      <th>order_delivered_carrier_date</th>\n",
       "      <th>order_delivered_customer_date</th>\n",
       "      <th>order_estimated_delivery_date</th>\n",
       "    </tr>\n",
       "  </thead>\n",
       "  <tbody>\n",
       "    <tr>\n",
       "      <th>99436</th>\n",
       "      <td>9c5dedf39a927c1b2549525ed64a053c</td>\n",
       "      <td>39bd1228ee8140590ac3aca26f2dfe00</td>\n",
       "      <td>delivered</td>\n",
       "      <td>2017-03-09 09:54:05</td>\n",
       "      <td>2017-03-09 09:54:05</td>\n",
       "      <td>2017-03-10 11:18:03</td>\n",
       "      <td>2017-03-17 15:08:01</td>\n",
       "      <td>2017-03-28 00:00:00</td>\n",
       "    </tr>\n",
       "    <tr>\n",
       "      <th>99437</th>\n",
       "      <td>63943bddc261676b46f01ca7ac2f7bd8</td>\n",
       "      <td>1fca14ff2861355f6e5f14306ff977a7</td>\n",
       "      <td>delivered</td>\n",
       "      <td>2018-02-06 12:58:58</td>\n",
       "      <td>2018-02-06 13:10:37</td>\n",
       "      <td>2018-02-07 23:22:42</td>\n",
       "      <td>2018-02-28 17:37:56</td>\n",
       "      <td>2018-03-02 00:00:00</td>\n",
       "    </tr>\n",
       "    <tr>\n",
       "      <th>99438</th>\n",
       "      <td>83c1379a015df1e13d02aae0204711ab</td>\n",
       "      <td>1aa71eb042121263aafbe80c1b562c9c</td>\n",
       "      <td>delivered</td>\n",
       "      <td>2017-08-27 14:46:43</td>\n",
       "      <td>2017-08-27 15:04:16</td>\n",
       "      <td>2017-08-28 20:52:26</td>\n",
       "      <td>2017-09-21 11:24:17</td>\n",
       "      <td>2017-09-27 00:00:00</td>\n",
       "    </tr>\n",
       "    <tr>\n",
       "      <th>99439</th>\n",
       "      <td>11c177c8e97725db2631073c19f07b62</td>\n",
       "      <td>b331b74b18dc79bcdf6532d51e1637c1</td>\n",
       "      <td>delivered</td>\n",
       "      <td>2018-01-08 21:28:27</td>\n",
       "      <td>2018-01-08 21:36:21</td>\n",
       "      <td>2018-01-12 15:35:03</td>\n",
       "      <td>2018-01-25 23:32:54</td>\n",
       "      <td>2018-02-15 00:00:00</td>\n",
       "    </tr>\n",
       "    <tr>\n",
       "      <th>99440</th>\n",
       "      <td>66dea50a8b16d9b4dee7af250b4be1a5</td>\n",
       "      <td>edb027a75a1449115f6b43211ae02a24</td>\n",
       "      <td>delivered</td>\n",
       "      <td>2018-03-08 20:57:30</td>\n",
       "      <td>2018-03-09 11:20:28</td>\n",
       "      <td>2018-03-09 22:11:59</td>\n",
       "      <td>2018-03-16 13:08:30</td>\n",
       "      <td>2018-04-03 00:00:00</td>\n",
       "    </tr>\n",
       "  </tbody>\n",
       "</table>\n",
       "</div>"
      ],
      "text/plain": [
       "                               order_id                       customer_id  \\\n",
       "99436  9c5dedf39a927c1b2549525ed64a053c  39bd1228ee8140590ac3aca26f2dfe00   \n",
       "99437  63943bddc261676b46f01ca7ac2f7bd8  1fca14ff2861355f6e5f14306ff977a7   \n",
       "99438  83c1379a015df1e13d02aae0204711ab  1aa71eb042121263aafbe80c1b562c9c   \n",
       "99439  11c177c8e97725db2631073c19f07b62  b331b74b18dc79bcdf6532d51e1637c1   \n",
       "99440  66dea50a8b16d9b4dee7af250b4be1a5  edb027a75a1449115f6b43211ae02a24   \n",
       "\n",
       "      order_status order_purchase_timestamp    order_approved_at  \\\n",
       "99436    delivered      2017-03-09 09:54:05  2017-03-09 09:54:05   \n",
       "99437    delivered      2018-02-06 12:58:58  2018-02-06 13:10:37   \n",
       "99438    delivered      2017-08-27 14:46:43  2017-08-27 15:04:16   \n",
       "99439    delivered      2018-01-08 21:28:27  2018-01-08 21:36:21   \n",
       "99440    delivered      2018-03-08 20:57:30  2018-03-09 11:20:28   \n",
       "\n",
       "      order_delivered_carrier_date order_delivered_customer_date  \\\n",
       "99436          2017-03-10 11:18:03           2017-03-17 15:08:01   \n",
       "99437          2018-02-07 23:22:42           2018-02-28 17:37:56   \n",
       "99438          2017-08-28 20:52:26           2017-09-21 11:24:17   \n",
       "99439          2018-01-12 15:35:03           2018-01-25 23:32:54   \n",
       "99440          2018-03-09 22:11:59           2018-03-16 13:08:30   \n",
       "\n",
       "      order_estimated_delivery_date  \n",
       "99436           2017-03-28 00:00:00  \n",
       "99437           2018-03-02 00:00:00  \n",
       "99438           2017-09-27 00:00:00  \n",
       "99439           2018-02-15 00:00:00  \n",
       "99440           2018-04-03 00:00:00  "
      ]
     },
     "execution_count": 84,
     "metadata": {},
     "output_type": "execute_result"
    }
   ],
   "source": [
    "orders.tail()"
   ]
  },
  {
   "cell_type": "code",
   "execution_count": 85,
   "id": "a095a723",
   "metadata": {},
   "outputs": [
    {
     "name": "stdout",
     "output_type": "stream",
     "text": [
      "<class 'pandas.core.frame.DataFrame'>\n",
      "RangeIndex: 99441 entries, 0 to 99440\n",
      "Data columns (total 8 columns):\n",
      " #   Column                         Non-Null Count  Dtype \n",
      "---  ------                         --------------  ----- \n",
      " 0   order_id                       99441 non-null  object\n",
      " 1   customer_id                    99441 non-null  object\n",
      " 2   order_status                   99441 non-null  object\n",
      " 3   order_purchase_timestamp       99441 non-null  object\n",
      " 4   order_approved_at              99281 non-null  object\n",
      " 5   order_delivered_carrier_date   97658 non-null  object\n",
      " 6   order_delivered_customer_date  96476 non-null  object\n",
      " 7   order_estimated_delivery_date  99441 non-null  object\n",
      "dtypes: object(8)\n",
      "memory usage: 6.1+ MB\n"
     ]
    }
   ],
   "source": [
    "#getting overview of datasets that we have.\n",
    "orders.info()"
   ]
  },
  {
   "cell_type": "code",
   "execution_count": 86,
   "id": "0b453856",
   "metadata": {
    "scrolled": true
   },
   "outputs": [
    {
     "data": {
      "text/plain": [
       "order_id                            0\n",
       "customer_id                         0\n",
       "order_status                        0\n",
       "order_purchase_timestamp            0\n",
       "order_approved_at                 160\n",
       "order_delivered_carrier_date     1783\n",
       "order_delivered_customer_date    2965\n",
       "order_estimated_delivery_date       0\n",
       "dtype: int64"
      ]
     },
     "execution_count": 86,
     "metadata": {},
     "output_type": "execute_result"
    }
   ],
   "source": [
    "#checking the null values\n",
    "orders.isnull().sum()"
   ]
  },
  {
   "cell_type": "code",
   "execution_count": 87,
   "id": "602d589b",
   "metadata": {},
   "outputs": [
    {
     "data": {
      "text/plain": [
       "4908"
      ]
     },
     "execution_count": 87,
     "metadata": {},
     "output_type": "execute_result"
    }
   ],
   "source": [
    "orders.isnull().sum().sum()"
   ]
  },
  {
   "cell_type": "code",
   "execution_count": 88,
   "id": "b0325f1b",
   "metadata": {},
   "outputs": [
    {
     "data": {
      "text/plain": [
       "0"
      ]
     },
     "execution_count": 88,
     "metadata": {},
     "output_type": "execute_result"
    }
   ],
   "source": [
    "#checking duplicates across rows\n",
    "orders.duplicated().sum()"
   ]
  },
  {
   "cell_type": "code",
   "execution_count": 89,
   "id": "e53188a4",
   "metadata": {},
   "outputs": [
    {
     "data": {
      "text/plain": [
       "0"
      ]
     },
     "execution_count": 89,
     "metadata": {},
     "output_type": "execute_result"
    }
   ],
   "source": [
    "#checking duplicates across columns\n",
    "orders.T.duplicated().sum()"
   ]
  },
  {
   "cell_type": "code",
   "execution_count": 90,
   "id": "af068f5a",
   "metadata": {
    "scrolled": true
   },
   "outputs": [
    {
     "data": {
      "text/plain": [
       "99441"
      ]
     },
     "execution_count": 90,
     "metadata": {},
     "output_type": "execute_result"
    }
   ],
   "source": [
    "#checking the unique values in order id and customer id\n",
    "orders['order_id'].nunique()"
   ]
  },
  {
   "cell_type": "markdown",
   "id": "1b3bbc48",
   "metadata": {},
   "source": [
    "#### Quick findings:\n",
    "\n",
    "- Orders dataset has information about the orders. Each order contains a customer id, order status, purchase timestamp and actual and estimated delivery information.\n",
    "- We have a total of 99441 unique orders which is the primary key for this table. \n",
    "- This dataset has **eight** columns of object datatype.\n",
    "- **There are a total of five columns of date time values but saved in object format. We need to convert them into date time format.**\n",
    "- There are no duplicates across rows or columns.\n",
    "- There are null values in the order_approved_at, order_delivered_carrier_date, and order_delivered_customer_date."
   ]
  },
  {
   "cell_type": "markdown",
   "id": "d7fb5531",
   "metadata": {},
   "source": [
    "We have null values in 3 columns: order_approved_at, order_delivered_carrier_date, and order_delivered_customer_date. Does it have to do anything with the Order status? "
   ]
  },
  {
   "cell_type": "code",
   "execution_count": 91,
   "id": "18323bb1",
   "metadata": {},
   "outputs": [],
   "source": [
    "#convert all the rows with date time data to date-time format.\n",
    "orders['order_purchase_timestamp']=pd.to_datetime(orders['order_purchase_timestamp'])\n",
    "orders['order_approved_at']=pd.to_datetime(orders['order_approved_at'])\n",
    "orders['order_delivered_carrier_date']=pd.to_datetime(orders['order_delivered_carrier_date'])\n",
    "orders['order_delivered_customer_date']=pd.to_datetime(orders['order_delivered_customer_date'])\n",
    "orders['order_estimated_delivery_date']=pd.to_datetime(orders['order_estimated_delivery_date'])"
   ]
  },
  {
   "cell_type": "code",
   "execution_count": 92,
   "id": "e0159c0a",
   "metadata": {},
   "outputs": [
    {
     "data": {
      "text/plain": [
       "order_id                         0.000000\n",
       "customer_id                      0.000000\n",
       "order_status                     0.000000\n",
       "order_purchase_timestamp         0.000000\n",
       "order_approved_at                0.160899\n",
       "order_delivered_carrier_date     1.793023\n",
       "order_delivered_customer_date    2.981668\n",
       "order_estimated_delivery_date    0.000000\n",
       "dtype: float64"
      ]
     },
     "execution_count": 92,
     "metadata": {},
     "output_type": "execute_result"
    }
   ],
   "source": [
    "#percentage of values that are missing\n",
    "orders.isnull().mean()*100"
   ]
  },
  {
   "cell_type": "markdown",
   "id": "1c9e29d4",
   "metadata": {},
   "source": [
    "The percentage of missing values is very less. We want to get the best out of available data. So we will try to find a way to impute these values. There is a chance that order status can be a reason for these missing values so let us explore it further."
   ]
  },
  {
   "cell_type": "code",
   "execution_count": 93,
   "id": "5a9371d6",
   "metadata": {
    "scrolled": false
   },
   "outputs": [
    {
     "data": {
      "image/png": "[encoded data removed]",
      "text/plain": [
       "<Figure size 640x480 with 1 Axes>"
      ]
     },
     "metadata": {},
     "output_type": "display_data"
    }
   ],
   "source": [
    "#percentage of order according to different order status\n",
    "order_st_per= round(orders['order_status'].value_counts(normalize=True)*100, 2)\n",
    "\n",
    "#ploting the orders to visually check what all status do we have.\n",
    "plt.figure()\n",
    "graph=plt.bar(order_st_per.index, order_st_per.values)\n",
    "plt.title(\"Percentage with respect to total orders\")\n",
    "plt.xticks(rotation=45)\n",
    "for p in graph:\n",
    "    height=p.get_height()\n",
    "    plt.annotate( \"{}%\".format(height),(p.get_x() + p.get_width()/2, height+.05),ha=\"center\",va=\"bottom\",fontsize=9)\n",
    "plt.show()"
   ]
  },
  {
   "cell_type": "markdown",
   "id": "343b6af9",
   "metadata": {},
   "source": [
    "We have a total of eight order status. Our data has 97% of orders that were delivered. Only 0.63% of orders were cancelled. There are diferent order status that specify at which stage our order is."
   ]
  },
  {
   "cell_type": "markdown",
   "id": "fd72678e",
   "metadata": {},
   "source": [
    "We want to understand if there is any relationship with missing values and the order status. We will filter the rows with missing values and check what is the status of that order."
   ]
  },
  {
   "cell_type": "code",
   "execution_count": 94,
   "id": "284a7a40",
   "metadata": {},
   "outputs": [
    {
     "data": {
      "text/plain": [
       "canceled    141\n",
       "created       5\n",
       "Name: order_status, dtype: int64"
      ]
     },
     "execution_count": 94,
     "metadata": {},
     "output_type": "execute_result"
    }
   ],
   "source": [
    "#checking the status where all the values are missing\n",
    "orders.loc[orders['order_delivered_customer_date'].isnull() & \\\n",
    "           orders['order_delivered_carrier_date'].isnull() & \\\n",
    "           orders['order_approved_at'].isnull() ]['order_status'].value_counts()"
   ]
  },
  {
   "cell_type": "code",
   "execution_count": 95,
   "id": "003ec78e",
   "metadata": {},
   "outputs": [
    {
     "data": {
      "text/plain": [
       "unavailable    609\n",
       "canceled       550\n",
       "invoiced       314\n",
       "processing     301\n",
       "created          5\n",
       "approved         2\n",
       "delivered        1\n",
       "Name: order_status, dtype: int64"
      ]
     },
     "execution_count": 95,
     "metadata": {},
     "output_type": "execute_result"
    }
   ],
   "source": [
    "#checking the status where both order delivered customer and delivered carrier are missing\n",
    "orders.loc[orders['order_delivered_customer_date'].isnull() & \\\n",
    "           orders['order_delivered_carrier_date'].isnull()]['order_status'].value_counts()"
   ]
  },
  {
   "cell_type": "code",
   "execution_count": 96,
   "id": "83fd38be",
   "metadata": {
    "scrolled": true
   },
   "outputs": [
    {
     "data": {
      "text/plain": [
       "shipped        1107\n",
       "canceled        619\n",
       "unavailable     609\n",
       "invoiced        314\n",
       "processing      301\n",
       "delivered         8\n",
       "created           5\n",
       "approved          2\n",
       "Name: order_status, dtype: int64"
      ]
     },
     "execution_count": 96,
     "metadata": {},
     "output_type": "execute_result"
    }
   ],
   "source": [
    "#checking the status where only order delivered customer is missing\n",
    "orders.loc[orders['order_delivered_customer_date'].isnull()]['order_status'].value_counts()"
   ]
  },
  {
   "cell_type": "code",
   "execution_count": 97,
   "id": "04fbcabb",
   "metadata": {},
   "outputs": [
    {
     "data": {
      "text/plain": [
       "unavailable    609\n",
       "canceled       550\n",
       "invoiced       314\n",
       "processing     301\n",
       "created          5\n",
       "approved         2\n",
       "delivered        2\n",
       "Name: order_status, dtype: int64"
      ]
     },
     "execution_count": 97,
     "metadata": {},
     "output_type": "execute_result"
    }
   ],
   "source": [
    "#checking the status where only order delivered carrier is missing\n",
    "orders.loc[orders['order_delivered_carrier_date'].isnull()]['order_status'].value_counts()"
   ]
  },
  {
   "cell_type": "code",
   "execution_count": 98,
   "id": "39eae998",
   "metadata": {},
   "outputs": [
    {
     "data": {
      "text/plain": [
       "canceled     141\n",
       "delivered     14\n",
       "created        5\n",
       "Name: order_status, dtype: int64"
      ]
     },
     "execution_count": 98,
     "metadata": {},
     "output_type": "execute_result"
    }
   ],
   "source": [
    "#checking the status where only order approved is missing\n",
    "orders.loc[orders['order_approved_at'].isnull()]['order_status'].value_counts()"
   ]
  },
  {
   "cell_type": "code",
   "execution_count": 99,
   "id": "ec2db3cc",
   "metadata": {},
   "outputs": [
    {
     "data": {
      "text/plain": [
       "canceled    141\n",
       "created       5\n",
       "Name: order_status, dtype: int64"
      ]
     },
     "execution_count": 99,
     "metadata": {},
     "output_type": "execute_result"
    }
   ],
   "source": [
    "#checking the status where both order approved and order delivered cautomer are missing\n",
    "orders.loc[orders['order_approved_at'].isnull() & \n",
    "           orders['order_delivered_customer_date'].isnull() ]['order_status'].value_counts()"
   ]
  },
  {
   "cell_type": "markdown",
   "id": "e2cbc4fb",
   "metadata": {},
   "source": [
    "#### Different kind of order status and my understanding:\n",
    "\n",
    "\n",
    "| Order_status | Number | Description | Findings about missing values |\n",
    "|--- | --- | --- | --- |\n",
    "| delivered | 96478 | End stage, order has been delivered to end customer |  Some are missing but not a clear understanding about them|\n",
    "| shipped | 1107 | Order has been shipped to warehouse and handled to the logistic partner for delivery to end customer | order_delivered_customer_date (1107 Nos) |\n",
    "| canceled | 625 | Orders cancelled by customer after making payment.  |Some are missing but not a clear understanding about them|\n",
    "| unavailable | 609 | We don't know the status, we have exactly the same number of missing records for order delivered carrier date and order delivered customer date as the number of rows with unavailable status | Both order delivered carrier date and order delivered customer date (609 Nos) |\n",
    "| invoiced | 314 | A bill has been created and is sent out with the order  | Both order delivered carrier date and order delivered customer date (314 Nos) |\n",
    "| processing | 301 | A step before invoicing | Both order delivered carrier date and order delivered customer date (301 Nos) |\n",
    "| created | 5 | These orders are created recently, their payments have been made but seller has not approved the order yet. | All of order approved at, order delivered carrier date, and  order delivered customer date (5 Nos) |\n",
    "| approved | 2 | These orders are recently approved by the seller and need further process like invoicing and shipping | Both order delivered carrier date and order delivered customer date (2 Nos) |\n",
    "\n",
    "\n",
    "Customer made payment for the order &rarr; Order created\n",
    "\n",
    "Seller approved the order &rarr; Order approved\n",
    "\n",
    "Seller preparing the order &rarr; Order processing\n",
    "\n",
    "Seller invoiced the order &rarr; Order invoiced\n",
    "\n",
    "Seller shipped the order and was handed over to logistic partner &rarr; Order shipped\n",
    "\n",
    "Logistic partner delivered the product to end customer &rarr; Order delivered\n",
    "\n",
    "\n",
    "**We might not need the rows with order status as `unavailable`, `invoiced`, `processing`, `created`, `approved`, `shipped` so we will go ahead and delete these rows.** Logically these rows are missing the correct values as per the status. If we were to impute the missing values then we will have to change the status also. These rows have very less number compared to the total rows and there should not be much effect after removing these rows.  \n",
    "\n",
    "\n",
    "**Need to impute the missing values for `delivered` and `canceled` order status**\n"
   ]
  },
  {
   "cell_type": "code",
   "execution_count": 100,
   "id": "825dd7ce",
   "metadata": {},
   "outputs": [],
   "source": [
    "#deleting the redundant values.\n",
    "index_redundant_status= orders[(orders['order_status']=='invoiced') | (orders['order_status']=='processing') | \n",
    "       (orders['order_status']=='created') | (orders['order_status']=='approved') | (orders['order_status']=='unavailable') |\n",
    "       (orders['order_status']=='shipped')].index"
   ]
  },
  {
   "cell_type": "code",
   "execution_count": 101,
   "id": "bce1fe9e",
   "metadata": {},
   "outputs": [],
   "source": [
    "#drop the redundant rows\n",
    "orders.drop(index_redundant_status, inplace=True)"
   ]
  },
  {
   "cell_type": "code",
   "execution_count": 102,
   "id": "d026d9b5",
   "metadata": {},
   "outputs": [
    {
     "data": {
      "text/plain": [
       "order_id                           0\n",
       "customer_id                        0\n",
       "order_status                       0\n",
       "order_purchase_timestamp           0\n",
       "order_approved_at                155\n",
       "order_delivered_carrier_date     552\n",
       "order_delivered_customer_date    627\n",
       "order_estimated_delivery_date      0\n",
       "dtype: int64"
      ]
     },
     "execution_count": 102,
     "metadata": {},
     "output_type": "execute_result"
    }
   ],
   "source": [
    "#checking the null values\n",
    "orders.isnull().sum()"
   ]
  },
  {
   "cell_type": "markdown",
   "id": "5d0e4402",
   "metadata": {},
   "source": [
    "#### How to impute the missing values?\n",
    "- We can find the difference in days between the known values i.e order_purchase_timestamp and the columns with NANs.\n",
    "- We can see the distribution of days that we will get from above step by plotting the box plot.\n",
    "- Then we can decide if we want to impute the missing values with mean, median or mode of the days difference.\n",
    "- Once we are clear of that, we can determine the missing value by adding the days difference to the order purchase date."
   ]
  },
  {
   "cell_type": "code",
   "execution_count": 103,
   "id": "a8e16305",
   "metadata": {},
   "outputs": [],
   "source": [
    "#calculating difference in days between the purchase date and the columns with NANS\n",
    "diff_est=((orders['order_estimated_delivery_date']-orders['order_purchase_timestamp'])/np.timedelta64(1, 'D')).astype(int)\n",
    "diff_approved=((orders['order_approved_at']-orders['order_purchase_timestamp'])/np.timedelta64(1, 'D'))\n",
    "diff_logist=((orders['order_delivered_carrier_date']-orders['order_purchase_timestamp'])/np.timedelta64(1, 'D'))\n",
    "diff_del=((orders['order_delivered_customer_date']-orders['order_purchase_timestamp'] )/np.timedelta64(1, 'D'))"
   ]
  },
  {
   "cell_type": "code",
   "execution_count": 104,
   "id": "0b915683",
   "metadata": {
    "scrolled": false
   },
   "outputs": [
    {
     "data": {
      "image/png": "[encoded data removed]",
      "text/plain": [
       "<Figure size 1200x800 with 4 Axes>"
      ]
     },
     "metadata": {},
     "output_type": "display_data"
    }
   ],
   "source": [
    "plt.figure(figsize=(12,8))\n",
    "plt.subplot(2, 2, 1)\n",
    "diff_est.plot.box(title='No. of days between estimated delivery and purchase time')\n",
    "\n",
    "plt.subplot(2, 2, 2)\n",
    "diff_approved.plot.box(title='No. of days between date approved and purchase date')\n",
    "\n",
    "plt.subplot(2, 2, 3)\n",
    "diff_logist.plot.box(title='No. of days between purchase date and carrier date')\n",
    "\n",
    "plt.subplot(2, 2, 4)\n",
    "diff_del.plot.box(title='No. of days between purchase date and actual delivery date')\n",
    "plt.show()"
   ]
  },
  {
   "cell_type": "markdown",
   "id": "ea5f7429",
   "metadata": {},
   "source": [
    "#### Observations:\n",
    "\n",
    "- We can see that there are a bunch of outliers in these plots.\n",
    "- The number of days between purchase date and carrier date has a negative observation. If we are assuming that the data is recorded at Olist server where time zone factor has been removed. This is an incorrect observation and can be removed.\n",
    "- Upon looking at the box plots we have a bunch of outliers and therefore imputation using median is the right approach.\n",
    "\n",
    "We will simply drop these columns as we do not want to deal with them in our current scope. If we were to impute then we would calaculate the median number of days from each of diff_approved, diff_logist, diff_del and add it to order_purchase_timestamp to get the order_approved_at, order_delivered_carrier_date, order_delivered_customer_date respectively."
   ]
  },
  {
   "cell_type": "code",
   "execution_count": 105,
   "id": "d19393c8",
   "metadata": {},
   "outputs": [],
   "source": [
    "orders.drop(columns=['order_approved_at', 'order_delivered_carrier_date', 'order_delivered_customer_date'], inplace=True)"
   ]
  },
  {
   "cell_type": "code",
   "execution_count": 106,
   "id": "6f4895b5",
   "metadata": {},
   "outputs": [
    {
     "name": "stdout",
     "output_type": "stream",
     "text": [
      "<class 'pandas.core.frame.DataFrame'>\n",
      "Int64Index: 97103 entries, 0 to 99440\n",
      "Data columns (total 5 columns):\n",
      " #   Column                         Non-Null Count  Dtype         \n",
      "---  ------                         --------------  -----         \n",
      " 0   order_id                       97103 non-null  object        \n",
      " 1   customer_id                    97103 non-null  object        \n",
      " 2   order_status                   97103 non-null  object        \n",
      " 3   order_purchase_timestamp       97103 non-null  datetime64[ns]\n",
      " 4   order_estimated_delivery_date  97103 non-null  datetime64[ns]\n",
      "dtypes: datetime64[ns](2), object(3)\n",
      "memory usage: 4.4+ MB\n"
     ]
    }
   ],
   "source": [
    "orders.info()"
   ]
  },
  {
   "cell_type": "markdown",
   "id": "7e178f53",
   "metadata": {},
   "source": [
    "## 3.7 Product dataset\n",
    "<a id = 'product_dataset' ></a>"
   ]
  },
  {
   "cell_type": "code",
   "execution_count": 107,
   "id": "c02b1599",
   "metadata": {},
   "outputs": [
    {
     "data": {
      "text/html": [
       "<div>\n",
       "<style scoped>\n",
       "    .dataframe tbody tr th:only-of-type {\n",
       "        vertical-align: middle;\n",
       "    }\n",
       "\n",
       "    .dataframe tbody tr th {\n",
       "        vertical-align: top;\n",
       "    }\n",
       "\n",
       "    .dataframe thead th {\n",
       "        text-align: right;\n",
       "    }\n",
       "</style>\n",
       "<table border=\"1\" class=\"dataframe\">\n",
       "  <thead>\n",
       "    <tr style=\"text-align: right;\">\n",
       "      <th></th>\n",
       "      <th>product_id</th>\n",
       "      <th>product_category_name</th>\n",
       "      <th>product_name_lenght</th>\n",
       "      <th>product_description_lenght</th>\n",
       "      <th>product_photos_qty</th>\n",
       "      <th>product_weight_g</th>\n",
       "      <th>product_length_cm</th>\n",
       "      <th>product_height_cm</th>\n",
       "      <th>product_width_cm</th>\n",
       "    </tr>\n",
       "  </thead>\n",
       "  <tbody>\n",
       "    <tr>\n",
       "      <th>0</th>\n",
       "      <td>1e9e8ef04dbcff4541ed26657ea517e5</td>\n",
       "      <td>perfumaria</td>\n",
       "      <td>40.0</td>\n",
       "      <td>287.0</td>\n",
       "      <td>1.0</td>\n",
       "      <td>225.0</td>\n",
       "      <td>16.0</td>\n",
       "      <td>10.0</td>\n",
       "      <td>14.0</td>\n",
       "    </tr>\n",
       "    <tr>\n",
       "      <th>1</th>\n",
       "      <td>3aa071139cb16b67ca9e5dea641aaa2f</td>\n",
       "      <td>artes</td>\n",
       "      <td>44.0</td>\n",
       "      <td>276.0</td>\n",
       "      <td>1.0</td>\n",
       "      <td>1000.0</td>\n",
       "      <td>30.0</td>\n",
       "      <td>18.0</td>\n",
       "      <td>20.0</td>\n",
       "    </tr>\n",
       "    <tr>\n",
       "      <th>2</th>\n",
       "      <td>96bd76ec8810374ed1b65e291975717f</td>\n",
       "      <td>esporte_lazer</td>\n",
       "      <td>46.0</td>\n",
       "      <td>250.0</td>\n",
       "      <td>1.0</td>\n",
       "      <td>154.0</td>\n",
       "      <td>18.0</td>\n",
       "      <td>9.0</td>\n",
       "      <td>15.0</td>\n",
       "    </tr>\n",
       "    <tr>\n",
       "      <th>3</th>\n",
       "      <td>cef67bcfe19066a932b7673e239eb23d</td>\n",
       "      <td>bebes</td>\n",
       "      <td>27.0</td>\n",
       "      <td>261.0</td>\n",
       "      <td>1.0</td>\n",
       "      <td>371.0</td>\n",
       "      <td>26.0</td>\n",
       "      <td>4.0</td>\n",
       "      <td>26.0</td>\n",
       "    </tr>\n",
       "    <tr>\n",
       "      <th>4</th>\n",
       "      <td>9dc1a7de274444849c219cff195d0b71</td>\n",
       "      <td>utilidades_domesticas</td>\n",
       "      <td>37.0</td>\n",
       "      <td>402.0</td>\n",
       "      <td>4.0</td>\n",
       "      <td>625.0</td>\n",
       "      <td>20.0</td>\n",
       "      <td>17.0</td>\n",
       "      <td>13.0</td>\n",
       "    </tr>\n",
       "  </tbody>\n",
       "</table>\n",
       "</div>"
      ],
      "text/plain": [
       "                         product_id  product_category_name  \\\n",
       "0  1e9e8ef04dbcff4541ed26657ea517e5             perfumaria   \n",
       "1  3aa071139cb16b67ca9e5dea641aaa2f                  artes   \n",
       "2  96bd76ec8810374ed1b65e291975717f          esporte_lazer   \n",
       "3  cef67bcfe19066a932b7673e239eb23d                  bebes   \n",
       "4  9dc1a7de274444849c219cff195d0b71  utilidades_domesticas   \n",
       "\n",
       "   product_name_lenght  product_description_lenght  product_photos_qty  \\\n",
       "0                 40.0                       287.0                 1.0   \n",
       "1                 44.0                       276.0                 1.0   \n",
       "2                 46.0                       250.0                 1.0   \n",
       "3                 27.0                       261.0                 1.0   \n",
       "4                 37.0                       402.0                 4.0   \n",
       "\n",
       "   product_weight_g  product_length_cm  product_height_cm  product_width_cm  \n",
       "0             225.0               16.0               10.0              14.0  \n",
       "1            1000.0               30.0               18.0              20.0  \n",
       "2             154.0               18.0                9.0              15.0  \n",
       "3             371.0               26.0                4.0              26.0  \n",
       "4             625.0               20.0               17.0              13.0  "
      ]
     },
     "execution_count": 107,
     "metadata": {},
     "output_type": "execute_result"
    }
   ],
   "source": [
    "#reading head and tail of the customer dataframe\n",
    "products.head()"
   ]
  },
  {
   "cell_type": "code",
   "execution_count": 108,
   "id": "21e79ea3",
   "metadata": {},
   "outputs": [
    {
     "data": {
      "text/html": [
       "<div>\n",
       "<style scoped>\n",
       "    .dataframe tbody tr th:only-of-type {\n",
       "        vertical-align: middle;\n",
       "    }\n",
       "\n",
       "    .dataframe tbody tr th {\n",
       "        vertical-align: top;\n",
       "    }\n",
       "\n",
       "    .dataframe thead th {\n",
       "        text-align: right;\n",
       "    }\n",
       "</style>\n",
       "<table border=\"1\" class=\"dataframe\">\n",
       "  <thead>\n",
       "    <tr style=\"text-align: right;\">\n",
       "      <th></th>\n",
       "      <th>product_id</th>\n",
       "      <th>product_category_name</th>\n",
       "      <th>product_name_lenght</th>\n",
       "      <th>product_description_lenght</th>\n",
       "      <th>product_photos_qty</th>\n",
       "      <th>product_weight_g</th>\n",
       "      <th>product_length_cm</th>\n",
       "      <th>product_height_cm</th>\n",
       "      <th>product_width_cm</th>\n",
       "    </tr>\n",
       "  </thead>\n",
       "  <tbody>\n",
       "    <tr>\n",
       "      <th>32946</th>\n",
       "      <td>a0b7d5a992ccda646f2d34e418fff5a0</td>\n",
       "      <td>moveis_decoracao</td>\n",
       "      <td>45.0</td>\n",
       "      <td>67.0</td>\n",
       "      <td>2.0</td>\n",
       "      <td>12300.0</td>\n",
       "      <td>40.0</td>\n",
       "      <td>40.0</td>\n",
       "      <td>40.0</td>\n",
       "    </tr>\n",
       "    <tr>\n",
       "      <th>32947</th>\n",
       "      <td>bf4538d88321d0fd4412a93c974510e6</td>\n",
       "      <td>construcao_ferramentas_iluminacao</td>\n",
       "      <td>41.0</td>\n",
       "      <td>971.0</td>\n",
       "      <td>1.0</td>\n",
       "      <td>1700.0</td>\n",
       "      <td>16.0</td>\n",
       "      <td>19.0</td>\n",
       "      <td>16.0</td>\n",
       "    </tr>\n",
       "    <tr>\n",
       "      <th>32948</th>\n",
       "      <td>9a7c6041fa9592d9d9ef6cfe62a71f8c</td>\n",
       "      <td>cama_mesa_banho</td>\n",
       "      <td>50.0</td>\n",
       "      <td>799.0</td>\n",
       "      <td>1.0</td>\n",
       "      <td>1400.0</td>\n",
       "      <td>27.0</td>\n",
       "      <td>7.0</td>\n",
       "      <td>27.0</td>\n",
       "    </tr>\n",
       "    <tr>\n",
       "      <th>32949</th>\n",
       "      <td>83808703fc0706a22e264b9d75f04a2e</td>\n",
       "      <td>informatica_acessorios</td>\n",
       "      <td>60.0</td>\n",
       "      <td>156.0</td>\n",
       "      <td>2.0</td>\n",
       "      <td>700.0</td>\n",
       "      <td>31.0</td>\n",
       "      <td>13.0</td>\n",
       "      <td>20.0</td>\n",
       "    </tr>\n",
       "    <tr>\n",
       "      <th>32950</th>\n",
       "      <td>106392145fca363410d287a815be6de4</td>\n",
       "      <td>cama_mesa_banho</td>\n",
       "      <td>58.0</td>\n",
       "      <td>309.0</td>\n",
       "      <td>1.0</td>\n",
       "      <td>2083.0</td>\n",
       "      <td>12.0</td>\n",
       "      <td>2.0</td>\n",
       "      <td>7.0</td>\n",
       "    </tr>\n",
       "  </tbody>\n",
       "</table>\n",
       "</div>"
      ],
      "text/plain": [
       "                             product_id              product_category_name  \\\n",
       "32946  a0b7d5a992ccda646f2d34e418fff5a0                   moveis_decoracao   \n",
       "32947  bf4538d88321d0fd4412a93c974510e6  construcao_ferramentas_iluminacao   \n",
       "32948  9a7c6041fa9592d9d9ef6cfe62a71f8c                    cama_mesa_banho   \n",
       "32949  83808703fc0706a22e264b9d75f04a2e             informatica_acessorios   \n",
       "32950  106392145fca363410d287a815be6de4                    cama_mesa_banho   \n",
       "\n",
       "       product_name_lenght  product_description_lenght  product_photos_qty  \\\n",
       "32946                 45.0                        67.0                 2.0   \n",
       "32947                 41.0                       971.0                 1.0   \n",
       "32948                 50.0                       799.0                 1.0   \n",
       "32949                 60.0                       156.0                 2.0   \n",
       "32950                 58.0                       309.0                 1.0   \n",
       "\n",
       "       product_weight_g  product_length_cm  product_height_cm  \\\n",
       "32946           12300.0               40.0               40.0   \n",
       "32947            1700.0               16.0               19.0   \n",
       "32948            1400.0               27.0                7.0   \n",
       "32949             700.0               31.0               13.0   \n",
       "32950            2083.0               12.0                2.0   \n",
       "\n",
       "       product_width_cm  \n",
       "32946              40.0  \n",
       "32947              16.0  \n",
       "32948              27.0  \n",
       "32949              20.0  \n",
       "32950               7.0  "
      ]
     },
     "execution_count": 108,
     "metadata": {},
     "output_type": "execute_result"
    }
   ],
   "source": [
    "products.tail()"
   ]
  },
  {
   "cell_type": "code",
   "execution_count": 109,
   "id": "4b8756c8",
   "metadata": {},
   "outputs": [
    {
     "name": "stdout",
     "output_type": "stream",
     "text": [
      "<class 'pandas.core.frame.DataFrame'>\n",
      "RangeIndex: 32951 entries, 0 to 32950\n",
      "Data columns (total 9 columns):\n",
      " #   Column                      Non-Null Count  Dtype  \n",
      "---  ------                      --------------  -----  \n",
      " 0   product_id                  32951 non-null  object \n",
      " 1   product_category_name       32341 non-null  object \n",
      " 2   product_name_lenght         32341 non-null  float64\n",
      " 3   product_description_lenght  32341 non-null  float64\n",
      " 4   product_photos_qty          32341 non-null  float64\n",
      " 5   product_weight_g            32949 non-null  float64\n",
      " 6   product_length_cm           32949 non-null  float64\n",
      " 7   product_height_cm           32949 non-null  float64\n",
      " 8   product_width_cm            32949 non-null  float64\n",
      "dtypes: float64(7), object(2)\n",
      "memory usage: 2.3+ MB\n"
     ]
    }
   ],
   "source": [
    "#getting overview of datasets that we have.\n",
    "products.info()"
   ]
  },
  {
   "cell_type": "code",
   "execution_count": 110,
   "id": "959511d1",
   "metadata": {
    "scrolled": true
   },
   "outputs": [
    {
     "data": {
      "text/plain": [
       "product_id                      0\n",
       "product_category_name         610\n",
       "product_name_lenght           610\n",
       "product_description_lenght    610\n",
       "product_photos_qty            610\n",
       "product_weight_g                2\n",
       "product_length_cm               2\n",
       "product_height_cm               2\n",
       "product_width_cm                2\n",
       "dtype: int64"
      ]
     },
     "execution_count": 110,
     "metadata": {},
     "output_type": "execute_result"
    }
   ],
   "source": [
    "#checking the null values\n",
    "products.isnull().sum()"
   ]
  },
  {
   "cell_type": "code",
   "execution_count": 111,
   "id": "cedfe4be",
   "metadata": {},
   "outputs": [
    {
     "data": {
      "text/plain": [
       "2448"
      ]
     },
     "execution_count": 111,
     "metadata": {},
     "output_type": "execute_result"
    }
   ],
   "source": [
    "products.isnull().sum().sum()"
   ]
  },
  {
   "cell_type": "code",
   "execution_count": 112,
   "id": "1f629c4a",
   "metadata": {},
   "outputs": [
    {
     "data": {
      "text/plain": [
       "0"
      ]
     },
     "execution_count": 112,
     "metadata": {},
     "output_type": "execute_result"
    }
   ],
   "source": [
    "#checking duplicates across rows\n",
    "products.duplicated().sum()"
   ]
  },
  {
   "cell_type": "code",
   "execution_count": 113,
   "id": "8a16f44d",
   "metadata": {},
   "outputs": [
    {
     "data": {
      "text/plain": [
       "0"
      ]
     },
     "execution_count": 113,
     "metadata": {},
     "output_type": "execute_result"
    }
   ],
   "source": [
    "#checking duplicates across columns\n",
    "products.T.duplicated().sum()"
   ]
  },
  {
   "cell_type": "code",
   "execution_count": 114,
   "id": "5e1b390c",
   "metadata": {},
   "outputs": [
    {
     "data": {
      "text/plain": [
       "73"
      ]
     },
     "execution_count": 114,
     "metadata": {},
     "output_type": "execute_result"
    }
   ],
   "source": [
    "#checking the unique values in column unique id and customer id\n",
    "products['product_category_name'].nunique()"
   ]
  },
  {
   "cell_type": "code",
   "execution_count": 115,
   "id": "17c2bdaa",
   "metadata": {},
   "outputs": [
    {
     "data": {
      "text/plain": [
       "32951"
      ]
     },
     "execution_count": 115,
     "metadata": {},
     "output_type": "execute_result"
    }
   ],
   "source": [
    "products['product_id'].nunique()"
   ]
  },
  {
   "cell_type": "markdown",
   "id": "4936ade9",
   "metadata": {},
   "source": [
    "#### Quick findings:\n",
    "\n",
    "- Products dataset has information about product categories, and their attributes.\n",
    "- We have a total of 32951 products ids which is the primary key for this table. There are a total of 73 product categories.\n",
    "- This dataset has **two** columns of object datatype and **seven** column with numeric datatype.\n",
    "- There are no duplicates across rows or columns.\n",
    "- There are few null values and we need to impute these values.   "
   ]
  },
  {
   "cell_type": "markdown",
   "id": "bc59875a",
   "metadata": {},
   "source": [
    "#### How can we impute these missing values?\n",
    "\n",
    "- We have seen that the rows which are missing values, a majority are missing a categorical data ie. product category name and respective, description, name length and photo quantities which are numerical.\n",
    "- We can find out the rows which are exactly matching the columns (weight, lenght, height, width) and we can fill the null value with the product category name of the matching category. We can fill rest of the values ie product description lenght, product name lenght and photo quantity with either mean, median or mode of that known category.\n",
    "    - If there are multiple matches for product category, we can filter out the category with most occuring match.\n",
    "    - If there is no match we can create a separate category **'other'** and fill rest of the values with either of mean, median or mode (determined after making a boxplot).\n",
    "- We will separate the rows from products dataframe with the missing values in separate dataframe (missing) and create another dataframe (all_values) where there is no null values.\n",
    "- We will find the element wise match of missing with all_values.\n",
    "- We only have two rows with missing product weight, height, lenght and width. We will use mean to fill these values."
   ]
  },
  {
   "cell_type": "code",
   "execution_count": 116,
   "id": "91066a9c",
   "metadata": {},
   "outputs": [
    {
     "data": {
      "text/plain": [
       "<AxesSubplot: >"
      ]
     },
     "execution_count": 116,
     "metadata": {},
     "output_type": "execute_result"
    },
    {
     "data": {
      "image/png": "[encoded data removed]",
      "text/plain": [
       "<Figure size 2000x1000 with 1 Axes>"
      ]
     },
     "metadata": {},
     "output_type": "display_data"
    }
   ],
   "source": [
    "#quickly checking the categories\n",
    "products['product_category_name'].value_counts().plot(kind='bar', figsize=(20, 10),)"
   ]
  },
  {
   "cell_type": "code",
   "execution_count": 117,
   "id": "01820e75",
   "metadata": {},
   "outputs": [
    {
     "data": {
      "image/png": "[encoded data removed]",
      "text/plain": [
       "<Figure size 1200x800 with 8 Axes>"
      ]
     },
     "metadata": {},
     "output_type": "display_data"
    }
   ],
   "source": [
    "# making box plots for all the numeric columns\n",
    "fig, axes= plt.subplots(2,4, figsize=(12,8))\n",
    "numeric=products.select_dtypes(include=np.number).columns\n",
    "for i, val in enumerate(numeric):\n",
    "    products[val].plot.box(title=f'Box: {val}', ax=axes.flat[i])"
   ]
  },
  {
   "cell_type": "markdown",
   "id": "f2f2a280",
   "metadata": {},
   "source": [
    "#### Observations:\n",
    "\n",
    "- We can see from the box plot that there are a bunch of outliers in every box plot. We can use median to impute the missing values."
   ]
  },
  {
   "cell_type": "code",
   "execution_count": 118,
   "id": "8fc12865",
   "metadata": {},
   "outputs": [],
   "source": [
    "#separating the missing values and known values\n",
    "missing=products[products['product_category_name'].isnull()]\n",
    "all_values= products[products['product_category_name'].notnull()]\n",
    "\n",
    "#getting the column names for 'product_weight_g', 'product_length_cm', 'product_height_cm', 'product_width_cm'\n",
    "col=missing.columns[5:]"
   ]
  },
  {
   "cell_type": "code",
   "execution_count": 119,
   "id": "d897d76c",
   "metadata": {},
   "outputs": [
    {
     "data": {
      "text/plain": [
       "Index(['product_weight_g', 'product_length_cm', 'product_height_cm',\n",
       "       'product_width_cm'],\n",
       "      dtype='object')"
      ]
     },
     "execution_count": 119,
     "metadata": {},
     "output_type": "execute_result"
    }
   ],
   "source": [
    "col"
   ]
  },
  {
   "cell_type": "code",
   "execution_count": 120,
   "id": "7bfe623c",
   "metadata": {},
   "outputs": [],
   "source": [
    "#checking for match and saving the index and values in a dictionary\n",
    "match=dict()\n",
    "for i in missing.index:\n",
    "    if ((all_values.iloc[:, 5]==missing.loc[i, col[0]]) & (all_values.iloc[:, 6]==missing.loc[i, col[1]]) & (all_values.iloc[:, 7]==missing.loc[i, col[2]]) & (all_values.iloc[:, 8]==missing.loc[i, col[3]])).sum()>0:\n",
    "        #saving the product category which is most occuring\n",
    "        match[i]=all_values[(all_values.iloc[:, 5]==missing.loc[i, col[0]]) & (all_values.iloc[:, 6]==missing.loc[i, col[1]]) & (all_values.iloc[:, 7]==missing.loc[i, col[2]]) & (all_values.iloc[:, 8]==missing.loc[i, col[3]])]['product_category_name'].value_counts().head(1).index\n",
    "    else:\n",
    "        match[i]='empty'"
   ]
  },
  {
   "cell_type": "code",
   "execution_count": 121,
   "id": "4a3c6d5e",
   "metadata": {},
   "outputs": [],
   "source": [
    "#imputing the missing values\n",
    "for i in match.keys():\n",
    "    if match[i]!='empty':\n",
    "        #where there is a match we are filling the value with median of columns for the category we are assigning\n",
    "        products.loc[i, 'product_category_name']=match[i][0]\n",
    "        products.loc[i, 'product_name_lenght']=round(products[products['product_category_name']== match[i][0]]['product_name_lenght'].median())\n",
    "        products.loc[i, 'product_description_lenght']=round(products[products['product_category_name']== match[i][0]]['product_description_lenght'].median())\n",
    "        products.loc[i, 'product_photos_qty']=round(products[products['product_category_name']== match[i][0]]['product_photos_qty'].median())\n",
    "    else:\n",
    "        #for no match we are filling with other\n",
    "        products.loc[i, 'product_category_name']='Other'\n",
    "        products.loc[i, 'product_name_lenght']=round(products['product_name_lenght'].median())\n",
    "        products.loc[i, 'product_description_lenght']=round(products['product_description_lenght'].median())\n",
    "        products.loc[i, 'product_photos_qty']=round(products['product_photos_qty'].median())\n",
    "\n",
    "products['product_weight_g']=products['product_weight_g'].fillna(round(products['product_weight_g'].mean()))\n",
    "products['product_length_cm']=products['product_length_cm'].fillna(round(products['product_length_cm'].mean()))\n",
    "products['product_height_cm']=products['product_height_cm'].fillna(round(products['product_height_cm'].mean()))\n",
    "products['product_width_cm']=products['product_width_cm'].fillna(round(products['product_width_cm'].mean()))"
   ]
  },
  {
   "cell_type": "code",
   "execution_count": 122,
   "id": "ed4ea1c6",
   "metadata": {},
   "outputs": [
    {
     "data": {
      "text/plain": [
       "product_id                    0\n",
       "product_category_name         0\n",
       "product_name_lenght           0\n",
       "product_description_lenght    0\n",
       "product_photos_qty            0\n",
       "product_weight_g              0\n",
       "product_length_cm             0\n",
       "product_height_cm             0\n",
       "product_width_cm              0\n",
       "dtype: int64"
      ]
     },
     "execution_count": 122,
     "metadata": {},
     "output_type": "execute_result"
    }
   ],
   "source": [
    "products.isnull().sum()"
   ]
  },
  {
   "cell_type": "markdown",
   "id": "f8eab2ad",
   "metadata": {},
   "source": [
    "## 3.8 Review dataset\n",
    "\n",
    "<a id = 'review_dataset' ></a>"
   ]
  },
  {
   "cell_type": "code",
   "execution_count": 123,
   "id": "c06a6186",
   "metadata": {},
   "outputs": [
    {
     "data": {
      "text/html": [
       "<div>\n",
       "<style scoped>\n",
       "    .dataframe tbody tr th:only-of-type {\n",
       "        vertical-align: middle;\n",
       "    }\n",
       "\n",
       "    .dataframe tbody tr th {\n",
       "        vertical-align: top;\n",
       "    }\n",
       "\n",
       "    .dataframe thead th {\n",
       "        text-align: right;\n",
       "    }\n",
       "</style>\n",
       "<table border=\"1\" class=\"dataframe\">\n",
       "  <thead>\n",
       "    <tr style=\"text-align: right;\">\n",
       "      <th></th>\n",
       "      <th>review_id</th>\n",
       "      <th>order_id</th>\n",
       "      <th>review_score</th>\n",
       "      <th>review_comment_title</th>\n",
       "      <th>review_comment_message</th>\n",
       "      <th>review_creation_date</th>\n",
       "      <th>review_answer_timestamp</th>\n",
       "    </tr>\n",
       "  </thead>\n",
       "  <tbody>\n",
       "    <tr>\n",
       "      <th>0</th>\n",
       "      <td>7bc2406110b926393aa56f80a40eba40</td>\n",
       "      <td>73fc7af87114b39712e6da79b0a377eb</td>\n",
       "      <td>4</td>\n",
       "      <td>NaN</td>\n",
       "      <td>NaN</td>\n",
       "      <td>2018-01-18 00:00:00</td>\n",
       "      <td>2018-01-18 21:46:59</td>\n",
       "    </tr>\n",
       "    <tr>\n",
       "      <th>1</th>\n",
       "      <td>80e641a11e56f04c1ad469d5645fdfde</td>\n",
       "      <td>a548910a1c6147796b98fdf73dbeba33</td>\n",
       "      <td>5</td>\n",
       "      <td>NaN</td>\n",
       "      <td>NaN</td>\n",
       "      <td>2018-03-10 00:00:00</td>\n",
       "      <td>2018-03-11 03:05:13</td>\n",
       "    </tr>\n",
       "    <tr>\n",
       "      <th>2</th>\n",
       "      <td>228ce5500dc1d8e020d8d1322874b6f0</td>\n",
       "      <td>f9e4b658b201a9f2ecdecbb34bed034b</td>\n",
       "      <td>5</td>\n",
       "      <td>NaN</td>\n",
       "      <td>NaN</td>\n",
       "      <td>2018-02-17 00:00:00</td>\n",
       "      <td>2018-02-18 14:36:24</td>\n",
       "    </tr>\n",
       "    <tr>\n",
       "      <th>3</th>\n",
       "      <td>e64fb393e7b32834bb789ff8bb30750e</td>\n",
       "      <td>658677c97b385a9be170737859d3511b</td>\n",
       "      <td>5</td>\n",
       "      <td>NaN</td>\n",
       "      <td>Recebi bem antes do prazo estipulado.</td>\n",
       "      <td>2017-04-21 00:00:00</td>\n",
       "      <td>2017-04-21 22:02:06</td>\n",
       "    </tr>\n",
       "    <tr>\n",
       "      <th>4</th>\n",
       "      <td>f7c4243c7fe1938f181bec41a392bdeb</td>\n",
       "      <td>8e6bfb81e283fa7e4f11123a3fb894f1</td>\n",
       "      <td>5</td>\n",
       "      <td>NaN</td>\n",
       "      <td>Parabéns lojas lannister adorei comprar pela I...</td>\n",
       "      <td>2018-03-01 00:00:00</td>\n",
       "      <td>2018-03-02 10:26:53</td>\n",
       "    </tr>\n",
       "  </tbody>\n",
       "</table>\n",
       "</div>"
      ],
      "text/plain": [
       "                          review_id                          order_id  \\\n",
       "0  7bc2406110b926393aa56f80a40eba40  73fc7af87114b39712e6da79b0a377eb   \n",
       "1  80e641a11e56f04c1ad469d5645fdfde  a548910a1c6147796b98fdf73dbeba33   \n",
       "2  228ce5500dc1d8e020d8d1322874b6f0  f9e4b658b201a9f2ecdecbb34bed034b   \n",
       "3  e64fb393e7b32834bb789ff8bb30750e  658677c97b385a9be170737859d3511b   \n",
       "4  f7c4243c7fe1938f181bec41a392bdeb  8e6bfb81e283fa7e4f11123a3fb894f1   \n",
       "\n",
       "   review_score review_comment_title  \\\n",
       "0             4                  NaN   \n",
       "1             5                  NaN   \n",
       "2             5                  NaN   \n",
       "3             5                  NaN   \n",
       "4             5                  NaN   \n",
       "\n",
       "                              review_comment_message review_creation_date  \\\n",
       "0                                                NaN  2018-01-18 00:00:00   \n",
       "1                                                NaN  2018-03-10 00:00:00   \n",
       "2                                                NaN  2018-02-17 00:00:00   \n",
       "3              Recebi bem antes do prazo estipulado.  2017-04-21 00:00:00   \n",
       "4  Parabéns lojas lannister adorei comprar pela I...  2018-03-01 00:00:00   \n",
       "\n",
       "  review_answer_timestamp  \n",
       "0     2018-01-18 21:46:59  \n",
       "1     2018-03-11 03:05:13  \n",
       "2     2018-02-18 14:36:24  \n",
       "3     2017-04-21 22:02:06  \n",
       "4     2018-03-02 10:26:53  "
      ]
     },
     "execution_count": 123,
     "metadata": {},
     "output_type": "execute_result"
    }
   ],
   "source": [
    "#reading head and tail of the review dataframe\n",
    "reviews.head()"
   ]
  },
  {
   "cell_type": "code",
   "execution_count": 124,
   "id": "0ddc52d7",
   "metadata": {},
   "outputs": [
    {
     "data": {
      "text/html": [
       "<div>\n",
       "<style scoped>\n",
       "    .dataframe tbody tr th:only-of-type {\n",
       "        vertical-align: middle;\n",
       "    }\n",
       "\n",
       "    .dataframe tbody tr th {\n",
       "        vertical-align: top;\n",
       "    }\n",
       "\n",
       "    .dataframe thead th {\n",
       "        text-align: right;\n",
       "    }\n",
       "</style>\n",
       "<table border=\"1\" class=\"dataframe\">\n",
       "  <thead>\n",
       "    <tr style=\"text-align: right;\">\n",
       "      <th></th>\n",
       "      <th>review_id</th>\n",
       "      <th>order_id</th>\n",
       "      <th>review_score</th>\n",
       "      <th>review_comment_title</th>\n",
       "      <th>review_comment_message</th>\n",
       "      <th>review_creation_date</th>\n",
       "      <th>review_answer_timestamp</th>\n",
       "    </tr>\n",
       "  </thead>\n",
       "  <tbody>\n",
       "    <tr>\n",
       "      <th>99219</th>\n",
       "      <td>574ed12dd733e5fa530cfd4bbf39d7c9</td>\n",
       "      <td>2a8c23fee101d4d5662fa670396eb8da</td>\n",
       "      <td>5</td>\n",
       "      <td>NaN</td>\n",
       "      <td>NaN</td>\n",
       "      <td>2018-07-07 00:00:00</td>\n",
       "      <td>2018-07-14 17:18:30</td>\n",
       "    </tr>\n",
       "    <tr>\n",
       "      <th>99220</th>\n",
       "      <td>f3897127253a9592a73be9bdfdf4ed7a</td>\n",
       "      <td>22ec9f0669f784db00fa86d035cf8602</td>\n",
       "      <td>5</td>\n",
       "      <td>NaN</td>\n",
       "      <td>NaN</td>\n",
       "      <td>2017-12-09 00:00:00</td>\n",
       "      <td>2017-12-11 20:06:42</td>\n",
       "    </tr>\n",
       "    <tr>\n",
       "      <th>99221</th>\n",
       "      <td>b3de70c89b1510c4cd3d0649fd302472</td>\n",
       "      <td>55d4004744368f5571d1f590031933e4</td>\n",
       "      <td>5</td>\n",
       "      <td>NaN</td>\n",
       "      <td>Excelente mochila, entrega super rápida. Super...</td>\n",
       "      <td>2018-03-22 00:00:00</td>\n",
       "      <td>2018-03-23 09:10:43</td>\n",
       "    </tr>\n",
       "    <tr>\n",
       "      <th>99222</th>\n",
       "      <td>1adeb9d84d72fe4e337617733eb85149</td>\n",
       "      <td>7725825d039fc1f0ceb7635e3f7d9206</td>\n",
       "      <td>4</td>\n",
       "      <td>NaN</td>\n",
       "      <td>NaN</td>\n",
       "      <td>2018-07-01 00:00:00</td>\n",
       "      <td>2018-07-02 12:59:13</td>\n",
       "    </tr>\n",
       "    <tr>\n",
       "      <th>99223</th>\n",
       "      <td>efe49f1d6f951dd88b51e6ccd4cc548f</td>\n",
       "      <td>90531360ecb1eec2a1fbb265a0db0508</td>\n",
       "      <td>1</td>\n",
       "      <td>NaN</td>\n",
       "      <td>meu produto chegou e ja tenho que devolver, po...</td>\n",
       "      <td>2017-07-03 00:00:00</td>\n",
       "      <td>2017-07-03 21:01:49</td>\n",
       "    </tr>\n",
       "  </tbody>\n",
       "</table>\n",
       "</div>"
      ],
      "text/plain": [
       "                              review_id                          order_id  \\\n",
       "99219  574ed12dd733e5fa530cfd4bbf39d7c9  2a8c23fee101d4d5662fa670396eb8da   \n",
       "99220  f3897127253a9592a73be9bdfdf4ed7a  22ec9f0669f784db00fa86d035cf8602   \n",
       "99221  b3de70c89b1510c4cd3d0649fd302472  55d4004744368f5571d1f590031933e4   \n",
       "99222  1adeb9d84d72fe4e337617733eb85149  7725825d039fc1f0ceb7635e3f7d9206   \n",
       "99223  efe49f1d6f951dd88b51e6ccd4cc548f  90531360ecb1eec2a1fbb265a0db0508   \n",
       "\n",
       "       review_score review_comment_title  \\\n",
       "99219             5                  NaN   \n",
       "99220             5                  NaN   \n",
       "99221             5                  NaN   \n",
       "99222             4                  NaN   \n",
       "99223             1                  NaN   \n",
       "\n",
       "                                  review_comment_message review_creation_date  \\\n",
       "99219                                                NaN  2018-07-07 00:00:00   \n",
       "99220                                                NaN  2017-12-09 00:00:00   \n",
       "99221  Excelente mochila, entrega super rápida. Super...  2018-03-22 00:00:00   \n",
       "99222                                                NaN  2018-07-01 00:00:00   \n",
       "99223  meu produto chegou e ja tenho que devolver, po...  2017-07-03 00:00:00   \n",
       "\n",
       "      review_answer_timestamp  \n",
       "99219     2018-07-14 17:18:30  \n",
       "99220     2017-12-11 20:06:42  \n",
       "99221     2018-03-23 09:10:43  \n",
       "99222     2018-07-02 12:59:13  \n",
       "99223     2017-07-03 21:01:49  "
      ]
     },
     "execution_count": 124,
     "metadata": {},
     "output_type": "execute_result"
    }
   ],
   "source": [
    "reviews.tail()"
   ]
  },
  {
   "cell_type": "code",
   "execution_count": 125,
   "id": "2a8ad996",
   "metadata": {},
   "outputs": [
    {
     "name": "stdout",
     "output_type": "stream",
     "text": [
      "<class 'pandas.core.frame.DataFrame'>\n",
      "RangeIndex: 99224 entries, 0 to 99223\n",
      "Data columns (total 7 columns):\n",
      " #   Column                   Non-Null Count  Dtype \n",
      "---  ------                   --------------  ----- \n",
      " 0   review_id                99224 non-null  object\n",
      " 1   order_id                 99224 non-null  object\n",
      " 2   review_score             99224 non-null  int64 \n",
      " 3   review_comment_title     11568 non-null  object\n",
      " 4   review_comment_message   40977 non-null  object\n",
      " 5   review_creation_date     99224 non-null  object\n",
      " 6   review_answer_timestamp  99224 non-null  object\n",
      "dtypes: int64(1), object(6)\n",
      "memory usage: 5.3+ MB\n"
     ]
    }
   ],
   "source": [
    "#getting overview of datasets that we have.\n",
    "reviews.info()"
   ]
  },
  {
   "cell_type": "code",
   "execution_count": 126,
   "id": "55d91492",
   "metadata": {
    "scrolled": true
   },
   "outputs": [
    {
     "data": {
      "text/plain": [
       "review_id                      0\n",
       "order_id                       0\n",
       "review_score                   0\n",
       "review_comment_title       87656\n",
       "review_comment_message     58247\n",
       "review_creation_date           0\n",
       "review_answer_timestamp        0\n",
       "dtype: int64"
      ]
     },
     "execution_count": 126,
     "metadata": {},
     "output_type": "execute_result"
    }
   ],
   "source": [
    "#checking the null values\n",
    "reviews.isnull().sum()"
   ]
  },
  {
   "cell_type": "code",
   "execution_count": 127,
   "id": "2b686859",
   "metadata": {},
   "outputs": [
    {
     "data": {
      "text/plain": [
       "145903"
      ]
     },
     "execution_count": 127,
     "metadata": {},
     "output_type": "execute_result"
    }
   ],
   "source": [
    "reviews.isnull().sum().sum()"
   ]
  },
  {
   "cell_type": "code",
   "execution_count": 128,
   "id": "bfdc96f9",
   "metadata": {},
   "outputs": [
    {
     "data": {
      "text/plain": [
       "0"
      ]
     },
     "execution_count": 128,
     "metadata": {},
     "output_type": "execute_result"
    }
   ],
   "source": [
    "#checking duplicates across rows\n",
    "reviews.duplicated().sum()"
   ]
  },
  {
   "cell_type": "code",
   "execution_count": 129,
   "id": "9fdc316d",
   "metadata": {},
   "outputs": [
    {
     "data": {
      "text/plain": [
       "0"
      ]
     },
     "execution_count": 129,
     "metadata": {},
     "output_type": "execute_result"
    }
   ],
   "source": [
    "#checking duplicates across columns\n",
    "reviews.T.duplicated().sum()"
   ]
  },
  {
   "cell_type": "code",
   "execution_count": 130,
   "id": "16575151",
   "metadata": {
    "scrolled": false
   },
   "outputs": [
    {
     "data": {
      "text/plain": [
       "98410"
      ]
     },
     "execution_count": 130,
     "metadata": {},
     "output_type": "execute_result"
    }
   ],
   "source": [
    "#checking the unique values in column unique id and customer id\n",
    "reviews['review_id'].nunique()"
   ]
  },
  {
   "cell_type": "code",
   "execution_count": 131,
   "id": "9ab369fe",
   "metadata": {},
   "outputs": [
    {
     "data": {
      "text/plain": [
       "814"
      ]
     },
     "execution_count": 131,
     "metadata": {},
     "output_type": "execute_result"
    }
   ],
   "source": [
    "reviews.shape[0]-reviews['review_id'].nunique()"
   ]
  },
  {
   "cell_type": "code",
   "execution_count": 132,
   "id": "9bc37318",
   "metadata": {
    "scrolled": true
   },
   "outputs": [
    {
     "data": {
      "text/plain": [
       "98673"
      ]
     },
     "execution_count": 132,
     "metadata": {},
     "output_type": "execute_result"
    }
   ],
   "source": [
    "reviews['order_id'].nunique()"
   ]
  },
  {
   "cell_type": "code",
   "execution_count": 133,
   "id": "ee1f297a",
   "metadata": {},
   "outputs": [
    {
     "data": {
      "text/plain": [
       "263"
      ]
     },
     "execution_count": 133,
     "metadata": {},
     "output_type": "execute_result"
    }
   ],
   "source": [
    "98673-98410"
   ]
  },
  {
   "cell_type": "markdown",
   "id": "b697f733",
   "metadata": {},
   "source": [
    "#### Quick findings:\n",
    "\n",
    "- Reviews dataset has information about reviews given by the customers. It consists of review score, comment, review creation date and review submission timestamp.\n",
    "- **We have a total of 99224 review ids of which 98410 are the unique review ids. It means there are 814 reviews which have been resubmitted. These are the ones that need to be tackled.**\n",
    "- **We have 98673 unique order ids and 98410 unique review ids. It means that there are 263 reviews with same order id. It is possible that these reviews are for different products ordered under same order id.**\n",
    "- This dataset has **six** columns of object datatype and **one** column with numeric datatype.\n",
    "- There are no duplicates across rows or columns.\n",
    "- There are 145903 null values."
   ]
  },
  {
   "cell_type": "markdown",
   "id": "cbc190b1",
   "metadata": {},
   "source": [
    "## 3.9 Product_eng dataset\n",
    "\n",
    "<a id = 'eng_dataset' ></a>"
   ]
  },
  {
   "cell_type": "code",
   "execution_count": 134,
   "id": "e8cab8e6",
   "metadata": {},
   "outputs": [
    {
     "data": {
      "text/html": [
       "<div>\n",
       "<style scoped>\n",
       "    .dataframe tbody tr th:only-of-type {\n",
       "        vertical-align: middle;\n",
       "    }\n",
       "\n",
       "    .dataframe tbody tr th {\n",
       "        vertical-align: top;\n",
       "    }\n",
       "\n",
       "    .dataframe thead th {\n",
       "        text-align: right;\n",
       "    }\n",
       "</style>\n",
       "<table border=\"1\" class=\"dataframe\">\n",
       "  <thead>\n",
       "    <tr style=\"text-align: right;\">\n",
       "      <th></th>\n",
       "      <th>product_category_name</th>\n",
       "      <th>product_category_name_english</th>\n",
       "    </tr>\n",
       "  </thead>\n",
       "  <tbody>\n",
       "    <tr>\n",
       "      <th>0</th>\n",
       "      <td>beleza_saude</td>\n",
       "      <td>health_beauty</td>\n",
       "    </tr>\n",
       "    <tr>\n",
       "      <th>1</th>\n",
       "      <td>informatica_acessorios</td>\n",
       "      <td>computers_accessories</td>\n",
       "    </tr>\n",
       "    <tr>\n",
       "      <th>2</th>\n",
       "      <td>automotivo</td>\n",
       "      <td>auto</td>\n",
       "    </tr>\n",
       "    <tr>\n",
       "      <th>3</th>\n",
       "      <td>cama_mesa_banho</td>\n",
       "      <td>bed_bath_table</td>\n",
       "    </tr>\n",
       "    <tr>\n",
       "      <th>4</th>\n",
       "      <td>moveis_decoracao</td>\n",
       "      <td>furniture_decor</td>\n",
       "    </tr>\n",
       "  </tbody>\n",
       "</table>\n",
       "</div>"
      ],
      "text/plain": [
       "    product_category_name product_category_name_english\n",
       "0            beleza_saude                 health_beauty\n",
       "1  informatica_acessorios         computers_accessories\n",
       "2              automotivo                          auto\n",
       "3         cama_mesa_banho                bed_bath_table\n",
       "4        moveis_decoracao               furniture_decor"
      ]
     },
     "execution_count": 134,
     "metadata": {},
     "output_type": "execute_result"
    }
   ],
   "source": [
    "#reading head and tail of the customer dataframe\n",
    "product_eng.head()"
   ]
  },
  {
   "cell_type": "code",
   "execution_count": 135,
   "id": "26bf55e8",
   "metadata": {},
   "outputs": [
    {
     "data": {
      "text/html": [
       "<div>\n",
       "<style scoped>\n",
       "    .dataframe tbody tr th:only-of-type {\n",
       "        vertical-align: middle;\n",
       "    }\n",
       "\n",
       "    .dataframe tbody tr th {\n",
       "        vertical-align: top;\n",
       "    }\n",
       "\n",
       "    .dataframe thead th {\n",
       "        text-align: right;\n",
       "    }\n",
       "</style>\n",
       "<table border=\"1\" class=\"dataframe\">\n",
       "  <thead>\n",
       "    <tr style=\"text-align: right;\">\n",
       "      <th></th>\n",
       "      <th>product_category_name</th>\n",
       "      <th>product_category_name_english</th>\n",
       "    </tr>\n",
       "  </thead>\n",
       "  <tbody>\n",
       "    <tr>\n",
       "      <th>66</th>\n",
       "      <td>flores</td>\n",
       "      <td>flowers</td>\n",
       "    </tr>\n",
       "    <tr>\n",
       "      <th>67</th>\n",
       "      <td>artes_e_artesanato</td>\n",
       "      <td>arts_and_craftmanship</td>\n",
       "    </tr>\n",
       "    <tr>\n",
       "      <th>68</th>\n",
       "      <td>fraldas_higiene</td>\n",
       "      <td>diapers_and_hygiene</td>\n",
       "    </tr>\n",
       "    <tr>\n",
       "      <th>69</th>\n",
       "      <td>fashion_roupa_infanto_juvenil</td>\n",
       "      <td>fashion_childrens_clothes</td>\n",
       "    </tr>\n",
       "    <tr>\n",
       "      <th>70</th>\n",
       "      <td>seguros_e_servicos</td>\n",
       "      <td>security_and_services</td>\n",
       "    </tr>\n",
       "  </tbody>\n",
       "</table>\n",
       "</div>"
      ],
      "text/plain": [
       "            product_category_name product_category_name_english\n",
       "66                         flores                       flowers\n",
       "67             artes_e_artesanato         arts_and_craftmanship\n",
       "68                fraldas_higiene           diapers_and_hygiene\n",
       "69  fashion_roupa_infanto_juvenil     fashion_childrens_clothes\n",
       "70             seguros_e_servicos         security_and_services"
      ]
     },
     "execution_count": 135,
     "metadata": {},
     "output_type": "execute_result"
    }
   ],
   "source": [
    "product_eng.tail()"
   ]
  },
  {
   "cell_type": "code",
   "execution_count": 136,
   "id": "28f9e09a",
   "metadata": {},
   "outputs": [
    {
     "name": "stdout",
     "output_type": "stream",
     "text": [
      "<class 'pandas.core.frame.DataFrame'>\n",
      "RangeIndex: 71 entries, 0 to 70\n",
      "Data columns (total 2 columns):\n",
      " #   Column                         Non-Null Count  Dtype \n",
      "---  ------                         --------------  ----- \n",
      " 0   product_category_name          71 non-null     object\n",
      " 1   product_category_name_english  71 non-null     object\n",
      "dtypes: object(2)\n",
      "memory usage: 1.2+ KB\n"
     ]
    }
   ],
   "source": [
    "#getting overview of datasets that we have.\n",
    "product_eng.info()"
   ]
  },
  {
   "cell_type": "code",
   "execution_count": 137,
   "id": "a633de70",
   "metadata": {},
   "outputs": [
    {
     "data": {
      "text/plain": [
       "product_category_name            0\n",
       "product_category_name_english    0\n",
       "dtype: int64"
      ]
     },
     "execution_count": 137,
     "metadata": {},
     "output_type": "execute_result"
    }
   ],
   "source": [
    "#checking the null values\n",
    "product_eng.isnull().sum()"
   ]
  },
  {
   "cell_type": "code",
   "execution_count": 138,
   "id": "049e66ff",
   "metadata": {},
   "outputs": [
    {
     "data": {
      "text/plain": [
       "0"
      ]
     },
     "execution_count": 138,
     "metadata": {},
     "output_type": "execute_result"
    }
   ],
   "source": [
    "#checking duplicates across rows\n",
    "product_eng.duplicated().sum()"
   ]
  },
  {
   "cell_type": "code",
   "execution_count": 139,
   "id": "bccb33d0",
   "metadata": {
    "scrolled": true
   },
   "outputs": [
    {
     "data": {
      "text/plain": [
       "0"
      ]
     },
     "execution_count": 139,
     "metadata": {},
     "output_type": "execute_result"
    }
   ],
   "source": [
    "#checking duplicates across columns\n",
    "product_eng.T.duplicated().sum()"
   ]
  },
  {
   "cell_type": "markdown",
   "id": "9cb9f013",
   "metadata": {},
   "source": [
    "### Merging Product_eng with products"
   ]
  },
  {
   "cell_type": "markdown",
   "id": "488847a4",
   "metadata": {},
   "source": [
    "We are now joining the product category with english names of the products and dropping the original product category name with names in portugese."
   ]
  },
  {
   "cell_type": "code",
   "execution_count": 140,
   "id": "44f6a29f",
   "metadata": {},
   "outputs": [],
   "source": [
    "products_final=pd.merge(left=products, right=product_eng, on='product_category_name', how='left')"
   ]
  },
  {
   "cell_type": "code",
   "execution_count": 141,
   "id": "2aea29d9",
   "metadata": {
    "scrolled": true
   },
   "outputs": [
    {
     "data": {
      "text/plain": [
       "product_id                         0\n",
       "product_category_name              0\n",
       "product_name_lenght                0\n",
       "product_description_lenght         0\n",
       "product_photos_qty                 0\n",
       "product_weight_g                   0\n",
       "product_length_cm                  0\n",
       "product_height_cm                  0\n",
       "product_width_cm                   0\n",
       "product_category_name_english    406\n",
       "dtype: int64"
      ]
     },
     "execution_count": 141,
     "metadata": {},
     "output_type": "execute_result"
    }
   ],
   "source": [
    "products_final.isnull().sum()"
   ]
  },
  {
   "cell_type": "code",
   "execution_count": 142,
   "id": "6c5e9b6f",
   "metadata": {
    "scrolled": false
   },
   "outputs": [
    {
     "data": {
      "text/plain": [
       "Other                                            393\n",
       "portateis_cozinha_e_preparadores_de_alimentos     10\n",
       "pc_gamer                                           3\n",
       "Name: product_category_name, dtype: int64"
      ]
     },
     "execution_count": 142,
     "metadata": {},
     "output_type": "execute_result"
    }
   ],
   "source": [
    "#checking the categores where we don't have english name\n",
    "products_final[products_final['product_category_name_english'].isnull()]['product_category_name'].value_counts()"
   ]
  },
  {
   "cell_type": "code",
   "execution_count": 143,
   "id": "42549eac",
   "metadata": {},
   "outputs": [
    {
     "data": {
      "text/html": [
       "<div>\n",
       "<style scoped>\n",
       "    .dataframe tbody tr th:only-of-type {\n",
       "        vertical-align: middle;\n",
       "    }\n",
       "\n",
       "    .dataframe tbody tr th {\n",
       "        vertical-align: top;\n",
       "    }\n",
       "\n",
       "    .dataframe thead th {\n",
       "        text-align: right;\n",
       "    }\n",
       "</style>\n",
       "<table border=\"1\" class=\"dataframe\">\n",
       "  <thead>\n",
       "    <tr style=\"text-align: right;\">\n",
       "      <th></th>\n",
       "      <th>product_id</th>\n",
       "      <th>product_category_name</th>\n",
       "      <th>product_name_lenght</th>\n",
       "      <th>product_description_lenght</th>\n",
       "      <th>product_photos_qty</th>\n",
       "      <th>product_weight_g</th>\n",
       "      <th>product_length_cm</th>\n",
       "      <th>product_height_cm</th>\n",
       "      <th>product_width_cm</th>\n",
       "      <th>product_category_name_english</th>\n",
       "    </tr>\n",
       "  </thead>\n",
       "  <tbody>\n",
       "    <tr>\n",
       "      <th>0</th>\n",
       "      <td>1e9e8ef04dbcff4541ed26657ea517e5</td>\n",
       "      <td>perfumaria</td>\n",
       "      <td>40.0</td>\n",
       "      <td>287.0</td>\n",
       "      <td>1.0</td>\n",
       "      <td>225.0</td>\n",
       "      <td>16.0</td>\n",
       "      <td>10.0</td>\n",
       "      <td>14.0</td>\n",
       "      <td>perfumery</td>\n",
       "    </tr>\n",
       "    <tr>\n",
       "      <th>1</th>\n",
       "      <td>3aa071139cb16b67ca9e5dea641aaa2f</td>\n",
       "      <td>artes</td>\n",
       "      <td>44.0</td>\n",
       "      <td>276.0</td>\n",
       "      <td>1.0</td>\n",
       "      <td>1000.0</td>\n",
       "      <td>30.0</td>\n",
       "      <td>18.0</td>\n",
       "      <td>20.0</td>\n",
       "      <td>art</td>\n",
       "    </tr>\n",
       "    <tr>\n",
       "      <th>2</th>\n",
       "      <td>96bd76ec8810374ed1b65e291975717f</td>\n",
       "      <td>esporte_lazer</td>\n",
       "      <td>46.0</td>\n",
       "      <td>250.0</td>\n",
       "      <td>1.0</td>\n",
       "      <td>154.0</td>\n",
       "      <td>18.0</td>\n",
       "      <td>9.0</td>\n",
       "      <td>15.0</td>\n",
       "      <td>sports_leisure</td>\n",
       "    </tr>\n",
       "    <tr>\n",
       "      <th>3</th>\n",
       "      <td>cef67bcfe19066a932b7673e239eb23d</td>\n",
       "      <td>bebes</td>\n",
       "      <td>27.0</td>\n",
       "      <td>261.0</td>\n",
       "      <td>1.0</td>\n",
       "      <td>371.0</td>\n",
       "      <td>26.0</td>\n",
       "      <td>4.0</td>\n",
       "      <td>26.0</td>\n",
       "      <td>baby</td>\n",
       "    </tr>\n",
       "    <tr>\n",
       "      <th>4</th>\n",
       "      <td>9dc1a7de274444849c219cff195d0b71</td>\n",
       "      <td>utilidades_domesticas</td>\n",
       "      <td>37.0</td>\n",
       "      <td>402.0</td>\n",
       "      <td>4.0</td>\n",
       "      <td>625.0</td>\n",
       "      <td>20.0</td>\n",
       "      <td>17.0</td>\n",
       "      <td>13.0</td>\n",
       "      <td>housewares</td>\n",
       "    </tr>\n",
       "  </tbody>\n",
       "</table>\n",
       "</div>"
      ],
      "text/plain": [
       "                         product_id  product_category_name  \\\n",
       "0  1e9e8ef04dbcff4541ed26657ea517e5             perfumaria   \n",
       "1  3aa071139cb16b67ca9e5dea641aaa2f                  artes   \n",
       "2  96bd76ec8810374ed1b65e291975717f          esporte_lazer   \n",
       "3  cef67bcfe19066a932b7673e239eb23d                  bebes   \n",
       "4  9dc1a7de274444849c219cff195d0b71  utilidades_domesticas   \n",
       "\n",
       "   product_name_lenght  product_description_lenght  product_photos_qty  \\\n",
       "0                 40.0                       287.0                 1.0   \n",
       "1                 44.0                       276.0                 1.0   \n",
       "2                 46.0                       250.0                 1.0   \n",
       "3                 27.0                       261.0                 1.0   \n",
       "4                 37.0                       402.0                 4.0   \n",
       "\n",
       "   product_weight_g  product_length_cm  product_height_cm  product_width_cm  \\\n",
       "0             225.0               16.0               10.0              14.0   \n",
       "1            1000.0               30.0               18.0              20.0   \n",
       "2             154.0               18.0                9.0              15.0   \n",
       "3             371.0               26.0                4.0              26.0   \n",
       "4             625.0               20.0               17.0              13.0   \n",
       "\n",
       "  product_category_name_english  \n",
       "0                     perfumery  \n",
       "1                           art  \n",
       "2                sports_leisure  \n",
       "3                          baby  \n",
       "4                    housewares  "
      ]
     },
     "execution_count": 143,
     "metadata": {},
     "output_type": "execute_result"
    }
   ],
   "source": [
    "products_final.head()"
   ]
  },
  {
   "cell_type": "markdown",
   "id": "04bf6e3b",
   "metadata": {},
   "source": [
    "We know we can set other to other, we can use google translate to convert rest to english.\n",
    "\n",
    "**portateis cozinha e preparadores de alimentos** : kitchen and food preparation racks <br/>\n",
    "**Pc gamer** : PC games"
   ]
  },
  {
   "cell_type": "code",
   "execution_count": 144,
   "id": "728bbe18",
   "metadata": {
    "scrolled": true
   },
   "outputs": [],
   "source": [
    "#filling english name of three categories.\n",
    "products_final.loc[products_final['product_category_name']=='Other', 'product_category_name_english']='Other'\n",
    "products_final.loc[products_final['product_category_name']=='portateis_cozinha_e_preparadores_de_alimentos', 'product_category_name_english']='kitchen_and_food_preparation_racks'\n",
    "products_final.loc[products_final['product_category_name']=='pc_gamer', 'product_category_name_english']='PC_games'"
   ]
  },
  {
   "cell_type": "code",
   "execution_count": 145,
   "id": "4e6e88a2",
   "metadata": {
    "scrolled": false
   },
   "outputs": [
    {
     "data": {
      "text/plain": [
       "product_id                       0\n",
       "product_category_name            0\n",
       "product_name_lenght              0\n",
       "product_description_lenght       0\n",
       "product_photos_qty               0\n",
       "product_weight_g                 0\n",
       "product_length_cm                0\n",
       "product_height_cm                0\n",
       "product_width_cm                 0\n",
       "product_category_name_english    0\n",
       "dtype: int64"
      ]
     },
     "execution_count": 145,
     "metadata": {},
     "output_type": "execute_result"
    }
   ],
   "source": [
    "products_final.isnull().sum()"
   ]
  },
  {
   "cell_type": "code",
   "execution_count": 146,
   "id": "1d7ac8a2",
   "metadata": {},
   "outputs": [],
   "source": [
    "#dropping the original product category name which is in portugese\n",
    "products_final.drop(columns=['product_category_name'], inplace=True)"
   ]
  },
  {
   "cell_type": "code",
   "execution_count": 147,
   "id": "d34c67ae",
   "metadata": {},
   "outputs": [],
   "source": [
    "#Saving the final dataset to csv\n",
    "products_final.to_csv('data_cleaned/products_final_dataset.csv', index=False)\n",
    "orders.to_csv('data_cleaned/orders_cleaned_dataset.csv', index=False)"
   ]
  },
  {
   "cell_type": "markdown",
   "id": "1df5e08d",
   "metadata": {},
   "source": [
    "## 4. Joining all the tables\n",
    "\n",
    "<a id = 'joining_tables' ></a>"
   ]
  },
  {
   "cell_type": "markdown",
   "id": "b8ac0f61",
   "metadata": {},
   "source": [
    "We will be joining the tables to get a master table for addressing the business problem of Sales prediction."
   ]
  },
  {
   "cell_type": "markdown",
   "id": "5ae5395d",
   "metadata": {},
   "source": [
    "Starting from the orders dataset, we will first join the order_items and then the products dataset. \n",
    "\n",
    "Since we have already cleaned the orders dataset and saved it in a csv file, we will load that data set and start from there."
   ]
  },
  {
   "cell_type": "code",
   "execution_count": 148,
   "id": "b1142d47",
   "metadata": {},
   "outputs": [],
   "source": [
    "#loading the cleaned orders dataset.\n",
    "order_fin=pd.read_csv('data_cleaned/orders_cleaned_dataset.csv')"
   ]
  },
  {
   "cell_type": "markdown",
   "id": "43284e9f",
   "metadata": {},
   "source": [
    "### Merging Orders and Order_items"
   ]
  },
  {
   "cell_type": "code",
   "execution_count": 149,
   "id": "070af336",
   "metadata": {},
   "outputs": [],
   "source": [
    "#We already have our orders_items data set loaded. Let us join the order_items to order_fin\n",
    "order_comp= pd.merge(left=order_fin, right= order_items, on= 'order_id', how='inner')"
   ]
  },
  {
   "cell_type": "code",
   "execution_count": 150,
   "id": "f0200347",
   "metadata": {
    "scrolled": false
   },
   "outputs": [
    {
     "name": "stdout",
     "output_type": "stream",
     "text": [
      "<class 'pandas.core.frame.DataFrame'>\n",
      "Int64Index: 110739 entries, 0 to 110738\n",
      "Data columns (total 11 columns):\n",
      " #   Column                         Non-Null Count   Dtype  \n",
      "---  ------                         --------------   -----  \n",
      " 0   order_id                       110739 non-null  object \n",
      " 1   customer_id                    110739 non-null  object \n",
      " 2   order_status                   110739 non-null  object \n",
      " 3   order_purchase_timestamp       110739 non-null  object \n",
      " 4   order_estimated_delivery_date  110739 non-null  object \n",
      " 5   order_item_id                  110739 non-null  int64  \n",
      " 6   product_id                     110739 non-null  object \n",
      " 7   seller_id                      110739 non-null  object \n",
      " 8   shipping_limit_date            110739 non-null  object \n",
      " 9   price                          110739 non-null  float64\n",
      " 10  freight_value                  110739 non-null  float64\n",
      "dtypes: float64(2), int64(1), object(8)\n",
      "memory usage: 10.1+ MB\n"
     ]
    }
   ],
   "source": [
    "#basic overview\n",
    "order_comp.info()"
   ]
  },
  {
   "cell_type": "markdown",
   "id": "f37dec86",
   "metadata": {},
   "source": [
    "okay, let us proceed with joining the products table."
   ]
  },
  {
   "cell_type": "markdown",
   "id": "bbce1c9d",
   "metadata": {},
   "source": [
    "### Merging Products table with Order_comp"
   ]
  },
  {
   "cell_type": "code",
   "execution_count": 151,
   "id": "ec724041",
   "metadata": {},
   "outputs": [],
   "source": [
    "#loading the final product dataset.\n",
    "product_fin=pd.read_csv('data_cleaned/products_final_dataset.csv')"
   ]
  },
  {
   "cell_type": "code",
   "execution_count": 152,
   "id": "6aa7fc9e",
   "metadata": {},
   "outputs": [],
   "source": [
    "#let us join it with order_comp\n",
    "Order_cons=pd.merge(left=order_comp, right=product_fin, on='product_id', how='inner')"
   ]
  },
  {
   "cell_type": "code",
   "execution_count": 153,
   "id": "a16e1a4c",
   "metadata": {
    "scrolled": true
   },
   "outputs": [
    {
     "name": "stdout",
     "output_type": "stream",
     "text": [
      "<class 'pandas.core.frame.DataFrame'>\n",
      "Int64Index: 110739 entries, 0 to 110738\n",
      "Data columns (total 19 columns):\n",
      " #   Column                         Non-Null Count   Dtype  \n",
      "---  ------                         --------------   -----  \n",
      " 0   order_id                       110739 non-null  object \n",
      " 1   customer_id                    110739 non-null  object \n",
      " 2   order_status                   110739 non-null  object \n",
      " 3   order_purchase_timestamp       110739 non-null  object \n",
      " 4   order_estimated_delivery_date  110739 non-null  object \n",
      " 5   order_item_id                  110739 non-null  int64  \n",
      " 6   product_id                     110739 non-null  object \n",
      " 7   seller_id                      110739 non-null  object \n",
      " 8   shipping_limit_date            110739 non-null  object \n",
      " 9   price                          110739 non-null  float64\n",
      " 10  freight_value                  110739 non-null  float64\n",
      " 11  product_name_lenght            110739 non-null  float64\n",
      " 12  product_description_lenght     110739 non-null  float64\n",
      " 13  product_photos_qty             110739 non-null  float64\n",
      " 14  product_weight_g               110739 non-null  float64\n",
      " 15  product_length_cm              110739 non-null  float64\n",
      " 16  product_height_cm              110739 non-null  float64\n",
      " 17  product_width_cm               110739 non-null  float64\n",
      " 18  product_category_name_english  110739 non-null  object \n",
      "dtypes: float64(9), int64(1), object(9)\n",
      "memory usage: 16.9+ MB\n"
     ]
    }
   ],
   "source": [
    "#basic overview\n",
    "Order_cons.info()"
   ]
  },
  {
   "cell_type": "markdown",
   "id": "bc3b0e1f",
   "metadata": {},
   "source": [
    "### Merging Sellers datset with the Order_cons"
   ]
  },
  {
   "cell_type": "markdown",
   "id": "581ec6fc",
   "metadata": {},
   "source": [
    "Let us add the seller and customer details one by one."
   ]
  },
  {
   "cell_type": "code",
   "execution_count": 154,
   "id": "33e62f3f",
   "metadata": {},
   "outputs": [],
   "source": [
    "#load the cleaned seller data form cap_data\\seller_loc_cleaned_dataset.csv\n",
    "seller_fin= pd.read_csv('data_cleaned/seller_loc_cleaned_dataset.csv')"
   ]
  },
  {
   "cell_type": "code",
   "execution_count": 155,
   "id": "3b809f11",
   "metadata": {},
   "outputs": [],
   "source": [
    "#merge the data\n",
    "order_with_seller=pd.merge(left=Order_cons, right=seller_fin, on='seller_id', how='left')"
   ]
  },
  {
   "cell_type": "code",
   "execution_count": 156,
   "id": "40ec320a",
   "metadata": {
    "scrolled": false
   },
   "outputs": [
    {
     "name": "stdout",
     "output_type": "stream",
     "text": [
      "<class 'pandas.core.frame.DataFrame'>\n",
      "Int64Index: 110739 entries, 0 to 110738\n",
      "Data columns (total 24 columns):\n",
      " #   Column                         Non-Null Count   Dtype  \n",
      "---  ------                         --------------   -----  \n",
      " 0   order_id                       110739 non-null  object \n",
      " 1   customer_id                    110739 non-null  object \n",
      " 2   order_status                   110739 non-null  object \n",
      " 3   order_purchase_timestamp       110739 non-null  object \n",
      " 4   order_estimated_delivery_date  110739 non-null  object \n",
      " 5   order_item_id                  110739 non-null  int64  \n",
      " 6   product_id                     110739 non-null  object \n",
      " 7   seller_id                      110739 non-null  object \n",
      " 8   shipping_limit_date            110739 non-null  object \n",
      " 9   price                          110739 non-null  float64\n",
      " 10  freight_value                  110739 non-null  float64\n",
      " 11  product_name_lenght            110739 non-null  float64\n",
      " 12  product_description_lenght     110739 non-null  float64\n",
      " 13  product_photos_qty             110739 non-null  float64\n",
      " 14  product_weight_g               110739 non-null  float64\n",
      " 15  product_length_cm              110739 non-null  float64\n",
      " 16  product_height_cm              110739 non-null  float64\n",
      " 17  product_width_cm               110739 non-null  float64\n",
      " 18  product_category_name_english  110739 non-null  object \n",
      " 19  seller_zip_code_prefix         110739 non-null  int64  \n",
      " 20  seller_city                    110739 non-null  object \n",
      " 21  seller_state                   110739 non-null  object \n",
      " 22  seller_lat                     110739 non-null  float64\n",
      " 23  seller_lng                     110739 non-null  float64\n",
      "dtypes: float64(11), int64(2), object(11)\n",
      "memory usage: 21.1+ MB\n"
     ]
    }
   ],
   "source": [
    "order_with_seller.info()"
   ]
  },
  {
   "cell_type": "markdown",
   "id": "d5d31147",
   "metadata": {},
   "source": [
    "### Merging Customer dataset"
   ]
  },
  {
   "cell_type": "code",
   "execution_count": 157,
   "id": "c364c5b2",
   "metadata": {},
   "outputs": [],
   "source": [
    "#load the cleaned customer data form cap_data\\customer_loc_cleaned_dataset.csv\n",
    "customer_fin=pd.read_csv('data_cleaned/customer_loc_cleaned_dataset.csv')"
   ]
  },
  {
   "cell_type": "code",
   "execution_count": 158,
   "id": "0586d10c",
   "metadata": {},
   "outputs": [],
   "source": [
    "#merging the data\n",
    "order_with_customer=pd.merge(left=order_with_seller, right=customer_fin, on='customer_id', how='left')"
   ]
  },
  {
   "cell_type": "code",
   "execution_count": 159,
   "id": "7c220836",
   "metadata": {
    "scrolled": true
   },
   "outputs": [
    {
     "name": "stdout",
     "output_type": "stream",
     "text": [
      "<class 'pandas.core.frame.DataFrame'>\n",
      "Int64Index: 110739 entries, 0 to 110738\n",
      "Data columns (total 30 columns):\n",
      " #   Column                         Non-Null Count   Dtype  \n",
      "---  ------                         --------------   -----  \n",
      " 0   order_id                       110739 non-null  object \n",
      " 1   customer_id                    110739 non-null  object \n",
      " 2   order_status                   110739 non-null  object \n",
      " 3   order_purchase_timestamp       110739 non-null  object \n",
      " 4   order_estimated_delivery_date  110739 non-null  object \n",
      " 5   order_item_id                  110739 non-null  int64  \n",
      " 6   product_id                     110739 non-null  object \n",
      " 7   seller_id                      110739 non-null  object \n",
      " 8   shipping_limit_date            110739 non-null  object \n",
      " 9   price                          110739 non-null  float64\n",
      " 10  freight_value                  110739 non-null  float64\n",
      " 11  product_name_lenght            110739 non-null  float64\n",
      " 12  product_description_lenght     110739 non-null  float64\n",
      " 13  product_photos_qty             110739 non-null  float64\n",
      " 14  product_weight_g               110739 non-null  float64\n",
      " 15  product_length_cm              110739 non-null  float64\n",
      " 16  product_height_cm              110739 non-null  float64\n",
      " 17  product_width_cm               110739 non-null  float64\n",
      " 18  product_category_name_english  110739 non-null  object \n",
      " 19  seller_zip_code_prefix         110739 non-null  int64  \n",
      " 20  seller_city                    110739 non-null  object \n",
      " 21  seller_state                   110739 non-null  object \n",
      " 22  seller_lat                     110739 non-null  float64\n",
      " 23  seller_lng                     110739 non-null  float64\n",
      " 24  customer_unique_id             110739 non-null  object \n",
      " 25  customer_zip_code_prefix       110739 non-null  int64  \n",
      " 26  customer_city                  110739 non-null  object \n",
      " 27  customer_state                 110739 non-null  object \n",
      " 28  customer_lat                   110739 non-null  float64\n",
      " 29  customer_lng                   110739 non-null  float64\n",
      "dtypes: float64(13), int64(3), object(14)\n",
      "memory usage: 26.2+ MB\n"
     ]
    }
   ],
   "source": [
    "order_with_customer.info()"
   ]
  },
  {
   "cell_type": "markdown",
   "id": "ff733bb1",
   "metadata": {},
   "source": [
    "### Merging the Reviews dataset"
   ]
  },
  {
   "cell_type": "code",
   "execution_count": 160,
   "id": "e42660c1",
   "metadata": {},
   "outputs": [],
   "source": [
    "#merging the review dataset\n",
    "olist_cons=pd.merge(left=order_with_customer, right=reviews, on='order_id', how='inner')"
   ]
  },
  {
   "cell_type": "code",
   "execution_count": 161,
   "id": "b20b1f2d",
   "metadata": {
    "scrolled": false
   },
   "outputs": [
    {
     "name": "stdout",
     "output_type": "stream",
     "text": [
      "<class 'pandas.core.frame.DataFrame'>\n",
      "Int64Index: 110542 entries, 0 to 110541\n",
      "Data columns (total 36 columns):\n",
      " #   Column                         Non-Null Count   Dtype  \n",
      "---  ------                         --------------   -----  \n",
      " 0   order_id                       110542 non-null  object \n",
      " 1   customer_id                    110542 non-null  object \n",
      " 2   order_status                   110542 non-null  object \n",
      " 3   order_purchase_timestamp       110542 non-null  object \n",
      " 4   order_estimated_delivery_date  110542 non-null  object \n",
      " 5   order_item_id                  110542 non-null  int64  \n",
      " 6   product_id                     110542 non-null  object \n",
      " 7   seller_id                      110542 non-null  object \n",
      " 8   shipping_limit_date            110542 non-null  object \n",
      " 9   price                          110542 non-null  float64\n",
      " 10  freight_value                  110542 non-null  float64\n",
      " 11  product_name_lenght            110542 non-null  float64\n",
      " 12  product_description_lenght     110542 non-null  float64\n",
      " 13  product_photos_qty             110542 non-null  float64\n",
      " 14  product_weight_g               110542 non-null  float64\n",
      " 15  product_length_cm              110542 non-null  float64\n",
      " 16  product_height_cm              110542 non-null  float64\n",
      " 17  product_width_cm               110542 non-null  float64\n",
      " 18  product_category_name_english  110542 non-null  object \n",
      " 19  seller_zip_code_prefix         110542 non-null  int64  \n",
      " 20  seller_city                    110542 non-null  object \n",
      " 21  seller_state                   110542 non-null  object \n",
      " 22  seller_lat                     110542 non-null  float64\n",
      " 23  seller_lng                     110542 non-null  float64\n",
      " 24  customer_unique_id             110542 non-null  object \n",
      " 25  customer_zip_code_prefix       110542 non-null  int64  \n",
      " 26  customer_city                  110542 non-null  object \n",
      " 27  customer_state                 110542 non-null  object \n",
      " 28  customer_lat                   110542 non-null  float64\n",
      " 29  customer_lng                   110542 non-null  float64\n",
      " 30  review_id                      110542 non-null  object \n",
      " 31  review_score                   110542 non-null  int64  \n",
      " 32  review_comment_title           13215 non-null   object \n",
      " 33  review_comment_message         46485 non-null   object \n",
      " 34  review_creation_date           110542 non-null  object \n",
      " 35  review_answer_timestamp        110542 non-null  object \n",
      "dtypes: float64(13), int64(4), object(19)\n",
      "memory usage: 31.2+ MB\n"
     ]
    }
   ],
   "source": [
    "olist_cons.info()"
   ]
  },
  {
   "cell_type": "markdown",
   "id": "42767882",
   "metadata": {},
   "source": [
    "We will be dropping some of the rows from the reveiw table since we don't need them in our current scope of work."
   ]
  },
  {
   "cell_type": "code",
   "execution_count": 162,
   "id": "0bb42e74",
   "metadata": {},
   "outputs": [],
   "source": [
    "#dropping not needed column.\n",
    "olist_cons.drop(columns=['review_comment_title','review_comment_message'], inplace=True)"
   ]
  },
  {
   "cell_type": "code",
   "execution_count": 163,
   "id": "d93a10f6",
   "metadata": {
    "scrolled": false
   },
   "outputs": [
    {
     "data": {
      "text/plain": [
       "order_id                         0\n",
       "customer_id                      0\n",
       "order_status                     0\n",
       "order_purchase_timestamp         0\n",
       "order_estimated_delivery_date    0\n",
       "order_item_id                    0\n",
       "product_id                       0\n",
       "seller_id                        0\n",
       "shipping_limit_date              0\n",
       "price                            0\n",
       "freight_value                    0\n",
       "product_name_lenght              0\n",
       "product_description_lenght       0\n",
       "product_photos_qty               0\n",
       "product_weight_g                 0\n",
       "product_length_cm                0\n",
       "product_height_cm                0\n",
       "product_width_cm                 0\n",
       "product_category_name_english    0\n",
       "seller_zip_code_prefix           0\n",
       "seller_city                      0\n",
       "seller_state                     0\n",
       "seller_lat                       0\n",
       "seller_lng                       0\n",
       "customer_unique_id               0\n",
       "customer_zip_code_prefix         0\n",
       "customer_city                    0\n",
       "customer_state                   0\n",
       "customer_lat                     0\n",
       "customer_lng                     0\n",
       "review_id                        0\n",
       "review_score                     0\n",
       "review_creation_date             0\n",
       "review_answer_timestamp          0\n",
       "dtype: int64"
      ]
     },
     "execution_count": 163,
     "metadata": {},
     "output_type": "execute_result"
    }
   ],
   "source": [
    "#checking for null values\n",
    "olist_cons.isnull().sum()"
   ]
  },
  {
   "cell_type": "code",
   "execution_count": 164,
   "id": "6f2e2ed0",
   "metadata": {
    "scrolled": true
   },
   "outputs": [
    {
     "data": {
      "text/plain": [
       "0"
      ]
     },
     "execution_count": 164,
     "metadata": {},
     "output_type": "execute_result"
    }
   ],
   "source": [
    "#checking for duplicate values\n",
    "olist_cons.duplicated().sum()"
   ]
  },
  {
   "cell_type": "code",
   "execution_count": 165,
   "id": "d6073274",
   "metadata": {
    "scrolled": false
   },
   "outputs": [
    {
     "data": {
      "text/html": [
       "<div>\n",
       "<style scoped>\n",
       "    .dataframe tbody tr th:only-of-type {\n",
       "        vertical-align: middle;\n",
       "    }\n",
       "\n",
       "    .dataframe tbody tr th {\n",
       "        vertical-align: top;\n",
       "    }\n",
       "\n",
       "    .dataframe thead th {\n",
       "        text-align: right;\n",
       "    }\n",
       "</style>\n",
       "<table border=\"1\" class=\"dataframe\">\n",
       "  <thead>\n",
       "    <tr style=\"text-align: right;\">\n",
       "      <th></th>\n",
       "      <th>order_id</th>\n",
       "      <th>customer_id</th>\n",
       "      <th>order_status</th>\n",
       "      <th>order_purchase_timestamp</th>\n",
       "      <th>order_estimated_delivery_date</th>\n",
       "      <th>order_item_id</th>\n",
       "      <th>product_id</th>\n",
       "      <th>seller_id</th>\n",
       "      <th>shipping_limit_date</th>\n",
       "      <th>price</th>\n",
       "      <th>...</th>\n",
       "      <th>customer_unique_id</th>\n",
       "      <th>customer_zip_code_prefix</th>\n",
       "      <th>customer_city</th>\n",
       "      <th>customer_state</th>\n",
       "      <th>customer_lat</th>\n",
       "      <th>customer_lng</th>\n",
       "      <th>review_id</th>\n",
       "      <th>review_score</th>\n",
       "      <th>review_creation_date</th>\n",
       "      <th>review_answer_timestamp</th>\n",
       "    </tr>\n",
       "  </thead>\n",
       "  <tbody>\n",
       "    <tr>\n",
       "      <th>0</th>\n",
       "      <td>e481f51cbdc54678b7cc49136f2d6af7</td>\n",
       "      <td>9ef432eb6251297304e76186b10a928d</td>\n",
       "      <td>delivered</td>\n",
       "      <td>2017-10-02 10:56:33</td>\n",
       "      <td>2017-10-18</td>\n",
       "      <td>1</td>\n",
       "      <td>87285b34884572647811a353c7ac498a</td>\n",
       "      <td>3504c0cb71d7fa48d967e0e4c94d59d9</td>\n",
       "      <td>2017-10-06 11:07:15</td>\n",
       "      <td>29.99</td>\n",
       "      <td>...</td>\n",
       "      <td>7c396fd4830fd04220f754e42b4e5bff</td>\n",
       "      <td>3149</td>\n",
       "      <td>sao paulo</td>\n",
       "      <td>SP</td>\n",
       "      <td>-23.577482</td>\n",
       "      <td>-46.587077</td>\n",
       "      <td>a54f0611adc9ed256b57ede6b6eb5114</td>\n",
       "      <td>4</td>\n",
       "      <td>2017-10-11 00:00:00</td>\n",
       "      <td>2017-10-12 03:43:48</td>\n",
       "    </tr>\n",
       "    <tr>\n",
       "      <th>1</th>\n",
       "      <td>128e10d95713541c87cd1a2e48201934</td>\n",
       "      <td>a20e8105f23924cd00833fd87daa0831</td>\n",
       "      <td>delivered</td>\n",
       "      <td>2017-08-15 18:29:31</td>\n",
       "      <td>2017-08-28</td>\n",
       "      <td>1</td>\n",
       "      <td>87285b34884572647811a353c7ac498a</td>\n",
       "      <td>3504c0cb71d7fa48d967e0e4c94d59d9</td>\n",
       "      <td>2017-08-21 20:05:16</td>\n",
       "      <td>29.99</td>\n",
       "      <td>...</td>\n",
       "      <td>3a51803cc0d012c3b5dc8b7528cb05f7</td>\n",
       "      <td>3366</td>\n",
       "      <td>sao paulo</td>\n",
       "      <td>SP</td>\n",
       "      <td>-23.564636</td>\n",
       "      <td>-46.534401</td>\n",
       "      <td>b46f1e34512b0f4c74a72398b03ca788</td>\n",
       "      <td>4</td>\n",
       "      <td>2017-08-19 00:00:00</td>\n",
       "      <td>2017-08-20 15:16:36</td>\n",
       "    </tr>\n",
       "    <tr>\n",
       "      <th>2</th>\n",
       "      <td>0e7e841ddf8f8f2de2bad69267ecfbcf</td>\n",
       "      <td>26c7ac168e1433912a51b924fbd34d34</td>\n",
       "      <td>delivered</td>\n",
       "      <td>2017-08-02 18:24:47</td>\n",
       "      <td>2017-08-15</td>\n",
       "      <td>1</td>\n",
       "      <td>87285b34884572647811a353c7ac498a</td>\n",
       "      <td>3504c0cb71d7fa48d967e0e4c94d59d9</td>\n",
       "      <td>2017-08-08 18:37:31</td>\n",
       "      <td>29.99</td>\n",
       "      <td>...</td>\n",
       "      <td>ef0996a1a279c26e7ecbd737be23d235</td>\n",
       "      <td>2290</td>\n",
       "      <td>sao paulo</td>\n",
       "      <td>SP</td>\n",
       "      <td>-23.600462</td>\n",
       "      <td>-46.655318</td>\n",
       "      <td>dc90f19c2806f1abba9e72ad3c350073</td>\n",
       "      <td>5</td>\n",
       "      <td>2017-08-08 00:00:00</td>\n",
       "      <td>2017-08-08 23:26:23</td>\n",
       "    </tr>\n",
       "    <tr>\n",
       "      <th>3</th>\n",
       "      <td>bfc39df4f36c3693ff3b63fcbea9e90a</td>\n",
       "      <td>53904ddbea91e1e92b2b3f1d09a7af86</td>\n",
       "      <td>delivered</td>\n",
       "      <td>2017-10-23 23:26:46</td>\n",
       "      <td>2017-11-13</td>\n",
       "      <td>1</td>\n",
       "      <td>87285b34884572647811a353c7ac498a</td>\n",
       "      <td>3504c0cb71d7fa48d967e0e4c94d59d9</td>\n",
       "      <td>2017-10-31 02:14:11</td>\n",
       "      <td>29.99</td>\n",
       "      <td>...</td>\n",
       "      <td>e781fdcc107d13d865fc7698711cc572</td>\n",
       "      <td>88032</td>\n",
       "      <td>florianopolis</td>\n",
       "      <td>SC</td>\n",
       "      <td>-27.546553</td>\n",
       "      <td>-48.497691</td>\n",
       "      <td>1bafb430e498b939f258b9c9dbdff9b1</td>\n",
       "      <td>3</td>\n",
       "      <td>2017-11-08 00:00:00</td>\n",
       "      <td>2017-11-10 19:52:38</td>\n",
       "    </tr>\n",
       "    <tr>\n",
       "      <th>4</th>\n",
       "      <td>53cdb2fc8bc7dce0b6741e2150273451</td>\n",
       "      <td>b0830fb4747a6c6d20dea0b8c802d7ef</td>\n",
       "      <td>delivered</td>\n",
       "      <td>2018-07-24 20:41:37</td>\n",
       "      <td>2018-08-13</td>\n",
       "      <td>1</td>\n",
       "      <td>595fac2a385ac33a80bd5114aec74eb8</td>\n",
       "      <td>289cdb325fb7e7f891c38608bf9e0962</td>\n",
       "      <td>2018-07-30 03:24:27</td>\n",
       "      <td>118.70</td>\n",
       "      <td>...</td>\n",
       "      <td>af07308b275d755c9edb36a90c618231</td>\n",
       "      <td>47813</td>\n",
       "      <td>barreiras</td>\n",
       "      <td>BA</td>\n",
       "      <td>-12.186877</td>\n",
       "      <td>-44.540232</td>\n",
       "      <td>8d5266042046a06655c8db133d120ba5</td>\n",
       "      <td>4</td>\n",
       "      <td>2018-08-08 00:00:00</td>\n",
       "      <td>2018-08-08 18:37:50</td>\n",
       "    </tr>\n",
       "  </tbody>\n",
       "</table>\n",
       "<p>5 rows × 34 columns</p>\n",
       "</div>"
      ],
      "text/plain": [
       "                           order_id                       customer_id  \\\n",
       "0  e481f51cbdc54678b7cc49136f2d6af7  9ef432eb6251297304e76186b10a928d   \n",
       "1  128e10d95713541c87cd1a2e48201934  a20e8105f23924cd00833fd87daa0831   \n",
       "2  0e7e841ddf8f8f2de2bad69267ecfbcf  26c7ac168e1433912a51b924fbd34d34   \n",
       "3  bfc39df4f36c3693ff3b63fcbea9e90a  53904ddbea91e1e92b2b3f1d09a7af86   \n",
       "4  53cdb2fc8bc7dce0b6741e2150273451  b0830fb4747a6c6d20dea0b8c802d7ef   \n",
       "\n",
       "  order_status order_purchase_timestamp order_estimated_delivery_date  \\\n",
       "0    delivered      2017-10-02 10:56:33                    2017-10-18   \n",
       "1    delivered      2017-08-15 18:29:31                    2017-08-28   \n",
       "2    delivered      2017-08-02 18:24:47                    2017-08-15   \n",
       "3    delivered      2017-10-23 23:26:46                    2017-11-13   \n",
       "4    delivered      2018-07-24 20:41:37                    2018-08-13   \n",
       "\n",
       "   order_item_id                        product_id  \\\n",
       "0              1  87285b34884572647811a353c7ac498a   \n",
       "1              1  87285b34884572647811a353c7ac498a   \n",
       "2              1  87285b34884572647811a353c7ac498a   \n",
       "3              1  87285b34884572647811a353c7ac498a   \n",
       "4              1  595fac2a385ac33a80bd5114aec74eb8   \n",
       "\n",
       "                          seller_id  shipping_limit_date   price  ...  \\\n",
       "0  3504c0cb71d7fa48d967e0e4c94d59d9  2017-10-06 11:07:15   29.99  ...   \n",
       "1  3504c0cb71d7fa48d967e0e4c94d59d9  2017-08-21 20:05:16   29.99  ...   \n",
       "2  3504c0cb71d7fa48d967e0e4c94d59d9  2017-08-08 18:37:31   29.99  ...   \n",
       "3  3504c0cb71d7fa48d967e0e4c94d59d9  2017-10-31 02:14:11   29.99  ...   \n",
       "4  289cdb325fb7e7f891c38608bf9e0962  2018-07-30 03:24:27  118.70  ...   \n",
       "\n",
       "                 customer_unique_id  customer_zip_code_prefix  customer_city  \\\n",
       "0  7c396fd4830fd04220f754e42b4e5bff                      3149      sao paulo   \n",
       "1  3a51803cc0d012c3b5dc8b7528cb05f7                      3366      sao paulo   \n",
       "2  ef0996a1a279c26e7ecbd737be23d235                      2290      sao paulo   \n",
       "3  e781fdcc107d13d865fc7698711cc572                     88032  florianopolis   \n",
       "4  af07308b275d755c9edb36a90c618231                     47813      barreiras   \n",
       "\n",
       "   customer_state  customer_lat  customer_lng  \\\n",
       "0              SP    -23.577482    -46.587077   \n",
       "1              SP    -23.564636    -46.534401   \n",
       "2              SP    -23.600462    -46.655318   \n",
       "3              SC    -27.546553    -48.497691   \n",
       "4              BA    -12.186877    -44.540232   \n",
       "\n",
       "                          review_id  review_score review_creation_date  \\\n",
       "0  a54f0611adc9ed256b57ede6b6eb5114             4  2017-10-11 00:00:00   \n",
       "1  b46f1e34512b0f4c74a72398b03ca788             4  2017-08-19 00:00:00   \n",
       "2  dc90f19c2806f1abba9e72ad3c350073             5  2017-08-08 00:00:00   \n",
       "3  1bafb430e498b939f258b9c9dbdff9b1             3  2017-11-08 00:00:00   \n",
       "4  8d5266042046a06655c8db133d120ba5             4  2018-08-08 00:00:00   \n",
       "\n",
       "   review_answer_timestamp  \n",
       "0      2017-10-12 03:43:48  \n",
       "1      2017-08-20 15:16:36  \n",
       "2      2017-08-08 23:26:23  \n",
       "3      2017-11-10 19:52:38  \n",
       "4      2018-08-08 18:37:50  \n",
       "\n",
       "[5 rows x 34 columns]"
      ]
     },
     "execution_count": 165,
     "metadata": {},
     "output_type": "execute_result"
    }
   ],
   "source": [
    "#reading the head of our consolidated table\n",
    "olist_cons.head()"
   ]
  },
  {
   "cell_type": "markdown",
   "id": "05716ae0",
   "metadata": {},
   "source": [
    "**Since we will be focusing on the Sales predictions we only want observations which have 'delivered' status.** Therefore will be dropping rows that have status not equal to delivered."
   ]
  },
  {
   "cell_type": "code",
   "execution_count": 166,
   "id": "847644da",
   "metadata": {},
   "outputs": [],
   "source": [
    "#this is the final dataset with only delivered orders.\n",
    "final=olist_cons.loc[olist_cons['order_status']=='delivered']"
   ]
  },
  {
   "cell_type": "code",
   "execution_count": 167,
   "id": "112b1f56",
   "metadata": {
    "scrolled": true
   },
   "outputs": [
    {
     "name": "stdout",
     "output_type": "stream",
     "text": [
      "<class 'pandas.core.frame.DataFrame'>\n",
      "Int64Index: 110013 entries, 0 to 110541\n",
      "Data columns (total 34 columns):\n",
      " #   Column                         Non-Null Count   Dtype  \n",
      "---  ------                         --------------   -----  \n",
      " 0   order_id                       110013 non-null  object \n",
      " 1   customer_id                    110013 non-null  object \n",
      " 2   order_status                   110013 non-null  object \n",
      " 3   order_purchase_timestamp       110013 non-null  object \n",
      " 4   order_estimated_delivery_date  110013 non-null  object \n",
      " 5   order_item_id                  110013 non-null  int64  \n",
      " 6   product_id                     110013 non-null  object \n",
      " 7   seller_id                      110013 non-null  object \n",
      " 8   shipping_limit_date            110013 non-null  object \n",
      " 9   price                          110013 non-null  float64\n",
      " 10  freight_value                  110013 non-null  float64\n",
      " 11  product_name_lenght            110013 non-null  float64\n",
      " 12  product_description_lenght     110013 non-null  float64\n",
      " 13  product_photos_qty             110013 non-null  float64\n",
      " 14  product_weight_g               110013 non-null  float64\n",
      " 15  product_length_cm              110013 non-null  float64\n",
      " 16  product_height_cm              110013 non-null  float64\n",
      " 17  product_width_cm               110013 non-null  float64\n",
      " 18  product_category_name_english  110013 non-null  object \n",
      " 19  seller_zip_code_prefix         110013 non-null  int64  \n",
      " 20  seller_city                    110013 non-null  object \n",
      " 21  seller_state                   110013 non-null  object \n",
      " 22  seller_lat                     110013 non-null  float64\n",
      " 23  seller_lng                     110013 non-null  float64\n",
      " 24  customer_unique_id             110013 non-null  object \n",
      " 25  customer_zip_code_prefix       110013 non-null  int64  \n",
      " 26  customer_city                  110013 non-null  object \n",
      " 27  customer_state                 110013 non-null  object \n",
      " 28  customer_lat                   110013 non-null  float64\n",
      " 29  customer_lng                   110013 non-null  float64\n",
      " 30  review_id                      110013 non-null  object \n",
      " 31  review_score                   110013 non-null  int64  \n",
      " 32  review_creation_date           110013 non-null  object \n",
      " 33  review_answer_timestamp        110013 non-null  object \n",
      "dtypes: float64(13), int64(4), object(17)\n",
      "memory usage: 29.4+ MB\n"
     ]
    }
   ],
   "source": [
    "final.info()"
   ]
  },
  {
   "cell_type": "markdown",
   "id": "fa07ce94",
   "metadata": {},
   "source": [
    "**Remioving few more columns that we don't need**"
   ]
  },
  {
   "cell_type": "code",
   "execution_count": 168,
   "id": "968d48c7",
   "metadata": {},
   "outputs": [],
   "source": [
    "#removing the redundant columns from the final dataset\n",
    "final_cleaned=final.drop(columns=['order_status', 'seller_zip_code_prefix', 'customer_zip_code_prefix', 'review_creation_date', 'review_answer_timestamp'])"
   ]
  },
  {
   "cell_type": "code",
   "execution_count": 169,
   "id": "df464c53",
   "metadata": {
    "scrolled": true
   },
   "outputs": [
    {
     "name": "stdout",
     "output_type": "stream",
     "text": [
      "<class 'pandas.core.frame.DataFrame'>\n",
      "Int64Index: 110013 entries, 0 to 110541\n",
      "Data columns (total 29 columns):\n",
      " #   Column                         Non-Null Count   Dtype  \n",
      "---  ------                         --------------   -----  \n",
      " 0   order_id                       110013 non-null  object \n",
      " 1   customer_id                    110013 non-null  object \n",
      " 2   order_purchase_timestamp       110013 non-null  object \n",
      " 3   order_estimated_delivery_date  110013 non-null  object \n",
      " 4   order_item_id                  110013 non-null  int64  \n",
      " 5   product_id                     110013 non-null  object \n",
      " 6   seller_id                      110013 non-null  object \n",
      " 7   shipping_limit_date            110013 non-null  object \n",
      " 8   price                          110013 non-null  float64\n",
      " 9   freight_value                  110013 non-null  float64\n",
      " 10  product_name_lenght            110013 non-null  float64\n",
      " 11  product_description_lenght     110013 non-null  float64\n",
      " 12  product_photos_qty             110013 non-null  float64\n",
      " 13  product_weight_g               110013 non-null  float64\n",
      " 14  product_length_cm              110013 non-null  float64\n",
      " 15  product_height_cm              110013 non-null  float64\n",
      " 16  product_width_cm               110013 non-null  float64\n",
      " 17  product_category_name_english  110013 non-null  object \n",
      " 18  seller_city                    110013 non-null  object \n",
      " 19  seller_state                   110013 non-null  object \n",
      " 20  seller_lat                     110013 non-null  float64\n",
      " 21  seller_lng                     110013 non-null  float64\n",
      " 22  customer_unique_id             110013 non-null  object \n",
      " 23  customer_city                  110013 non-null  object \n",
      " 24  customer_state                 110013 non-null  object \n",
      " 25  customer_lat                   110013 non-null  float64\n",
      " 26  customer_lng                   110013 non-null  float64\n",
      " 27  review_id                      110013 non-null  object \n",
      " 28  review_score                   110013 non-null  int64  \n",
      "dtypes: float64(13), int64(2), object(14)\n",
      "memory usage: 25.2+ MB\n"
     ]
    }
   ],
   "source": [
    "#checking info\n",
    "final_cleaned.info()"
   ]
  },
  {
   "cell_type": "markdown",
   "id": "e60f3de9",
   "metadata": {},
   "source": [
    "**Renaming the order_item_id as 'qty' as it tells us about the number of items bought**"
   ]
  },
  {
   "cell_type": "code",
   "execution_count": 170,
   "id": "26ea719c",
   "metadata": {},
   "outputs": [],
   "source": [
    "#rename the order_item_id to qty as it hold the quantity of items in each category.\n",
    "final_cleaned.rename(columns = {'order_item_id':'qty' }, inplace = True)"
   ]
  },
  {
   "cell_type": "code",
   "execution_count": 171,
   "id": "8355b94d",
   "metadata": {},
   "outputs": [],
   "source": [
    "#removing another column\n",
    "final_cleaned.drop(columns='review_id', inplace=True)"
   ]
  },
  {
   "cell_type": "code",
   "execution_count": 172,
   "id": "b87ac479",
   "metadata": {
    "scrolled": false
   },
   "outputs": [
    {
     "data": {
      "text/html": [
       "<div>\n",
       "<style scoped>\n",
       "    .dataframe tbody tr th:only-of-type {\n",
       "        vertical-align: middle;\n",
       "    }\n",
       "\n",
       "    .dataframe tbody tr th {\n",
       "        vertical-align: top;\n",
       "    }\n",
       "\n",
       "    .dataframe thead th {\n",
       "        text-align: right;\n",
       "    }\n",
       "</style>\n",
       "<table border=\"1\" class=\"dataframe\">\n",
       "  <thead>\n",
       "    <tr style=\"text-align: right;\">\n",
       "      <th></th>\n",
       "      <th>order_id</th>\n",
       "      <th>customer_id</th>\n",
       "      <th>order_purchase_timestamp</th>\n",
       "      <th>order_estimated_delivery_date</th>\n",
       "      <th>qty</th>\n",
       "      <th>product_id</th>\n",
       "      <th>seller_id</th>\n",
       "      <th>shipping_limit_date</th>\n",
       "      <th>price</th>\n",
       "      <th>freight_value</th>\n",
       "      <th>...</th>\n",
       "      <th>seller_city</th>\n",
       "      <th>seller_state</th>\n",
       "      <th>seller_lat</th>\n",
       "      <th>seller_lng</th>\n",
       "      <th>customer_unique_id</th>\n",
       "      <th>customer_city</th>\n",
       "      <th>customer_state</th>\n",
       "      <th>customer_lat</th>\n",
       "      <th>customer_lng</th>\n",
       "      <th>review_score</th>\n",
       "    </tr>\n",
       "  </thead>\n",
       "  <tbody>\n",
       "    <tr>\n",
       "      <th>0</th>\n",
       "      <td>e481f51cbdc54678b7cc49136f2d6af7</td>\n",
       "      <td>9ef432eb6251297304e76186b10a928d</td>\n",
       "      <td>2017-10-02 10:56:33</td>\n",
       "      <td>2017-10-18</td>\n",
       "      <td>1</td>\n",
       "      <td>87285b34884572647811a353c7ac498a</td>\n",
       "      <td>3504c0cb71d7fa48d967e0e4c94d59d9</td>\n",
       "      <td>2017-10-06 11:07:15</td>\n",
       "      <td>29.99</td>\n",
       "      <td>8.72</td>\n",
       "      <td>...</td>\n",
       "      <td>maua</td>\n",
       "      <td>SP</td>\n",
       "      <td>-23.680862</td>\n",
       "      <td>-46.444311</td>\n",
       "      <td>7c396fd4830fd04220f754e42b4e5bff</td>\n",
       "      <td>sao paulo</td>\n",
       "      <td>SP</td>\n",
       "      <td>-23.577482</td>\n",
       "      <td>-46.587077</td>\n",
       "      <td>4</td>\n",
       "    </tr>\n",
       "    <tr>\n",
       "      <th>1</th>\n",
       "      <td>128e10d95713541c87cd1a2e48201934</td>\n",
       "      <td>a20e8105f23924cd00833fd87daa0831</td>\n",
       "      <td>2017-08-15 18:29:31</td>\n",
       "      <td>2017-08-28</td>\n",
       "      <td>1</td>\n",
       "      <td>87285b34884572647811a353c7ac498a</td>\n",
       "      <td>3504c0cb71d7fa48d967e0e4c94d59d9</td>\n",
       "      <td>2017-08-21 20:05:16</td>\n",
       "      <td>29.99</td>\n",
       "      <td>7.78</td>\n",
       "      <td>...</td>\n",
       "      <td>maua</td>\n",
       "      <td>SP</td>\n",
       "      <td>-23.680862</td>\n",
       "      <td>-46.444311</td>\n",
       "      <td>3a51803cc0d012c3b5dc8b7528cb05f7</td>\n",
       "      <td>sao paulo</td>\n",
       "      <td>SP</td>\n",
       "      <td>-23.564636</td>\n",
       "      <td>-46.534401</td>\n",
       "      <td>4</td>\n",
       "    </tr>\n",
       "    <tr>\n",
       "      <th>2</th>\n",
       "      <td>0e7e841ddf8f8f2de2bad69267ecfbcf</td>\n",
       "      <td>26c7ac168e1433912a51b924fbd34d34</td>\n",
       "      <td>2017-08-02 18:24:47</td>\n",
       "      <td>2017-08-15</td>\n",
       "      <td>1</td>\n",
       "      <td>87285b34884572647811a353c7ac498a</td>\n",
       "      <td>3504c0cb71d7fa48d967e0e4c94d59d9</td>\n",
       "      <td>2017-08-08 18:37:31</td>\n",
       "      <td>29.99</td>\n",
       "      <td>7.78</td>\n",
       "      <td>...</td>\n",
       "      <td>maua</td>\n",
       "      <td>SP</td>\n",
       "      <td>-23.680862</td>\n",
       "      <td>-46.444311</td>\n",
       "      <td>ef0996a1a279c26e7ecbd737be23d235</td>\n",
       "      <td>sao paulo</td>\n",
       "      <td>SP</td>\n",
       "      <td>-23.600462</td>\n",
       "      <td>-46.655318</td>\n",
       "      <td>5</td>\n",
       "    </tr>\n",
       "    <tr>\n",
       "      <th>3</th>\n",
       "      <td>bfc39df4f36c3693ff3b63fcbea9e90a</td>\n",
       "      <td>53904ddbea91e1e92b2b3f1d09a7af86</td>\n",
       "      <td>2017-10-23 23:26:46</td>\n",
       "      <td>2017-11-13</td>\n",
       "      <td>1</td>\n",
       "      <td>87285b34884572647811a353c7ac498a</td>\n",
       "      <td>3504c0cb71d7fa48d967e0e4c94d59d9</td>\n",
       "      <td>2017-10-31 02:14:11</td>\n",
       "      <td>29.99</td>\n",
       "      <td>14.10</td>\n",
       "      <td>...</td>\n",
       "      <td>maua</td>\n",
       "      <td>SP</td>\n",
       "      <td>-23.680862</td>\n",
       "      <td>-46.444311</td>\n",
       "      <td>e781fdcc107d13d865fc7698711cc572</td>\n",
       "      <td>florianopolis</td>\n",
       "      <td>SC</td>\n",
       "      <td>-27.546553</td>\n",
       "      <td>-48.497691</td>\n",
       "      <td>3</td>\n",
       "    </tr>\n",
       "    <tr>\n",
       "      <th>4</th>\n",
       "      <td>53cdb2fc8bc7dce0b6741e2150273451</td>\n",
       "      <td>b0830fb4747a6c6d20dea0b8c802d7ef</td>\n",
       "      <td>2018-07-24 20:41:37</td>\n",
       "      <td>2018-08-13</td>\n",
       "      <td>1</td>\n",
       "      <td>595fac2a385ac33a80bd5114aec74eb8</td>\n",
       "      <td>289cdb325fb7e7f891c38608bf9e0962</td>\n",
       "      <td>2018-07-30 03:24:27</td>\n",
       "      <td>118.70</td>\n",
       "      <td>22.76</td>\n",
       "      <td>...</td>\n",
       "      <td>belo horizonte</td>\n",
       "      <td>SP</td>\n",
       "      <td>-19.807885</td>\n",
       "      <td>-43.980818</td>\n",
       "      <td>af07308b275d755c9edb36a90c618231</td>\n",
       "      <td>barreiras</td>\n",
       "      <td>BA</td>\n",
       "      <td>-12.186877</td>\n",
       "      <td>-44.540232</td>\n",
       "      <td>4</td>\n",
       "    </tr>\n",
       "  </tbody>\n",
       "</table>\n",
       "<p>5 rows × 28 columns</p>\n",
       "</div>"
      ],
      "text/plain": [
       "                           order_id                       customer_id  \\\n",
       "0  e481f51cbdc54678b7cc49136f2d6af7  9ef432eb6251297304e76186b10a928d   \n",
       "1  128e10d95713541c87cd1a2e48201934  a20e8105f23924cd00833fd87daa0831   \n",
       "2  0e7e841ddf8f8f2de2bad69267ecfbcf  26c7ac168e1433912a51b924fbd34d34   \n",
       "3  bfc39df4f36c3693ff3b63fcbea9e90a  53904ddbea91e1e92b2b3f1d09a7af86   \n",
       "4  53cdb2fc8bc7dce0b6741e2150273451  b0830fb4747a6c6d20dea0b8c802d7ef   \n",
       "\n",
       "  order_purchase_timestamp order_estimated_delivery_date  qty  \\\n",
       "0      2017-10-02 10:56:33                    2017-10-18    1   \n",
       "1      2017-08-15 18:29:31                    2017-08-28    1   \n",
       "2      2017-08-02 18:24:47                    2017-08-15    1   \n",
       "3      2017-10-23 23:26:46                    2017-11-13    1   \n",
       "4      2018-07-24 20:41:37                    2018-08-13    1   \n",
       "\n",
       "                         product_id                         seller_id  \\\n",
       "0  87285b34884572647811a353c7ac498a  3504c0cb71d7fa48d967e0e4c94d59d9   \n",
       "1  87285b34884572647811a353c7ac498a  3504c0cb71d7fa48d967e0e4c94d59d9   \n",
       "2  87285b34884572647811a353c7ac498a  3504c0cb71d7fa48d967e0e4c94d59d9   \n",
       "3  87285b34884572647811a353c7ac498a  3504c0cb71d7fa48d967e0e4c94d59d9   \n",
       "4  595fac2a385ac33a80bd5114aec74eb8  289cdb325fb7e7f891c38608bf9e0962   \n",
       "\n",
       "   shipping_limit_date   price  freight_value  ...     seller_city  \\\n",
       "0  2017-10-06 11:07:15   29.99           8.72  ...            maua   \n",
       "1  2017-08-21 20:05:16   29.99           7.78  ...            maua   \n",
       "2  2017-08-08 18:37:31   29.99           7.78  ...            maua   \n",
       "3  2017-10-31 02:14:11   29.99          14.10  ...            maua   \n",
       "4  2018-07-30 03:24:27  118.70          22.76  ...  belo horizonte   \n",
       "\n",
       "   seller_state  seller_lat  seller_lng                customer_unique_id  \\\n",
       "0            SP  -23.680862  -46.444311  7c396fd4830fd04220f754e42b4e5bff   \n",
       "1            SP  -23.680862  -46.444311  3a51803cc0d012c3b5dc8b7528cb05f7   \n",
       "2            SP  -23.680862  -46.444311  ef0996a1a279c26e7ecbd737be23d235   \n",
       "3            SP  -23.680862  -46.444311  e781fdcc107d13d865fc7698711cc572   \n",
       "4            SP  -19.807885  -43.980818  af07308b275d755c9edb36a90c618231   \n",
       "\n",
       "   customer_city  customer_state customer_lat customer_lng review_score  \n",
       "0      sao paulo              SP   -23.577482   -46.587077            4  \n",
       "1      sao paulo              SP   -23.564636   -46.534401            4  \n",
       "2      sao paulo              SP   -23.600462   -46.655318            5  \n",
       "3  florianopolis              SC   -27.546553   -48.497691            3  \n",
       "4      barreiras              BA   -12.186877   -44.540232            4  \n",
       "\n",
       "[5 rows x 28 columns]"
      ]
     },
     "execution_count": 172,
     "metadata": {},
     "output_type": "execute_result"
    }
   ],
   "source": [
    "final_cleaned.head()"
   ]
  },
  {
   "cell_type": "markdown",
   "id": "536fd735",
   "metadata": {},
   "source": [
    "**We have learnt from the Kaggel website that the total order value is calculated using qty and price. Since price tells us about the unit price, the total order value= qty* price.**"
   ]
  },
  {
   "cell_type": "markdown",
   "id": "5056c185",
   "metadata": {},
   "source": [
    "#### Creating column total_amount"
   ]
  },
  {
   "cell_type": "code",
   "execution_count": 173,
   "id": "de4d09f1",
   "metadata": {},
   "outputs": [],
   "source": [
    "#creating column total_amount\n",
    "final_cleaned['total_amount']=final_cleaned['qty']*final_cleaned['price']"
   ]
  },
  {
   "cell_type": "code",
   "execution_count": 174,
   "id": "b6d61bae",
   "metadata": {
    "scrolled": true
   },
   "outputs": [
    {
     "name": "stdout",
     "output_type": "stream",
     "text": [
      "<class 'pandas.core.frame.DataFrame'>\n",
      "Int64Index: 110013 entries, 0 to 110541\n",
      "Data columns (total 29 columns):\n",
      " #   Column                         Non-Null Count   Dtype  \n",
      "---  ------                         --------------   -----  \n",
      " 0   order_id                       110013 non-null  object \n",
      " 1   customer_id                    110013 non-null  object \n",
      " 2   order_purchase_timestamp       110013 non-null  object \n",
      " 3   order_estimated_delivery_date  110013 non-null  object \n",
      " 4   qty                            110013 non-null  int64  \n",
      " 5   product_id                     110013 non-null  object \n",
      " 6   seller_id                      110013 non-null  object \n",
      " 7   shipping_limit_date            110013 non-null  object \n",
      " 8   price                          110013 non-null  float64\n",
      " 9   freight_value                  110013 non-null  float64\n",
      " 10  product_name_lenght            110013 non-null  float64\n",
      " 11  product_description_lenght     110013 non-null  float64\n",
      " 12  product_photos_qty             110013 non-null  float64\n",
      " 13  product_weight_g               110013 non-null  float64\n",
      " 14  product_length_cm              110013 non-null  float64\n",
      " 15  product_height_cm              110013 non-null  float64\n",
      " 16  product_width_cm               110013 non-null  float64\n",
      " 17  product_category_name_english  110013 non-null  object \n",
      " 18  seller_city                    110013 non-null  object \n",
      " 19  seller_state                   110013 non-null  object \n",
      " 20  seller_lat                     110013 non-null  float64\n",
      " 21  seller_lng                     110013 non-null  float64\n",
      " 22  customer_unique_id             110013 non-null  object \n",
      " 23  customer_city                  110013 non-null  object \n",
      " 24  customer_state                 110013 non-null  object \n",
      " 25  customer_lat                   110013 non-null  float64\n",
      " 26  customer_lng                   110013 non-null  float64\n",
      " 27  review_score                   110013 non-null  int64  \n",
      " 28  total_amount                   110013 non-null  float64\n",
      "dtypes: float64(14), int64(2), object(13)\n",
      "memory usage: 25.2+ MB\n"
     ]
    }
   ],
   "source": [
    "final_cleaned.info()"
   ]
  },
  {
   "cell_type": "markdown",
   "id": "f5c40e19",
   "metadata": {},
   "source": [
    "Now that we have our final data wireframe ready, we will go ahead and save this to folder data_cleaned for furthr processing in our next notebook"
   ]
  },
  {
   "cell_type": "code",
   "execution_count": 175,
   "id": "aa8c3bf2",
   "metadata": {},
   "outputs": [],
   "source": [
    "final_cleaned.to_csv('data_cleaned/master_dataset.csv', index=False)"
   ]
  },
  {
   "cell_type": "markdown",
   "id": "ed63ce5b",
   "metadata": {},
   "source": [
    "## 5. Scraping holiday data\n",
    "\n",
    "<a id = 'scraping' ></a>"
   ]
  },
  {
   "cell_type": "markdown",
   "id": "926c16f6",
   "metadata": {},
   "source": [
    "Since, we will be predicting sales amount we need to collect Holiday information to help our model in understanding impacts of holidays.\n",
    "We will be doing a simple scape to collect the Brazilian National Holiday information from this website: https://www.officeholidays.com/countries/brazil/\n",
    "\n",
    "We can append the above URL with 2017 and 2018 to get the pages with holiday information for year 2017 and 2018."
   ]
  },
  {
   "cell_type": "code",
   "execution_count": 176,
   "id": "322ba7a7",
   "metadata": {},
   "outputs": [],
   "source": [
    "# For web scraping (the requests package allows you to send HTTP requests using Python)\n",
    "import requests\n",
    "from bs4 import BeautifulSoup\n",
    "\n",
    "# For performing regex operations\n",
    "import re\n",
    "\n",
    "# For adding delays so that we don't spam requests\n",
    "import time"
   ]
  },
  {
   "cell_type": "code",
   "execution_count": 177,
   "id": "aa2248d2",
   "metadata": {},
   "outputs": [],
   "source": [
    "#define empty dictionary to save content\n",
    "content={}\n",
    "\n",
    "#scaping holiday information for pages 2017 and 2018\n",
    "for i in [2017, 2018]:\n",
    "    url = 'https://www.officeholidays.com/countries/brazil/'\n",
    "    url = url+str(i)\n",
    "    response = requests.get(url)\n",
    "    soup = BeautifulSoup(response.content)\n",
    "    content[i]=soup.find_all('time')"
   ]
  },
  {
   "cell_type": "code",
   "execution_count": 178,
   "id": "0bda65ef",
   "metadata": {},
   "outputs": [],
   "source": [
    "#extracting Holiday information from the scarpped data\n",
    "#empty list\n",
    "holidays=[]\n",
    "for key in content:\n",
    "    dict_size=len(content[key])\n",
    "    dict_val=content[key]\n",
    "    for j in range(0,dict_size):\n",
    "        holidays.append(dict_val[j].attrs['datetime'])"
   ]
  },
  {
   "cell_type": "code",
   "execution_count": 179,
   "id": "5dd877f8",
   "metadata": {},
   "outputs": [],
   "source": [
    "#creating a dataframe for the holiday information\n",
    "\n",
    "holidays_df=pd.DataFrame(index=[holidays], data=np.ones(len(holidays)), columns=['is_holiday'])"
   ]
  },
  {
   "cell_type": "code",
   "execution_count": 180,
   "id": "5c5a4bd3",
   "metadata": {
    "scrolled": true
   },
   "outputs": [
    {
     "data": {
      "text/html": [
       "<div>\n",
       "<style scoped>\n",
       "    .dataframe tbody tr th:only-of-type {\n",
       "        vertical-align: middle;\n",
       "    }\n",
       "\n",
       "    .dataframe tbody tr th {\n",
       "        vertical-align: top;\n",
       "    }\n",
       "\n",
       "    .dataframe thead th {\n",
       "        text-align: right;\n",
       "    }\n",
       "</style>\n",
       "<table border=\"1\" class=\"dataframe\">\n",
       "  <thead>\n",
       "    <tr style=\"text-align: right;\">\n",
       "      <th></th>\n",
       "      <th>is_holiday</th>\n",
       "    </tr>\n",
       "  </thead>\n",
       "  <tbody>\n",
       "    <tr>\n",
       "      <th>2017-01-01</th>\n",
       "      <td>1.0</td>\n",
       "    </tr>\n",
       "    <tr>\n",
       "      <th>2017-02-27</th>\n",
       "      <td>1.0</td>\n",
       "    </tr>\n",
       "    <tr>\n",
       "      <th>2017-02-28</th>\n",
       "      <td>1.0</td>\n",
       "    </tr>\n",
       "    <tr>\n",
       "      <th>2017-03-01</th>\n",
       "      <td>1.0</td>\n",
       "    </tr>\n",
       "    <tr>\n",
       "      <th>2017-04-14</th>\n",
       "      <td>1.0</td>\n",
       "    </tr>\n",
       "  </tbody>\n",
       "</table>\n",
       "</div>"
      ],
      "text/plain": [
       "            is_holiday\n",
       "2017-01-01         1.0\n",
       "2017-02-27         1.0\n",
       "2017-02-28         1.0\n",
       "2017-03-01         1.0\n",
       "2017-04-14         1.0"
      ]
     },
     "execution_count": 180,
     "metadata": {},
     "output_type": "execute_result"
    }
   ],
   "source": [
    "holidays_df.head()"
   ]
  },
  {
   "cell_type": "code",
   "execution_count": 181,
   "id": "f94067fd",
   "metadata": {
    "scrolled": true
   },
   "outputs": [
    {
     "name": "stdout",
     "output_type": "stream",
     "text": [
      "<class 'pandas.core.frame.DataFrame'>\n",
      "MultiIndex: 36 entries, ('2017-01-01',) to ('2018-12-25',)\n",
      "Data columns (total 1 columns):\n",
      " #   Column      Non-Null Count  Dtype  \n",
      "---  ------      --------------  -----  \n",
      " 0   is_holiday  36 non-null     float64\n",
      "dtypes: float64(1)\n",
      "memory usage: 1.7+ KB\n"
     ]
    }
   ],
   "source": [
    "holidays_df.info()"
   ]
  },
  {
   "cell_type": "markdown",
   "id": "ba86584c",
   "metadata": {},
   "source": [
    "This dataframe has only one column 'is_holiday' which is one meaning it is an holiday. The index are the dates of the holiday.\n",
    "\n",
    "**These dates are for year 2017 and 2018. The index is not continuous, these are just the holiday dates. We have saved the data like this so that we can use it for time series.**"
   ]
  },
  {
   "cell_type": "code",
   "execution_count": 182,
   "id": "0093ffd5",
   "metadata": {},
   "outputs": [],
   "source": [
    "#saving the holiday dataframe as csv file\n",
    "holidays_df.to_csv('data_cleaned/holiday.csv')"
   ]
  }
 ],
 "metadata": {
  "kernelspec": {
   "display_name": "capstone_env",
   "language": "python",
   "name": "capstone_env"
  },
  "language_info": {
   "codemirror_mode": {
    "name": "ipython",
    "version": 3
   },
   "file_extension": ".py",
   "mimetype": "text/x-python",
   "name": "python",
   "nbconvert_exporter": "python",
   "pygments_lexer": "ipython3",
   "version": "3.8.16"
  }
 },
 "nbformat": 4,
 "nbformat_minor": 5
}
